{
  "nbformat": 4,
  "nbformat_minor": 0,
  "metadata": {
    "kernelspec": {
      "display_name": "Python 3",
      "language": "python",
      "name": "python3"
    },
    "language_info": {
      "codemirror_mode": {
        "name": "ipython",
        "version": 3
      },
      "file_extension": ".py",
      "mimetype": "text/x-python",
      "name": "python",
      "nbconvert_exporter": "python",
      "pygments_lexer": "ipython3",
      "version": "3.7.3"
    },
    "colab": {
      "name": "5-nn-imdb.ipynb",
      "provenance": [],
      "machine_shape": "hm"
    },
    "accelerator": "GPU"
  },
  "cells": [
    {
      "cell_type": "markdown",
      "metadata": {
        "id": "2ScfOilm9K6M"
      },
      "source": [
        "This lesson was adapted from the end of [lesson 3](https://course.fast.ai/videos/?lesson=3) and beginning of [lesson 4](https://course.fast.ai/videos/?lesson=4) of the latest fast.ai Practical Deep Learning for Coders course.  We will cover all the material you need here in this notebook, so no need to have taken the Deep Learning course.  Even if you have taken the DL class, we will go slower and get into more detail here!"
      ]
    },
    {
      "cell_type": "markdown",
      "metadata": {
        "id": "vYs9U9Vm9K6N"
      },
      "source": [
        "# Transfer Learning for Natural Language Modeling\n",
        "### Contructing a Language Model and a Sentiment Classifier for IMDB movie reviews"
      ]
    },
    {
      "cell_type": "markdown",
      "metadata": {
        "id": "Fq0UzboY9K6O"
      },
      "source": [
        "Transfer learning has been widely used with great success in computer vision for several years, but only in the last year or so has it been successfully applied to NLP (beginning with ULMFit, which we will use here, which was built upon by BERT and GPT-2).\n",
        "\n",
        "As Sebastian Ruder wrote in [The Gradient](https://thegradient.pub/) last summer, [NLP's ImageNet moment has arrived](https://thegradient.pub/nlp-imagenet/).\n",
        "\n",
        "We will first build a language model for IMDB movie reviews.  Next we will build a sentiment classifier, which will predict whether a review is negative or positive, based on its text. For both of these tasks, we will use **transfer learning**. Starting with the pre-trained weights from the `wikitext-103` language model, we will tune these weights to specialize to the language of `IMDb` movie reviews. "
      ]
    },
    {
      "cell_type": "markdown",
      "metadata": {
        "heading_collapsed": true,
        "id": "2iYu4bLR9K6O"
      },
      "source": [
        "## Language Models"
      ]
    },
    {
      "cell_type": "markdown",
      "metadata": {
        "hidden": true,
        "id": "vI557z9U9K6O"
      },
      "source": [
        "Language modeling can be a fun creative form. Research scientist [Janelle Shane blogs](https://aiweirdness.com/) & [tweets](https://twitter.com/JanelleCShane) about her creative AI explorations, which often involve text.  For instance, see her:\n",
        "\n",
        "- [Why did the neural network cross the road?](https://aiweirdness.com/post/174691534037/why-did-the-neural-network-cross-the-road)\n",
        "- [Try these neural network-generated recipes at your own risk.](https://aiweirdness.com/post/163878889437/try-these-neural-network-generated-recipes-at-your)\n",
        "- [D&D character bios - now making slightly more sense](https://aiweirdness.com/post/183471928977/dd-character-bios-now-making-slightly-more)"
      ]
    },
    {
      "cell_type": "markdown",
      "metadata": {
        "id": "gshvQySe9K6P"
      },
      "source": [
        "## Using a GPU"
      ]
    },
    {
      "cell_type": "markdown",
      "metadata": {
        "id": "5UeIRBqu9K6P"
      },
      "source": [
        "You will need to have the fastai library installed for this lesson, and you will want to use a GPU to train your neural net.  If you don't have a GPU you can use in your computer (currently, only Nvidia GPUs are fully supported by the main deep learning libraries), no worries!  There are a number of cloud options you can consider:\n",
        "\n",
        "[GPU Cloud Options](https://course.fast.ai/#using-a-gpu)\n",
        "\n",
        "**Reminder: If you are using a cloud GPU, always be sure to shut it down when you are done!!! Otherwise, you could end up with an expensive bill!**"
      ]
    },
    {
      "cell_type": "code",
      "metadata": {
        "id": "mzfUau7k9K6P"
      },
      "source": [
        "%reload_ext autoreload\n",
        "%autoreload 2\n",
        "%matplotlib inline"
      ],
      "execution_count": 2,
      "outputs": []
    },
    {
      "cell_type": "code",
      "metadata": {
        "id": "ib2nJ_w39K6P"
      },
      "source": [
        "from fastai import *\n",
        "from fastai.text import *\n",
        "from scipy.spatial.distance import cosine as dist"
      ],
      "execution_count": 3,
      "outputs": []
    },
    {
      "cell_type": "markdown",
      "metadata": {
        "id": "dNvx2R039K6Q"
      },
      "source": [
        "Note that language models can use a lot of GPU, so you may need to decrease batchsize here."
      ]
    },
    {
      "cell_type": "code",
      "metadata": {
        "id": "FTaz0Rum9K6Q"
      },
      "source": [
        "# bs=192\n",
        "bs=48\n",
        "# bs=24"
      ],
      "execution_count": 4,
      "outputs": []
    },
    {
      "cell_type": "markdown",
      "metadata": {
        "id": "tpCRWa5H9K6Q"
      },
      "source": [
        "### Fix this line: should be `device(0)` instead of `device(2)`"
      ]
    },
    {
      "cell_type": "code",
      "metadata": {
        "id": "lzFOnqzN9K6Q"
      },
      "source": [
        "#torch.cuda.set_device(2)\n",
        "torch.cuda.set_device(0)"
      ],
      "execution_count": 5,
      "outputs": []
    },
    {
      "cell_type": "markdown",
      "metadata": {
        "heading_collapsed": true,
        "id": "OpjS3_TP9K6Q"
      },
      "source": [
        "## 1. Prepare the IMDb data (on a sample)"
      ]
    },
    {
      "cell_type": "markdown",
      "metadata": {
        "hidden": true,
        "id": "YE3PJEbG9K6R"
      },
      "source": [
        "First let's download the dataset we are going to study. The `IMDb` [dataset](http://ai.stanford.edu/~amaas/data/sentiment/) has been curated by Andrew Maas et al. and contains a total of 100,000 reviews on IMDB. 25,000 of them are labelled as positive and negative for training, another 25,000 are labelled for testing (in both cases they are highly polarized). The remaning 50,000 is an additional unlabelled data (but we will find a use for it nonetheless).\n",
        "\n",
        "We'll begin with a sample we've prepared for you, so that things run quickly before going over the full dataset."
      ]
    },
    {
      "cell_type": "code",
      "metadata": {
        "hidden": true,
        "colab": {
          "base_uri": "https://localhost:8080/",
          "height": 51
        },
        "id": "JRBqlwQS9K6R",
        "outputId": "b5347701-1319-4ebb-d1cb-3778a006253e"
      },
      "source": [
        "path = untar_data(URLs.IMDB_SAMPLE)\n",
        "path.ls()"
      ],
      "execution_count": 6,
      "outputs": [
        {
          "output_type": "stream",
          "text": [
            "Downloading http://files.fast.ai/data/examples/imdb_sample.tgz\n"
          ],
          "name": "stdout"
        },
        {
          "output_type": "display_data",
          "data": {
            "text/html": [
              ""
            ],
            "text/plain": [
              "<IPython.core.display.HTML object>"
            ]
          },
          "metadata": {
            "tags": []
          }
        },
        {
          "output_type": "execute_result",
          "data": {
            "text/plain": [
              "[PosixPath('/root/.fastai/data/imdb_sample/texts.csv')]"
            ]
          },
          "metadata": {
            "tags": []
          },
          "execution_count": 6
        }
      ]
    },
    {
      "cell_type": "markdown",
      "metadata": {
        "hidden": true,
        "id": "m8NShfgM9K6S"
      },
      "source": [
        "It only contains one csv file, let's have a look at it."
      ]
    },
    {
      "cell_type": "markdown",
      "metadata": {
        "hidden": true,
        "id": "i9JC9Hgs9K6S"
      },
      "source": [
        "It contains one line per review, with the label ('negative' or 'positive'), the text and a flag to determine if it should be part of the validation set or the training set. If we ignore this flag, we can create a `DataBunch` containing this data in one line of code:"
      ]
    },
    {
      "cell_type": "markdown",
      "metadata": {
        "id": "yQy-6PQd9K6S"
      },
      "source": [
        "### Load and preprocess the data and form a `databunch`\n",
        "Add workaround for the bug in the `fastai Text API`"
      ]
    },
    {
      "cell_type": "code",
      "metadata": {
        "hidden": true,
        "colab": {
          "base_uri": "https://localhost:8080/",
          "height": 85
        },
        "id": "XSk2kUNl9K6S",
        "outputId": "f100fea2-ad7a-4535-e6ad-2c03ae29427e"
      },
      "source": [
        "%%time\n",
        "\n",
        "# throws `BrokenProcessPool' Error sometimes. Keep trying `till it works!\n",
        "count = 0\n",
        "error = True\n",
        "while error:\n",
        "    try: \n",
        "        # Preprocessing steps\n",
        "        data_lm = TextDataBunch.from_csv(path, 'texts.csv')\n",
        "        error = False\n",
        "        print(f'failure count is {count}\\n')    \n",
        "    except: # catch *all* exceptions\n",
        "        # accumulate failure count\n",
        "        count = count + 1\n",
        "        print(f'failure count is {count}')"
      ],
      "execution_count": 7,
      "outputs": [
        {
          "output_type": "display_data",
          "data": {
            "text/html": [
              ""
            ],
            "text/plain": [
              "<IPython.core.display.HTML object>"
            ]
          },
          "metadata": {
            "tags": []
          }
        },
        {
          "output_type": "display_data",
          "data": {
            "text/html": [
              ""
            ],
            "text/plain": [
              "<IPython.core.display.HTML object>"
            ]
          },
          "metadata": {
            "tags": []
          }
        },
        {
          "output_type": "stream",
          "text": [
            "failure count is 0\n",
            "\n",
            "CPU times: user 371 ms, sys: 78.9 ms, total: 449 ms\n",
            "Wall time: 2.37 s\n"
          ],
          "name": "stdout"
        }
      ]
    },
    {
      "cell_type": "markdown",
      "metadata": {
        "hidden": true,
        "id": "PM0cYbXF9K6T"
      },
      "source": [
        "By executing this line a process was launched that took a bit of time. Let's dig a bit into it. Images could be fed (almost) directly into a model because they're just a big array of pixel values that are floats between 0 and 1. A text is composed of words, and we can't apply mathematical functions to them directly. We first have to convert them to numbers. This is done in two differents steps: tokenization and numericalization. A `TextDataBunch` does all of that behind the scenes for you."
      ]
    },
    {
      "cell_type": "markdown",
      "metadata": {
        "heading_collapsed": true,
        "hidden": true,
        "id": "FP2xoMp39K6T"
      },
      "source": [
        "### Tokenization"
      ]
    },
    {
      "cell_type": "markdown",
      "metadata": {
        "hidden": true,
        "id": "X2XoSRtH9K6T"
      },
      "source": [
        "The first step of processing we make texts go through is to split the raw sentences into words, or more exactly tokens. The easiest way to do this would be to split the string on spaces, but we can be smarter:\n",
        "\n",
        "- we need to take care of punctuation\n",
        "- some words are contractions of two different words, like isn't or don't\n",
        "- we may need to clean some parts of our texts, if there's HTML code for instance\n",
        "\n",
        "To see what the tokenizer had done behind the scenes, let's have a look at a few texts in a batch."
      ]
    },
    {
      "cell_type": "markdown",
      "metadata": {
        "hidden": true,
        "id": "XEreStQA9K6U"
      },
      "source": [
        "The texts are truncated at 100 tokens for more readability. We can see that it did more than just split on space and punctuation symbols: \n",
        "- the \"'s\" are grouped together in one token\n",
        "- the contractions are separated like his: \"did\", \"n't\"\n",
        "- content has been cleaned for any HTML symbol and lower cased\n",
        "- there are several special tokens (all those that begin by xx), to replace unkown tokens (see below) or to introduce different text fields (here we only have one)."
      ]
    },
    {
      "cell_type": "markdown",
      "metadata": {
        "heading_collapsed": true,
        "hidden": true,
        "id": "VnYOyqfP9K6U"
      },
      "source": [
        "### Numericalization"
      ]
    },
    {
      "cell_type": "markdown",
      "metadata": {
        "hidden": true,
        "id": "njMqaT-H9K6U"
      },
      "source": [
        "Once we have extracted tokens from our texts, we convert to integers by creating a list of all the words used. We only keep the ones that appear at least twice with a maximum vocabulary size of 60,000 (by default) and replace the ones that don't make the cut by the unknown token `UNK`.\n",
        "\n",
        "The correspondance from ids tokens is stored in the `vocab` attribute of our datasets, in a dictionary called `itos` (for int to string)."
      ]
    },
    {
      "cell_type": "code",
      "metadata": {
        "hidden": true,
        "colab": {
          "base_uri": "https://localhost:8080/"
        },
        "id": "Y91xs5WR9K6U",
        "outputId": "1c8b63df-cd8d-4170-a1ec-af3d11a75eae"
      },
      "source": [
        "data_lm.vocab.itos[:10]"
      ],
      "execution_count": 8,
      "outputs": [
        {
          "output_type": "execute_result",
          "data": {
            "text/plain": [
              "['xxunk',\n",
              " 'xxpad',\n",
              " 'xxbos',\n",
              " 'xxeos',\n",
              " 'xxfld',\n",
              " 'xxmaj',\n",
              " 'xxup',\n",
              " 'xxrep',\n",
              " 'xxwrep',\n",
              " 'the']"
            ]
          },
          "metadata": {
            "tags": []
          },
          "execution_count": 8
        }
      ]
    },
    {
      "cell_type": "markdown",
      "metadata": {
        "hidden": true,
        "id": "ZyQj9gpI9K6V"
      },
      "source": [
        "And if we look at what a what's in our datasets, we'll see the tokenized text as a representation:"
      ]
    },
    {
      "cell_type": "code",
      "metadata": {
        "hidden": true,
        "id": "EBofvrNf9K6V"
      },
      "source": [
        "data_lm"
      ],
      "execution_count": null,
      "outputs": []
    },
    {
      "cell_type": "markdown",
      "metadata": {
        "hidden": true,
        "id": "rdskQzrz9K6V"
      },
      "source": [
        "But the underlying data is all numbers"
      ]
    },
    {
      "cell_type": "code",
      "metadata": {
        "hidden": true,
        "colab": {
          "base_uri": "https://localhost:8080/"
        },
        "id": "ikO2NrmK9K6V",
        "outputId": "589ab601-8d66-441c-fac9-183c178f4c1c"
      },
      "source": [
        "data_lm.train_ds[0][0].data[:10]"
      ],
      "execution_count": 28,
      "outputs": [
        {
          "output_type": "execute_result",
          "data": {
            "text/plain": [
              "array([   2,   13,  315, 1256,   27, 1845,   36,    9,  933,   15])"
            ]
          },
          "metadata": {
            "tags": []
          },
          "execution_count": 28
        }
      ]
    },
    {
      "cell_type": "markdown",
      "metadata": {
        "heading_collapsed": true,
        "hidden": true,
        "id": "2pAQ4GwP9K6W"
      },
      "source": [
        "### Alternative approach: with the `data block API`"
      ]
    },
    {
      "cell_type": "markdown",
      "metadata": {
        "hidden": true,
        "id": "LZ2vuYrZ9K6W"
      },
      "source": [
        "We can use the data block API with NLP and have a lot more flexibility than what the default factory methods offer. In the previous example for instance, the data was randomly split between train and validation instead of reading the third column of the csv.\n",
        "\n",
        "With the data block API though, we have to manually call the tokenize and numericalize steps. This allows more flexibility, and if you're not using the defaults from fastai, the various arguments to pass will appear in the step they're revelant, so it'll be more readable."
      ]
    },
    {
      "cell_type": "markdown",
      "metadata": {
        "id": "OQSaKvpd9K6W"
      },
      "source": [
        "### Load and preprocess the data and form a `datablock`\n",
        "Add workaround for the bug in the `fastai Text API`"
      ]
    },
    {
      "cell_type": "code",
      "metadata": {
        "hidden": true,
        "colab": {
          "base_uri": "https://localhost:8080/",
          "height": 85
        },
        "id": "JlCu0qjP9K6X",
        "outputId": "6eda7fc6-96bd-4fee-a3e5-84615ea808d0"
      },
      "source": [
        "%%time\n",
        "\n",
        "# throws `BrokenProcessPool' Error sometimes. Keep trying `till it works!\n",
        "count = 0\n",
        "error = True\n",
        "while error:\n",
        "    try: \n",
        "        # Preprocessing steps\n",
        "        data = (TextList.from_csv(path, 'texts.csv', cols='text')\n",
        "                .split_from_df(col=2)\n",
        "                .label_from_df(cols=0)\n",
        "                .databunch())        \n",
        "        error = False\n",
        "        print(f'failure count is {count}\\n')    \n",
        "    except: # catch *all* exceptions\n",
        "        # accumulate failure count\n",
        "        count = count + 1\n",
        "        print(f'failure count is {count}')"
      ],
      "execution_count": 29,
      "outputs": [
        {
          "output_type": "display_data",
          "data": {
            "text/html": [
              ""
            ],
            "text/plain": [
              "<IPython.core.display.HTML object>"
            ]
          },
          "metadata": {
            "tags": []
          }
        },
        {
          "output_type": "display_data",
          "data": {
            "text/html": [
              ""
            ],
            "text/plain": [
              "<IPython.core.display.HTML object>"
            ]
          },
          "metadata": {
            "tags": []
          }
        },
        {
          "output_type": "stream",
          "text": [
            "failure count is 0\n",
            "\n",
            "CPU times: user 281 ms, sys: 74.7 ms, total: 356 ms\n",
            "Wall time: 2.15 s\n"
          ],
          "name": "stdout"
        }
      ]
    },
    {
      "cell_type": "markdown",
      "metadata": {
        "id": "Kl6nwIHS9K6X"
      },
      "source": [
        "## 2. Transfer Learning <br>\n",
        "### We are going to create an `IMDb` language model starting with the pretrained weights from the `wikitext-103` language model."
      ]
    },
    {
      "cell_type": "markdown",
      "metadata": {
        "id": "joThFZEN9K6X"
      },
      "source": [
        "Now let's grab the full `IMDb` dataset for what follows."
      ]
    },
    {
      "cell_type": "code",
      "metadata": {
        "colab": {
          "base_uri": "https://localhost:8080/",
          "height": 153
        },
        "id": "A2j8oQcH9K6Y",
        "outputId": "d4a2c7ea-4516-4e5f-bf19-b441b474d71e"
      },
      "source": [
        "path = untar_data(URLs.IMDB)\n",
        "path.ls()"
      ],
      "execution_count": 30,
      "outputs": [
        {
          "output_type": "stream",
          "text": [
            "Downloading https://s3.amazonaws.com/fast-ai-nlp/imdb.tgz\n"
          ],
          "name": "stdout"
        },
        {
          "output_type": "display_data",
          "data": {
            "text/html": [
              ""
            ],
            "text/plain": [
              "<IPython.core.display.HTML object>"
            ]
          },
          "metadata": {
            "tags": []
          }
        },
        {
          "output_type": "execute_result",
          "data": {
            "text/plain": [
              "[PosixPath('/root/.fastai/data/imdb/train'),\n",
              " PosixPath('/root/.fastai/data/imdb/unsup'),\n",
              " PosixPath('/root/.fastai/data/imdb/tmp_lm'),\n",
              " PosixPath('/root/.fastai/data/imdb/imdb.vocab'),\n",
              " PosixPath('/root/.fastai/data/imdb/tmp_clas'),\n",
              " PosixPath('/root/.fastai/data/imdb/test'),\n",
              " PosixPath('/root/.fastai/data/imdb/README')]"
            ]
          },
          "metadata": {
            "tags": []
          },
          "execution_count": 30
        }
      ]
    },
    {
      "cell_type": "code",
      "metadata": {
        "colab": {
          "base_uri": "https://localhost:8080/"
        },
        "id": "6zRFyOc29K6Y",
        "outputId": "05f6cf0f-7808-4251-8498-107c001be169"
      },
      "source": [
        "(path/'train').ls()"
      ],
      "execution_count": 31,
      "outputs": [
        {
          "output_type": "execute_result",
          "data": {
            "text/plain": [
              "[PosixPath('/root/.fastai/data/imdb/train/pos'),\n",
              " PosixPath('/root/.fastai/data/imdb/train/neg'),\n",
              " PosixPath('/root/.fastai/data/imdb/train/labeledBow.feat'),\n",
              " PosixPath('/root/.fastai/data/imdb/train/unsupBow.feat')]"
            ]
          },
          "metadata": {
            "tags": []
          },
          "execution_count": 31
        }
      ]
    },
    {
      "cell_type": "markdown",
      "metadata": {
        "id": "itIEek4r9K6Y"
      },
      "source": [
        "The reviews are in a training and test set following an imagenet structure. The only difference is that there is an `unsup` folder in `train` that contains the unlabelled data.\n",
        "\n",
        "We're not going to train a model that classifies the reviews from scratch. Like in computer vision, we'll use a model pretrained on a bigger dataset (a cleaned subset of wikipedia called [wikitext-103](https://s3.amazonaws.com/research.metamind.io/wikitext/wikitext-103-v1.zip)). That model has been trained to guess what the next word, its input being all the previous words. It has a recurrent structure and a hidden state that is updated each time it sees a new word. This hidden state thus contains information about the sentence up to that point.\n",
        "\n",
        "We are going to use that 'knowledge' of the English language to build our classifier, but first, like for computer vision, we need to fine-tune the pretrained model to our particular dataset. Because the English of the reviews left by people on IMDB isn't the same as the English of wikipedia, we'll need to adjust a little bit the parameters of our model. Plus there might be some words extremely common in that dataset that were barely present in wikipedia, and therefore might not be part of the vocabulary the model was trained on."
      ]
    },
    {
      "cell_type": "markdown",
      "metadata": {
        "heading_collapsed": true,
        "id": "oTPeDpdl9K6Y"
      },
      "source": [
        "### More about WikiText-103"
      ]
    },
    {
      "cell_type": "markdown",
      "metadata": {
        "hidden": true,
        "id": "9DrIhvFL9K6f"
      },
      "source": [
        "We will be using the `WikiText-103` dataset created by [Stephen Merity](https://smerity.com/) to pre-train a language model.\n",
        "\n",
        "To quote [Stephen's post](https://blog.einstein.ai/the-wikitext-long-term-dependency-language-modeling-dataset/):\n",
        "\n",
        "*The WikiText language modeling dataset is a collection of over 100 million tokens extracted from the set of verified Good and Featured articles on Wikipedia. The dataset is available under the Creative Commons Attribution-ShareAlike License.*\n",
        "\n",
        "*Compared to the preprocessed version of Penn Treebank (PTB), WikiText-2 is over 2 times larger and WikiText-103 is over 110 times larger. The WikiText dataset also features a far larger vocabulary and retains the original case, punctuation and numbers - all of which are removed in PTB. As it is composed of full articles, the dataset is well suited for models that can take advantage of long term dependencies.*"
      ]
    },
    {
      "cell_type": "markdown",
      "metadata": {
        "id": "zDlcN1X69K6f"
      },
      "source": [
        "[Download wikitext-103](https://s3.amazonaws.com/research.metamind.io/wikitext/wikitext-103-v1.zip). Unzip it into the `.fastai/data/` folder on your computer."
      ]
    },
    {
      "cell_type": "markdown",
      "metadata": {
        "heading_collapsed": true,
        "id": "QF_TsJCR9K6f"
      },
      "source": [
        "### 2A. Package the `IMDb` data into a language model `databunch`"
      ]
    },
    {
      "cell_type": "markdown",
      "metadata": {
        "hidden": true,
        "id": "vAM_6uU59K6g"
      },
      "source": [
        "This is where the unlabelled data is going to be useful to us, as we can use it to fine-tune our model. Let's create our data object with the data block API (this takes a few minutes).\n",
        "\n",
        "We'll to use a special kind of `TextDataBunch` for the language model, that ignores the labels (that's why we put 0 everywhere), will shuffle the texts at each epoch before concatenating them all together (only for training; we don't shuffle for the validation set) and will send batches that read that text in order with targets that are the next word in the sentence.\n",
        "\n",
        "Add a `try-except` wrapper as a workaround for the bug in the `fastai Text API`"
      ]
    },
    {
      "cell_type": "code",
      "metadata": {
        "hidden": true,
        "colab": {
          "base_uri": "https://localhost:8080/"
        },
        "id": "WhDYfj339K6g",
        "outputId": "414b3a15-32c8-4597-f0cb-1d0be28a99bc"
      },
      "source": [
        "%%time\n",
        "\n",
        "# throws `BrokenProcessPool` Error sometimes. Keep trying `till it works!\n",
        "count = 0\n",
        "error = True\n",
        "while error:\n",
        "    try: \n",
        "        # Preprocessing steps\n",
        "        data_lm = (TextList.from_folder(path)\n",
        "           #Inputs: all the text files in path\n",
        "            .filter_by_folder(include=['train', 'test', 'unsup']) \n",
        "           # notebook 3-logreg-nb-imbd used .split_by_folder instead of .filter_by_folder\n",
        "            # and this took less time to run. Can we do the same here?\n",
        "           #We may have other temp folders that contain text files so we only keep what's in train and test\n",
        "            .split_by_rand_pct(0.1, seed=42))\n",
        "           #We randomly split and keep 10% (10,000 reviews) for validation\n",
        "            #.label_for_lm()           \n",
        "           #We want to make a language model so we label accordingly\n",
        "            #.databunch(bs=bs, num_workers=1))\n",
        "        error = False\n",
        "        print(f'failure count is {count}\\n')    \n",
        "    except: # catch *all* exceptions\n",
        "        # accumulate failure count\n",
        "        count = count + 1\n",
        "        print(f'failure count is {count}')"
      ],
      "execution_count": 38,
      "outputs": [
        {
          "output_type": "stream",
          "text": [
            "failure count is 0\n",
            "\n",
            "CPU times: user 1.29 s, sys: 48.1 ms, total: 1.33 s\n",
            "Wall time: 1.33 s\n"
          ],
          "name": "stdout"
        }
      ]
    },
    {
      "cell_type": "markdown",
      "metadata": {
        "id": "FUboKd8m9K6g"
      },
      "source": [
        "#### I got faster results when I do the last two steps in a separate cell:"
      ]
    },
    {
      "cell_type": "code",
      "metadata": {
        "colab": {
          "base_uri": "https://localhost:8080/",
          "height": 85
        },
        "id": "JV-48lSK9K6g",
        "outputId": "e5297c23-7133-46a2-a901-224d18f58cbf"
      },
      "source": [
        "%%time\n",
        "\n",
        "# throws `BrokenProcessPool' Error sometimes. Keep trying `till it works!\n",
        "count = 0\n",
        "error = True\n",
        "while error:\n",
        "    try: \n",
        "        # Preprocessing steps\n",
        "        #     the next step is the bottleneck\n",
        "        data_lm = (data_lm.label_for_lm()           \n",
        "           #We want to make a language model so we label accordingly\n",
        "            .databunch(bs=bs, num_workers=1))\n",
        "        error = False\n",
        "        print(f'failure count is {count}\\n')    \n",
        "    except: # catch *all* exceptions\n",
        "        # accumulate failure count\n",
        "        count = count + 1\n",
        "        print(f'failure count is {count}')"
      ],
      "execution_count": 39,
      "outputs": [
        {
          "output_type": "display_data",
          "data": {
            "text/html": [
              ""
            ],
            "text/plain": [
              "<IPython.core.display.HTML object>"
            ]
          },
          "metadata": {
            "tags": []
          }
        },
        {
          "output_type": "display_data",
          "data": {
            "text/html": [
              ""
            ],
            "text/plain": [
              "<IPython.core.display.HTML object>"
            ]
          },
          "metadata": {
            "tags": []
          }
        },
        {
          "output_type": "stream",
          "text": [
            "failure count is 0\n",
            "\n",
            "CPU times: user 15.9 s, sys: 3.86 s, total: 19.7 s\n",
            "Wall time: 1min 31s\n"
          ],
          "name": "stdout"
        }
      ]
    },
    {
      "cell_type": "code",
      "metadata": {
        "hidden": true,
        "scrolled": true,
        "colab": {
          "base_uri": "https://localhost:8080/"
        },
        "id": "hCA9aRnX9K6g",
        "outputId": "81951c7c-75fd-4032-b1b2-3029a971d99c"
      },
      "source": [
        "len(data_lm.vocab.itos),len(data_lm.train_ds)"
      ],
      "execution_count": 32,
      "outputs": [
        {
          "output_type": "execute_result",
          "data": {
            "text/plain": [
              "(8952, 799)"
            ]
          },
          "metadata": {
            "tags": []
          },
          "execution_count": 32
        }
      ]
    },
    {
      "cell_type": "code",
      "metadata": {
        "hidden": true,
        "colab": {
          "base_uri": "https://localhost:8080/",
          "height": 374
        },
        "id": "tOY8wFBv9K6h",
        "outputId": "dac16b5f-94fc-4827-f3ef-ae1874b82d24"
      },
      "source": [
        "data_lm.show_batch()"
      ],
      "execution_count": 33,
      "outputs": [
        {
          "output_type": "stream",
          "text": [
            "/usr/local/lib/python3.6/dist-packages/fastai/text/data.py:339: UserWarning: This overload of nonzero is deprecated:\n",
            "\tnonzero()\n",
            "Consider using one of the following signatures instead:\n",
            "\tnonzero(*, bool as_tuple) (Triggered internally at  /pytorch/torch/csrc/utils/python_arg_parser.cpp:882.)\n",
            "  idx_min = (t != self.pad_idx).nonzero().min()\n"
          ],
          "name": "stderr"
        },
        {
          "output_type": "display_data",
          "data": {
            "text/html": [
              "<table border=\"1\" class=\"dataframe\">\n",
              "  <thead>\n",
              "    <tr style=\"text-align: right;\">\n",
              "      <th>text</th>\n",
              "      <th>target</th>\n",
              "    </tr>\n",
              "  </thead>\n",
              "  <tbody>\n",
              "    <tr>\n",
              "      <td>xxbos xxmaj raising xxmaj victor xxmaj vargas : a xxmaj review \\n \\n  xxmaj you know , xxmaj raising xxmaj victor xxmaj vargas is like sticking your hands into a big , steaming bowl of xxunk . xxmaj it 's warm and gooey , but you 're not sure if it feels right . xxmaj try as i might , no matter how warm and gooey xxmaj raising xxmaj</td>\n",
              "      <td>negative</td>\n",
              "    </tr>\n",
              "    <tr>\n",
              "      <td>xxbos xxup the xxup shop xxup around xxup the xxup corner is one of the sweetest and most feel - good romantic comedies ever made . xxmaj there 's just no getting around that , and it 's hard to actually put one 's feeling for this film into words . xxmaj it 's not one of those films that tries too hard , nor does it come up with</td>\n",
              "      <td>positive</td>\n",
              "    </tr>\n",
              "    <tr>\n",
              "      <td>xxbos xxmaj now that xxmaj che(2008 ) has finished its relatively short xxmaj australian cinema run ( extremely limited xxunk screen in xxmaj sydney , after xxunk ) , i can xxunk join both xxunk of \" xxmaj at xxmaj the xxmaj movies \" in taking xxmaj steven xxmaj soderbergh to task . \\n \\n  xxmaj it 's usually satisfying to watch a film director change his style /</td>\n",
              "      <td>negative</td>\n",
              "    </tr>\n",
              "    <tr>\n",
              "      <td>xxbos xxmaj this film sat on my xxmaj tivo for weeks before i watched it . i dreaded a self - indulgent xxunk flick about relationships gone bad . i was wrong ; this was an xxunk xxunk into the screwed - up xxunk of xxmaj new xxmaj xxunk . \\n \\n  xxmaj the format is the same as xxmaj max xxmaj xxunk ' \" xxmaj la xxmaj ronde</td>\n",
              "      <td>positive</td>\n",
              "    </tr>\n",
              "    <tr>\n",
              "      <td>xxbos xxmaj many xxunk that this is n't just a classic due to the fact that it 's the first xxup 3d game , or even the first xxunk - up . xxmaj it 's also one of the first stealth games , one of the xxunk definitely the first ) truly claustrophobic games , and just a pretty well - xxunk gaming experience in general . xxmaj with graphics</td>\n",
              "      <td>positive</td>\n",
              "    </tr>\n",
              "  </tbody>\n",
              "</table>"
            ],
            "text/plain": [
              "<IPython.core.display.HTML object>"
            ]
          },
          "metadata": {
            "tags": []
          }
        }
      ]
    },
    {
      "cell_type": "markdown",
      "metadata": {
        "hidden": true,
        "id": "lRoZoM1H9K6h"
      },
      "source": [
        "#### Save the `databunch` for next time."
      ]
    },
    {
      "cell_type": "code",
      "metadata": {
        "id": "iKXjrNdK9K6h"
      },
      "source": [
        "data_lm.save('lm_databunch')"
      ],
      "execution_count": 40,
      "outputs": []
    },
    {
      "cell_type": "markdown",
      "metadata": {
        "id": "8MZHJXmU9K6i"
      },
      "source": [
        "#### Load the saved data"
      ]
    },
    {
      "cell_type": "code",
      "metadata": {
        "id": "loDpaq3A9K6i"
      },
      "source": [
        "data_lm = load_data(path, 'lm_databunch', bs=bs)"
      ],
      "execution_count": 41,
      "outputs": []
    },
    {
      "cell_type": "markdown",
      "metadata": {
        "id": "px3WmO6d9K6i"
      },
      "source": [
        "### 2B. The **Transfer Learning** step.\n",
        "#### This is where the magic happens!\n",
        "#### The `AWD_LSTM` object contains the pretrained weights and the neural net architecture of the `wikitext-103` language model. These will be downloaded the first time you execute the following line, and stored in `~/.fastai/models/` (or elsewhere if you specified different paths in your config file). \n",
        "\n",
        "We import these into the `language_model_learner` object for our `IMDb` language model as follows:"
      ]
    },
    {
      "cell_type": "code",
      "metadata": {
        "scrolled": true,
        "colab": {
          "base_uri": "https://localhost:8080/",
          "height": 34
        },
        "id": "MPqmIr_59K6i",
        "outputId": "9307d2b9-7c6c-4a6a-e482-10391155f484"
      },
      "source": [
        "learn_lm = language_model_learner(data_lm, AWD_LSTM, drop_mult=0.3)"
      ],
      "execution_count": 42,
      "outputs": [
        {
          "output_type": "stream",
          "text": [
            "Downloading https://s3.amazonaws.com/fast-ai-modelzoo/wt103-fwd.tgz\n"
          ],
          "name": "stdout"
        },
        {
          "output_type": "display_data",
          "data": {
            "text/html": [
              ""
            ],
            "text/plain": [
              "<IPython.core.display.HTML object>"
            ]
          },
          "metadata": {
            "tags": []
          }
        }
      ]
    },
    {
      "cell_type": "markdown",
      "metadata": {
        "id": "snoLT9zR9K6i"
      },
      "source": [
        "#### Get the `IMDb` language model `vocabulary`"
      ]
    },
    {
      "cell_type": "code",
      "metadata": {
        "id": "SZU2JODs9K6i"
      },
      "source": [
        "vocab = data_lm.vocab"
      ],
      "execution_count": 43,
      "outputs": []
    },
    {
      "cell_type": "code",
      "metadata": {
        "colab": {
          "base_uri": "https://localhost:8080/"
        },
        "id": "F2URbBIU9K6i",
        "outputId": "08c6ff78-b140-4306-c2b6-9b479833d7a4"
      },
      "source": [
        "vocab.stoi[\"stingray\"]"
      ],
      "execution_count": 44,
      "outputs": [
        {
          "output_type": "execute_result",
          "data": {
            "text/plain": [
              "35757"
            ]
          },
          "metadata": {
            "tags": []
          },
          "execution_count": 44
        }
      ]
    },
    {
      "cell_type": "code",
      "metadata": {
        "colab": {
          "base_uri": "https://localhost:8080/",
          "height": 35
        },
        "id": "7Yc2HZ3_9K6j",
        "outputId": "45119369-5009-42ee-c342-d2a73c0fd462"
      },
      "source": [
        "vocab.itos[vocab.stoi[\"stingray\"]]"
      ],
      "execution_count": 45,
      "outputs": [
        {
          "output_type": "execute_result",
          "data": {
            "application/vnd.google.colaboratory.intrinsic+json": {
              "type": "string"
            },
            "text/plain": [
              "'stingray'"
            ]
          },
          "metadata": {
            "tags": []
          },
          "execution_count": 45
        }
      ]
    },
    {
      "cell_type": "code",
      "metadata": {
        "colab": {
          "base_uri": "https://localhost:8080/",
          "height": 35
        },
        "id": "lCCeq3Pd9K6j",
        "outputId": "35d63978-4ea1-4d02-b96f-f1fa50765508"
      },
      "source": [
        "vocab.itos[vocab.stoi[\"mobula\"]]"
      ],
      "execution_count": 46,
      "outputs": [
        {
          "output_type": "execute_result",
          "data": {
            "application/vnd.google.colaboratory.intrinsic+json": {
              "type": "string"
            },
            "text/plain": [
              "'xxunk'"
            ]
          },
          "metadata": {
            "tags": []
          },
          "execution_count": 46
        }
      ]
    },
    {
      "cell_type": "code",
      "metadata": {
        "id": "XCNn3MWc9K6j"
      },
      "source": [
        "awd = learn_lm.model[0]"
      ],
      "execution_count": 47,
      "outputs": []
    },
    {
      "cell_type": "markdown",
      "metadata": {
        "id": "oqSsYEh-9K6j"
      },
      "source": [
        "#### Get the `IMDb` language model `encoder`. Recall that the `encoder` translates tokens into numerical vectors in the space defined by the `IMDb` vocabulary."
      ]
    },
    {
      "cell_type": "code",
      "metadata": {
        "id": "_3OYngdB9K6j"
      },
      "source": [
        "enc = learn_lm.model[0].encoder"
      ],
      "execution_count": 48,
      "outputs": []
    },
    {
      "cell_type": "code",
      "metadata": {
        "colab": {
          "base_uri": "https://localhost:8080/"
        },
        "id": "YXPUKJ-O9K6j",
        "outputId": "ea616607-faed-45cb-9a2e-eb1b474fb70e"
      },
      "source": [
        "enc.weight.size()"
      ],
      "execution_count": 49,
      "outputs": [
        {
          "output_type": "execute_result",
          "data": {
            "text/plain": [
              "torch.Size([60000, 400])"
            ]
          },
          "metadata": {
            "tags": []
          },
          "execution_count": 49
        }
      ]
    },
    {
      "cell_type": "markdown",
      "metadata": {
        "heading_collapsed": true,
        "id": "CNaOuiER9K6j"
      },
      "source": [
        "#### Difference in vocabulary between IMDB and Wikipedia language models"
      ]
    },
    {
      "cell_type": "markdown",
      "metadata": {
        "hidden": true,
        "id": "_4pNO-UP9K6k"
      },
      "source": [
        "We are going to load `wiki_itos` (the index-to-string list) from the `wikitext 103` language model.  We will compare the vocabularies of `wikitext-103` and `IMDB`.  It is to be expected that the two sets have some different vocabulary words, and that is no problem for transfer learning!"
      ]
    },
    {
      "cell_type": "code",
      "metadata": {
        "id": "1OTo-4KI9K6k"
      },
      "source": [
        "#wiki_itos = pickle.load(open(Config().model_path()/'wt103-1/itos_wt103.pkl', 'rb'))\n",
        "wiki_itos = pickle.load(open(Config().model_path()/'wt103-fwd/itos_wt103.pkl', 'rb'))"
      ],
      "execution_count": 50,
      "outputs": []
    },
    {
      "cell_type": "code",
      "metadata": {
        "scrolled": true,
        "colab": {
          "base_uri": "https://localhost:8080/"
        },
        "id": "B2AmbILM9K6k",
        "outputId": "b7ab0518-041f-4b10-cc5e-da9514453194"
      },
      "source": [
        "wiki_itos[:10]"
      ],
      "execution_count": 51,
      "outputs": [
        {
          "output_type": "execute_result",
          "data": {
            "text/plain": [
              "['xxunk',\n",
              " 'xxpad',\n",
              " 'xxbos',\n",
              " 'xxeos',\n",
              " 'xxfld',\n",
              " 'xxmaj',\n",
              " 'xxup',\n",
              " 'xxrep',\n",
              " 'xxwrep',\n",
              " 'the']"
            ]
          },
          "metadata": {
            "tags": []
          },
          "execution_count": 51
        }
      ]
    },
    {
      "cell_type": "code",
      "metadata": {
        "hidden": true,
        "colab": {
          "base_uri": "https://localhost:8080/"
        },
        "id": "1l-JllgC9K6k",
        "outputId": "7fee90e0-ff6a-4c01-ad48-4d3a2b09d18d"
      },
      "source": [
        "len(wiki_itos)"
      ],
      "execution_count": 52,
      "outputs": [
        {
          "output_type": "execute_result",
          "data": {
            "text/plain": [
              "60000"
            ]
          },
          "metadata": {
            "tags": []
          },
          "execution_count": 52
        }
      ]
    },
    {
      "cell_type": "code",
      "metadata": {
        "hidden": true,
        "colab": {
          "base_uri": "https://localhost:8080/"
        },
        "id": "kuJLCEK79K6k",
        "outputId": "b03f7ca1-dc86-4ebf-9278-4cfb769a98c9"
      },
      "source": [
        "len(vocab.itos)"
      ],
      "execution_count": 53,
      "outputs": [
        {
          "output_type": "execute_result",
          "data": {
            "text/plain": [
              "60000"
            ]
          },
          "metadata": {
            "tags": []
          },
          "execution_count": 53
        }
      ]
    },
    {
      "cell_type": "code",
      "metadata": {
        "hidden": true,
        "id": "r2H0AcnJ9K6k"
      },
      "source": [
        "i, unks = 0, []\n",
        "while len(unks) < 50:\n",
        "    if data_lm.vocab.itos[i] not in wiki_itos: unks.append((i,data_lm.vocab.itos[i]))\n",
        "    i += 1"
      ],
      "execution_count": 55,
      "outputs": []
    },
    {
      "cell_type": "code",
      "metadata": {
        "hidden": true,
        "id": "6mGRSHRN9K6l"
      },
      "source": [
        "wiki_words = set(wiki_itos)"
      ],
      "execution_count": 56,
      "outputs": []
    },
    {
      "cell_type": "code",
      "metadata": {
        "hidden": true,
        "id": "M2yD2Il79K6l"
      },
      "source": [
        "imdb_words = set(vocab.itos)"
      ],
      "execution_count": 57,
      "outputs": []
    },
    {
      "cell_type": "code",
      "metadata": {
        "hidden": true,
        "id": "mHGXxqAw9K6l"
      },
      "source": [
        "wiki_not_imbdb = wiki_words.difference(imdb_words)"
      ],
      "execution_count": 58,
      "outputs": []
    },
    {
      "cell_type": "code",
      "metadata": {
        "hidden": true,
        "id": "fw3McGdk9K6l"
      },
      "source": [
        "imdb_not_wiki = imdb_words.difference(wiki_words)"
      ],
      "execution_count": 59,
      "outputs": []
    },
    {
      "cell_type": "code",
      "metadata": {
        "hidden": true,
        "id": "TM3wN0dC9K6l"
      },
      "source": [
        "wiki_not_imdb_list = []\n",
        "\n",
        "for i in range(100):\n",
        "    word = wiki_not_imbdb.pop()\n",
        "    wiki_not_imdb_list.append(word)\n",
        "    wiki_not_imbdb.add(word)"
      ],
      "execution_count": 61,
      "outputs": []
    },
    {
      "cell_type": "code",
      "metadata": {
        "hidden": true,
        "scrolled": true,
        "colab": {
          "base_uri": "https://localhost:8080/"
        },
        "id": "-rDbpO2x9K6l",
        "outputId": "9f6b91fb-268a-477a-8253-0fdaf3787387"
      },
      "source": [
        "wiki_not_imdb_list[:15]"
      ],
      "execution_count": 62,
      "outputs": [
        {
          "output_type": "execute_result",
          "data": {
            "text/plain": [
              "['dipper',\n",
              " 'glc',\n",
              " 'pareles',\n",
              " 'fimbriata',\n",
              " '்',\n",
              " 'rouen',\n",
              " 'macfie',\n",
              " '0.59',\n",
              " 'sérurier',\n",
              " 'chevaliers',\n",
              " '1536',\n",
              " 'tostig',\n",
              " 'comptroller',\n",
              " 'cimon',\n",
              " 'brawled']"
            ]
          },
          "metadata": {
            "tags": []
          },
          "execution_count": 62
        }
      ]
    },
    {
      "cell_type": "code",
      "metadata": {
        "hidden": true,
        "id": "9J1SYLwi9K6l"
      },
      "source": [
        "imdb_not_wiki_list = []\n",
        "\n",
        "for i in range(100):\n",
        "    word = imdb_not_wiki.pop()\n",
        "    imdb_not_wiki_list.append(word)\n",
        "    imdb_not_wiki.add(word)"
      ],
      "execution_count": 63,
      "outputs": []
    },
    {
      "cell_type": "code",
      "metadata": {
        "hidden": true,
        "colab": {
          "base_uri": "https://localhost:8080/"
        },
        "id": "erPNf-779K6l",
        "outputId": "ffb4a8b9-ba05-4dec-8890-ac48b0191126"
      },
      "source": [
        "imdb_not_wiki_list[:15]"
      ],
      "execution_count": 64,
      "outputs": [
        {
          "output_type": "execute_result",
          "data": {
            "text/plain": [
              "['banes',\n",
              " 'vilest',\n",
              " 'dansu',\n",
              " 'vcds',\n",
              " 'gals',\n",
              " 'w.c.',\n",
              " 'akki',\n",
              " 'there--',\n",
              " 'trintignant',\n",
              " 'marxes',\n",
              " 'liotta',\n",
              " 'rawness',\n",
              " 'lovecraftian',\n",
              " 'redcoats',\n",
              " 'timmer']"
            ]
          },
          "metadata": {
            "tags": []
          },
          "execution_count": 64
        }
      ]
    },
    {
      "cell_type": "markdown",
      "metadata": {
        "hidden": true,
        "id": "FLAKE_s29K6m"
      },
      "source": [
        "All words that appear in the `IMDB` vocab, but not the `wikitext-103` vocab, will be initialized to the same random vector in a model.  As the model trains, we will learn their weights."
      ]
    },
    {
      "cell_type": "code",
      "metadata": {
        "hidden": true,
        "colab": {
          "base_uri": "https://localhost:8080/"
        },
        "id": "r61IG0bu9K6m",
        "outputId": "f0f7b1d7-f8bd-46bb-d1a4-c85c0c1c947d"
      },
      "source": [
        "vocab.stoi[\"modernisation\"]"
      ],
      "execution_count": 65,
      "outputs": [
        {
          "output_type": "execute_result",
          "data": {
            "text/plain": [
              "0"
            ]
          },
          "metadata": {
            "tags": []
          },
          "execution_count": 65
        }
      ]
    },
    {
      "cell_type": "code",
      "metadata": {
        "hidden": true,
        "colab": {
          "base_uri": "https://localhost:8080/"
        },
        "id": "e-ZsjOQn9K6m",
        "outputId": "99555380-0dd0-475f-d3cb-9f646873cbc2"
      },
      "source": [
        "\"modernisation\" in wiki_words"
      ],
      "execution_count": 66,
      "outputs": [
        {
          "output_type": "execute_result",
          "data": {
            "text/plain": [
              "True"
            ]
          },
          "metadata": {
            "tags": []
          },
          "execution_count": 66
        }
      ]
    },
    {
      "cell_type": "code",
      "metadata": {
        "hidden": true,
        "colab": {
          "base_uri": "https://localhost:8080/"
        },
        "id": "W56wa2rg9K6m",
        "outputId": "7b9eea36-35df-455f-9890-54d92d5cf267"
      },
      "source": [
        "vocab.stoi[\"30-something\"]"
      ],
      "execution_count": 67,
      "outputs": [
        {
          "output_type": "execute_result",
          "data": {
            "text/plain": [
              "26597"
            ]
          },
          "metadata": {
            "tags": []
          },
          "execution_count": 67
        }
      ]
    },
    {
      "cell_type": "code",
      "metadata": {
        "hidden": true,
        "colab": {
          "base_uri": "https://localhost:8080/"
        },
        "id": "QMReiean9K6n",
        "outputId": "791391cb-848e-464f-a816-d8f918957b7a"
      },
      "source": [
        "\"30-something\" in wiki_words, \"30-something\" in imdb_words"
      ],
      "execution_count": 68,
      "outputs": [
        {
          "output_type": "execute_result",
          "data": {
            "text/plain": [
              "(False, True)"
            ]
          },
          "metadata": {
            "tags": []
          },
          "execution_count": 68
        }
      ]
    },
    {
      "cell_type": "code",
      "metadata": {
        "hidden": true,
        "colab": {
          "base_uri": "https://localhost:8080/"
        },
        "id": "q5cFLqiT9K6n",
        "outputId": "7a1f2ad9-1a84-424e-b594-a4cae9d03944"
      },
      "source": [
        "vocab.stoi[\"linklater\"]"
      ],
      "execution_count": 69,
      "outputs": [
        {
          "output_type": "execute_result",
          "data": {
            "text/plain": [
              "17645"
            ]
          },
          "metadata": {
            "tags": []
          },
          "execution_count": 69
        }
      ]
    },
    {
      "cell_type": "code",
      "metadata": {
        "hidden": true,
        "colab": {
          "base_uri": "https://localhost:8080/"
        },
        "id": "REy6zexB9K6n",
        "outputId": "26c7ba6a-4091-48a2-a94b-4bd5f6013c4c"
      },
      "source": [
        "\"linklater\" in wiki_words, \"linklater\" in imdb_words"
      ],
      "execution_count": 70,
      "outputs": [
        {
          "output_type": "execute_result",
          "data": {
            "text/plain": [
              "(False, True)"
            ]
          },
          "metadata": {
            "tags": []
          },
          "execution_count": 70
        }
      ]
    },
    {
      "cell_type": "code",
      "metadata": {
        "hidden": true,
        "scrolled": true,
        "colab": {
          "base_uri": "https://localhost:8080/"
        },
        "id": "Doe4sfaU9K6n",
        "outputId": "bbf0e103-71ce-43ff-abe8-b5131d0aa077"
      },
      "source": [
        "\"house\" in wiki_words, \"house\" in imdb_words"
      ],
      "execution_count": 71,
      "outputs": [
        {
          "output_type": "execute_result",
          "data": {
            "text/plain": [
              "(True, True)"
            ]
          },
          "metadata": {
            "tags": []
          },
          "execution_count": 71
        }
      ]
    },
    {
      "cell_type": "code",
      "metadata": {
        "hidden": true,
        "id": "WZ_p8Oc09K6n"
      },
      "source": [
        "np.allclose(enc.weight[vocab.stoi[\"30-something\"], :], \n",
        "            enc.weight[vocab.stoi[\"linklater\"], :])"
      ],
      "execution_count": null,
      "outputs": []
    },
    {
      "cell_type": "code",
      "metadata": {
        "hidden": true,
        "id": "fFWjtgRB9K6o"
      },
      "source": [
        "np.allclose(enc.weight[vocab.stoi[\"30-something\"], :], \n",
        "            enc.weight[vocab.stoi[\"house\"], :])"
      ],
      "execution_count": null,
      "outputs": []
    },
    {
      "cell_type": "code",
      "metadata": {
        "hidden": true,
        "id": "eu6S38869K6o"
      },
      "source": [
        "new_word_vec = enc.weight[vocab.stoi[\"linklater\"], :]"
      ],
      "execution_count": 75,
      "outputs": []
    },
    {
      "cell_type": "markdown",
      "metadata": {
        "heading_collapsed": true,
        "id": "QYj-GjDL9K6o"
      },
      "source": [
        "#### Generating fake movie review-like text with the **untrained** `IMDb` language model"
      ]
    },
    {
      "cell_type": "code",
      "metadata": {
        "hidden": true,
        "id": "gluQQTf29K6o"
      },
      "source": [
        "TEXT = \"The color of the sky is\"\n",
        "N_WORDS = 40\n",
        "N_SENTENCES = 2"
      ],
      "execution_count": 76,
      "outputs": []
    },
    {
      "cell_type": "code",
      "metadata": {
        "hidden": true,
        "scrolled": false,
        "colab": {
          "base_uri": "https://localhost:8080/"
        },
        "id": "-eo2GFX-9K6o",
        "outputId": "134a3f66-f681-4ee0-8d83-31bb594a0aea"
      },
      "source": [
        "print(\"\\n\".join(learn_lm.predict(TEXT, N_WORDS, temperature=0.75) for _ in range(N_SENTENCES)))"
      ],
      "execution_count": 77,
      "outputs": [
        {
          "output_type": "stream",
          "text": [
            "The color of the sky is black , with the Black Sabbath 's bright blue color and the black eyes being white . Black - and - white is also used to denote the medium to the attention of people . The\n",
            "The color of the sky is a matter of reference . In the 1960s , the use of the red light was used to refer to the latter . In 1924 , the English astronomer Ellen Page thought that the light\n"
          ],
          "name": "stdout"
        }
      ]
    },
    {
      "cell_type": "code",
      "metadata": {
        "hidden": true,
        "id": "ixqpt0q-9K6p"
      },
      "source": [
        "TEXT = \"I hated this movie\"\n",
        "N_WORDS = 30\n",
        "N_SENTENCES = 2"
      ],
      "execution_count": 78,
      "outputs": []
    },
    {
      "cell_type": "code",
      "metadata": {
        "hidden": true,
        "colab": {
          "base_uri": "https://localhost:8080/"
        },
        "id": "qZkMhakX9K6p",
        "outputId": "f4ee7725-dd9b-4d80-e3a4-5c736278973b"
      },
      "source": [
        "print(\"\\n\".join(learn_lm.predict(TEXT, N_WORDS, temperature=0.75) for _ in range(N_SENTENCES)))"
      ],
      "execution_count": 79,
      "outputs": [
        {
          "output_type": "stream",
          "text": [
            "I hated this movie . The English film writer Charles Dickens listed Vanessa Tyler as the antagonist , Dorothy Parker in the Queen Mother\n",
            "I hated this movie in India for , \" i ' m not a film director , \" it 's a text that i can ' t say , it 's out of\n"
          ],
          "name": "stdout"
        }
      ]
    },
    {
      "cell_type": "code",
      "metadata": {
        "hidden": true,
        "scrolled": true,
        "colab": {
          "base_uri": "https://localhost:8080/"
        },
        "id": "FiS39FiH9K6p",
        "outputId": "77fff382-1f51-40cd-d330-a30ca4399bda"
      },
      "source": [
        "print(\"\\n\".join(learn_lm.predict(TEXT, N_WORDS, temperature=0.75) for _ in range(N_SENTENCES)))"
      ],
      "execution_count": 80,
      "outputs": [
        {
          "output_type": "stream",
          "text": [
            "I hated this movie ? , and said that it was not a joke . Although not a film , it was a popular film . The film was released in 1998\n",
            "I hated this movie . When the film was shown , there was a number of critics watching it . Some of them met with a positive responses , but others were\n"
          ],
          "name": "stdout"
        }
      ]
    },
    {
      "cell_type": "code",
      "metadata": {
        "hidden": true,
        "colab": {
          "base_uri": "https://localhost:8080/",
          "height": 190
        },
        "id": "-xPelG909K6q",
        "outputId": "8573cf4b-0a82-44ce-c965-0c84dc268432"
      },
      "source": [
        "doc(LanguageLearner.predict)"
      ],
      "execution_count": 81,
      "outputs": [
        {
          "output_type": "display_data",
          "data": {
            "text/html": [
              "<h4 id=\"LanguageLearner.predict\" class=\"doc_header\"><code>predict</code><a href=\"https://github.com/fastai/fastai/blob/master/fastai/text/learner.py#L120\" class=\"source_link\" style=\"float:right\">[source]</a><a class=\"source_link\" data-toggle=\"collapse\" data-target=\"#LanguageLearner-predict-pytest\" style=\"float:right; padding-right:10px\">[test]</a></h4><blockquote><p><code>predict</code>(<strong><code>text</code></strong>:<code>str</code>, <strong><code>n_words</code></strong>:<code>int</code>=<strong><em><code>1</code></em></strong>, <strong><code>no_unk</code></strong>:<code>bool</code>=<strong><em><code>True</code></em></strong>, <strong><code>temperature</code></strong>:<code>float</code>=<strong><em><code>1.0</code></em></strong>, <strong><code>min_p</code></strong>:<code>float</code>=<strong><em><code>None</code></em></strong>, <strong><code>sep</code></strong>:<code>str</code>=<strong><em><code>' '</code></em></strong>, <strong><code>decoder</code></strong>=<strong><em><code>'decode_spec_tokens'</code></em></strong>)</p>\n",
              "</blockquote>\n",
              "<div class=\"collapse\" id=\"LanguageLearner-predict-pytest\"><div class=\"card card-body pytest_card\"><a type=\"button\" data-toggle=\"collapse\" data-target=\"#LanguageLearner-predict-pytest\" class=\"close\" aria-label=\"Close\"><span aria-hidden=\"true\">&times;</span></a><p>No tests found for <code>predict</code>. To contribute a test please refer to <a href=\"/dev/test.html\">this guide</a> and <a href=\"https://forums.fast.ai/t/improving-expanding-functional-tests/32929\">this discussion</a>.</p></div></div><p>Return <code>text</code> and the <code>n_words</code> that come after</p>\n",
              "<p><a href=\"https://docs.fast.ai/text.learner.html#LanguageLearner.predict\" target=\"_blank\" rel=\"noreferrer noopener\">Show in docs</a></p>\n"
            ],
            "text/plain": [
              "<IPython.core.display.HTML object>"
            ]
          },
          "metadata": {
            "tags": []
          }
        }
      ]
    },
    {
      "cell_type": "markdown",
      "metadata": {
        "hidden": true,
        "id": "f1NuW-DI9K6r"
      },
      "source": [
        "Lowering the `temperature` will make the texts less randomized."
      ]
    },
    {
      "cell_type": "code",
      "metadata": {
        "hidden": true,
        "scrolled": true,
        "colab": {
          "base_uri": "https://localhost:8080/"
        },
        "id": "CGsmZnYi9K6s",
        "outputId": "e0a501e9-0fc9-4c28-853e-f0f9d0724a99"
      },
      "source": [
        "print(\"\\n\".join(learn_lm.predict(TEXT, N_WORDS, temperature=0.10) for _ in range(N_SENTENCES)))"
      ],
      "execution_count": 82,
      "outputs": [
        {
          "output_type": "stream",
          "text": [
            "I hated this movie by John Lennon , and it was a critical and commercial success . The film was released in the United States in November 1999\n",
            "I hated this movie by John Lennon , and he said , \" It 's a great movie . It 's a great film . It 's a great\n"
          ],
          "name": "stdout"
        }
      ]
    },
    {
      "cell_type": "code",
      "metadata": {
        "hidden": true,
        "colab": {
          "base_uri": "https://localhost:8080/",
          "height": 190
        },
        "id": "U0dpBwvo9K6s",
        "outputId": "5a8734c1-4206-407d-c285-2c4bbe7e4fd6"
      },
      "source": [
        "doc(LanguageLearner.predict)"
      ],
      "execution_count": 83,
      "outputs": [
        {
          "output_type": "display_data",
          "data": {
            "text/html": [
              "<h4 id=\"LanguageLearner.predict\" class=\"doc_header\"><code>predict</code><a href=\"https://github.com/fastai/fastai/blob/master/fastai/text/learner.py#L120\" class=\"source_link\" style=\"float:right\">[source]</a><a class=\"source_link\" data-toggle=\"collapse\" data-target=\"#LanguageLearner-predict-pytest\" style=\"float:right; padding-right:10px\">[test]</a></h4><blockquote><p><code>predict</code>(<strong><code>text</code></strong>:<code>str</code>, <strong><code>n_words</code></strong>:<code>int</code>=<strong><em><code>1</code></em></strong>, <strong><code>no_unk</code></strong>:<code>bool</code>=<strong><em><code>True</code></em></strong>, <strong><code>temperature</code></strong>:<code>float</code>=<strong><em><code>1.0</code></em></strong>, <strong><code>min_p</code></strong>:<code>float</code>=<strong><em><code>None</code></em></strong>, <strong><code>sep</code></strong>:<code>str</code>=<strong><em><code>' '</code></em></strong>, <strong><code>decoder</code></strong>=<strong><em><code>'decode_spec_tokens'</code></em></strong>)</p>\n",
              "</blockquote>\n",
              "<div class=\"collapse\" id=\"LanguageLearner-predict-pytest\"><div class=\"card card-body pytest_card\"><a type=\"button\" data-toggle=\"collapse\" data-target=\"#LanguageLearner-predict-pytest\" class=\"close\" aria-label=\"Close\"><span aria-hidden=\"true\">&times;</span></a><p>No tests found for <code>predict</code>. To contribute a test please refer to <a href=\"/dev/test.html\">this guide</a> and <a href=\"https://forums.fast.ai/t/improving-expanding-functional-tests/32929\">this discussion</a>.</p></div></div><p>Return <code>text</code> and the <code>n_words</code> that come after</p>\n",
              "<p><a href=\"https://docs.fast.ai/text.learner.html#LanguageLearner.predict\" target=\"_blank\" rel=\"noreferrer noopener\">Show in docs</a></p>\n"
            ],
            "text/plain": [
              "<IPython.core.display.HTML object>"
            ]
          },
          "metadata": {
            "tags": []
          }
        }
      ]
    },
    {
      "cell_type": "code",
      "metadata": {
        "hidden": true,
        "colab": {
          "base_uri": "https://localhost:8080/"
        },
        "id": "sfu6WBil9K6s",
        "outputId": "ebea7681-78f6-4f18-9d3b-24335b7207fd"
      },
      "source": [
        "print(\"\\n\".join(learn_lm.predict(TEXT, N_WORDS, temperature=0.1) for _ in range(N_SENTENCES)))"
      ],
      "execution_count": 86,
      "outputs": [
        {
          "output_type": "stream",
          "text": [
            "I hated this movie by John Lennon , and he said he was \" a fan of the Beatles \" . He said that he was \" very proud of\n",
            "I hated this movie . It was a film that was not a success . It was a success , and it was a success . It was the first film\n"
          ],
          "name": "stdout"
        }
      ]
    },
    {
      "cell_type": "markdown",
      "metadata": {
        "id": "R8jzAq8V9K6t"
      },
      "source": [
        "### 2C. Training (fine-tuning) the `IMDb` language model\n",
        "#### Starting with the `wikitext-103` pretrained weights, we'll fine-tune the model to \"learn\" the structure in the \"language\" of IMDb movie reviews."
      ]
    },
    {
      "cell_type": "markdown",
      "metadata": {
        "id": "Vfx2FE-K9K6t"
      },
      "source": [
        "#### Choose an appropriate learning rate."
      ]
    },
    {
      "cell_type": "code",
      "metadata": {
        "colab": {
          "base_uri": "https://localhost:8080/",
          "height": 112
        },
        "id": "ULEGzJDZ9K6t",
        "outputId": "998ef00a-3273-4f29-9f02-097ed0fd1d61"
      },
      "source": [
        "learn_lm.lr_find()"
      ],
      "execution_count": 87,
      "outputs": [
        {
          "output_type": "display_data",
          "data": {
            "text/html": [
              "\n",
              "    <div>\n",
              "        <style>\n",
              "            /* Turns off some styling */\n",
              "            progress {\n",
              "                /* gets rid of default border in Firefox and Opera. */\n",
              "                border: none;\n",
              "                /* Needs to be in here for Safari polyfill so background images work as expected. */\n",
              "                background-size: auto;\n",
              "            }\n",
              "            .progress-bar-interrupted, .progress-bar-interrupted::-webkit-progress-bar {\n",
              "                background: #F44336;\n",
              "            }\n",
              "        </style>\n",
              "      <progress value='0' class='' max='1' style='width:300px; height:20px; vertical-align: middle;'></progress>\n",
              "      0.00% [0/1 00:00<00:00]\n",
              "    </div>\n",
              "    \n",
              "<table border=\"1\" class=\"dataframe\">\n",
              "  <thead>\n",
              "    <tr style=\"text-align: left;\">\n",
              "      <th>epoch</th>\n",
              "      <th>train_loss</th>\n",
              "      <th>valid_loss</th>\n",
              "      <th>accuracy</th>\n",
              "      <th>time</th>\n",
              "    </tr>\n",
              "  </thead>\n",
              "  <tbody>\n",
              "  </tbody>\n",
              "</table><p>\n",
              "\n",
              "    <div>\n",
              "        <style>\n",
              "            /* Turns off some styling */\n",
              "            progress {\n",
              "                /* gets rid of default border in Firefox and Opera. */\n",
              "                border: none;\n",
              "                /* Needs to be in here for Safari polyfill so background images work as expected. */\n",
              "                background-size: auto;\n",
              "            }\n",
              "            .progress-bar-interrupted, .progress-bar-interrupted::-webkit-progress-bar {\n",
              "                background: #F44336;\n",
              "            }\n",
              "        </style>\n",
              "      <progress value='99' class='' max='8056' style='width:300px; height:20px; vertical-align: middle;'></progress>\n",
              "      1.23% [99/8056 00:16<22:30 11.5274]\n",
              "    </div>\n",
              "    "
            ],
            "text/plain": [
              "<IPython.core.display.HTML object>"
            ]
          },
          "metadata": {
            "tags": []
          }
        },
        {
          "output_type": "stream",
          "text": [
            "LR Finder is complete, type {learner_name}.recorder.plot() to see the graph.\n"
          ],
          "name": "stdout"
        }
      ]
    },
    {
      "cell_type": "code",
      "metadata": {
        "colab": {
          "base_uri": "https://localhost:8080/",
          "height": 279
        },
        "id": "LBYPiJxR9K6t",
        "outputId": "4f0e519b-982c-4fc4-db18-af6434868a4b"
      },
      "source": [
        "learn_lm.recorder.plot(skip_end=15)"
      ],
      "execution_count": 88,
      "outputs": [
        {
          "output_type": "display_data",
          "data": {
            "image/png": "[encoded data removed]",
            "text/plain": [
              "<Figure size 432x288 with 1 Axes>"
            ]
          },
          "metadata": {
            "tags": [],
            "needs_background": "light"
          }
        }
      ]
    },
    {
      "cell_type": "code",
      "metadata": {
        "id": "7djVVvHh9K6t"
      },
      "source": [
        "lr = 1e-059\n",
        "lr *= bs/48"
      ],
      "execution_count": 89,
      "outputs": []
    },
    {
      "cell_type": "markdown",
      "metadata": {
        "id": "WRq-YwC79K6t"
      },
      "source": [
        "#### Use the mixed-precision option, if you have it, otherwise omit this step"
      ]
    },
    {
      "cell_type": "code",
      "metadata": {
        "colab": {
          "base_uri": "https://localhost:8080/"
        },
        "id": "aBi7WQGv9K6u",
        "outputId": "830ad8d6-51f2-417a-a88b-14896da78318"
      },
      "source": [
        "learn_lm.to_fp16()"
      ],
      "execution_count": 90,
      "outputs": [
        {
          "output_type": "execute_result",
          "data": {
            "text/plain": [
              "LanguageLearner(data=TextLMDataBunch;\n",
              "\n",
              "Train: LabelList (90000 items)\n",
              "x: LMTextList\n",
              "xxbos xxmaj in this glorious telling of a weekend shared among literary greats . xxmaj mary and xxmaj percy xxmaj shelly , xxmaj lord xxmaj byron and others created a entrancing group . xxmaj showing their quests for sexual enlightenment . xxmaj personal freedoms from political to moral . xxmaj liberal drug use for both xxunk and as addiction . xxmaj their creative views of life and writing . xxmaj describing without boring the viewer how each writer seeks to find their muse . xxmaj along with the distractions and affections each share . xxmaj with breathtaking scenery that does not detract but very much enhances the story . xxmaj well created characters from grim to loving then angry to peaceful . xxmaj with some of the most lovely and scene enhancing costuming to be had .,xxbos xxmaj thank xxmaj god this was n't based on a true story , because what a story it is . xxmaj populated by despicable characters whose depravity knows no bounds , xxmaj before xxmaj the xxmaj devil is a mesmerizing , jaw - dropping excursion into perversion which would be laughable ( and sometimes is , even with - or perhaps because of - the sickeningly tragic undercurrent of human dysfunction throughout ) if it were n't carried out with such magnificent , overwhelming conviction by its stars . xxmaj the excellent script by xxmaj kelly xxmaj masterson and superb direction by none other than xxmaj sidney xxmaj lumet does n't hurt either . \n",
              " \n",
              "  xxmaj the main dysfunction here is of a family nature , with the two majorly screwed up brothers ( brilliant portrayals from xxmaj philip xxmaj seymour xxmaj hoffman and xxmaj ethan xxmaj hawke ) deciding to rob their own parents ' jewelry store , an attempt that goes pathetically awry . \n",
              " \n",
              "  xxmaj the story is told with time - shifts ( which are noted on screen , such as : \" xxmaj charlie : xxmaj two xxmaj days xxmaj before xxmaj the xxmaj robbery \" , so no one should be confused ) ; some people have said they did n't like this device but i thought it worked perfectly , adding to the xxunk of the whole affair , considering that the two brothers in question are hardly playing with full decks - between them you could n't make a decent poker hand to save your life . xxmaj throw in these cheesy extra tidbits : one of the brothers is a drug addict , married to xxmaj gina ( xxmaj marisa xxmaj tomei , also excellent ) , who is having an affair with the other brother , toss in some monumental sibling rivalry , along with the fact that said drug addict brother hates his father ( a wrenching performance from xxmaj albert xxmaj finney ) , who has apparently caused him serious past pain , and you 've got a xxmaj shakespearean / xxmaj greek tragedy on your hands . xxmaj proceed with caution .,xxbos xxmaj over xxmaj her xxmaj dead xxmaj body was a nice little movie . xxmaj it was decent and entertaining , while still being pretty funny . xxmaj there were a few cliché 's , but i found most stuff fresh . xxmaj at first i did n't think it was going to be good at all , when it started out . xxmaj if you can get past the first 20 minutes though , the movie starts getting more interesting . xxmaj this film was n't burst out in laughter hilarious , and was n't xxup oh xxup my xxup gosh wonderful . xxmaj it was just a movie that you can sit down and enjoy for how enjoyable it was . i do n't see how this movie was bad . xxmaj it 's rating is just a bit too low . i could 've dealt with a xxunk a xxunk , giving this movie a 1 is disgraceful . xxmaj it was pretty good , and there was nothing horrible enough about it to give it a xxunk is what most people gave it .,xxbos xxmaj finally we have before us a xxmaj category xxup iii movie for the summer 2006 season . xxmaj made of equal parts cruelty , crime and passion , xxmaj dog xxmaj bite xxmaj dog benefits not merely from an apt title , but also flexible direction , superb cinematography and respectable performances from most involved . xxmaj of course there has to be a catch , manifested here in the form of several glaring inconsistencies , yet all told xxup dbd represents the mature spirit we 'd love to see more of in the xxup hk mainstream . \n",
              " \n",
              "  xxmaj it also marks the heralded return of xxmaj edison xxmaj chen , long absent since the xxmaj initial d debacle of a year ago . xxmaj chen 's reserved machismo does wonders for the movie , yet would have had it rough without opposite xxmaj sam xxmaj lee , whose knack for alternating between physical comedy ( xxmaj crazy ' n ' the xxmaj city , xxmaj no xxmaj problem 2 ) and lunatic menace has culminated in the strongest role we 've seen from him since xxmaj made in xxmaj hong xxmaj kong . \n",
              " \n",
              "  xxmaj together , the duo makes xxmaj dog xxmaj bite xxmaj dog , and hopefully xxmaj edison 's going to get an easier break from now on as a consequence : his touch transformed projects from xxmaj princess d to the xxmaj infernal xxmaj affairs saga , and still he remains a rare occurrence . \n",
              " \n",
              "  xxmaj mostly upon commencing , xxup dbd showcases some mesmerizing imagery , playing gorgeous tricks with light , shadow and perspective . xxmaj the soundtrack boosts this atmospheric effect , adding to the overall unreal mood the film xxunk . xxmaj much of the resultant combination probably has to do with writer xxmaj matt xxmaj chow , previously engaged in likewise gruesome xxmaj three xxmaj extremes . xxmaj dog xxmaj bite xxmaj dog retains numerous traits recalled from that horror project , namely rundown xxunk and a pervasive air of something eerie lurking round the corner . \n",
              " \n",
              "  xxmaj rest assured , though , this is n't a horror movie , instead following a path trodden before by classic xxmaj one xxmaj nite in xxmaj xxunk , albeit from a miles more perverse angle . xxmaj replacing xxmaj daniel xxmaj wu 's reluctant mainland assassin character we have xxmaj edison , playing a nameless killing machine hailing from xxmaj cambodia 's underworld . xxmaj sent xxmaj hong xxmaj kong - way to execute a single target , the nearly silent assassin takes care of business immediately upon arrival , a process chillingly depicted courtesy of the film 's brilliant visuals . \n",
              " \n",
              "  xxmaj although weaned from childhood to become a professional killer , xxmaj edison 's eponymous wild dog still has human weaknesses and leaves a trail , picked up on by a xxup cid team sent to investigate . xxmaj this assembly features a nice cameo by mob - movie stalwart xxmaj lam xxmaj suet , and good support from xxup tv star xxmaj wayne xxmaj lai . xxmaj however , xxmaj sam xxmaj lee 's renegade officer xxmaj wai leads the charge , revealing himself to be a highly disturbed individual but excellent cop nonetheless . xxmaj we gradually learn xxmaj wai 's inner - conflict stems from his father 's police corruption background , evoking demons handy in the relentless pursuit that ensues . \n",
              " \n",
              "  a minor body count transpires , as xxmaj edison seems to consider taking prisoners a no - no . xxmaj there 's quite the violence quotient in store , even though gore per se feels toned down in places , and adult language only makes a token appearance . xxmaj once more , no nudity , leading one to conclude xxmaj cat xxup iii 's are being handed these days a bit hastily . xxmaj still , xxup dbd 's a relatively mature theatrical release , and we applaud its arrival . \n",
              " \n",
              "  xxmaj in between the fighting , stabbing , hacking and shooting , even a career murderer needs some romance , and just like xxmaj daniel xxmaj wu had xxmaj cecilia xxmaj cheung in xxmaj one xxmaj nite , so does intrepid xxmaj mr. xxmaj chen get a sweetheart , done beautifully by new comer xxmaj pei xxmaj pei . xxmaj her unnamed character ( lots of anonymity in this one ) meets xxmaj edison 's at a strangely deserted landfill , abused by her father to the point of repulsive madness and yearning for escape . xxmaj when the killer ditches xxup hk , he agrees to take her with him , and they go on the run together , love blooming en route . xxmaj while the movie does n't linger on lovey - dovey stuff , our hearts go out to xxmaj pei xxmaj pei 's tragic character and her endless suffering . xxmaj she renders the timid but valiant protagonist amazingly well , establishing that there are n't any good or bad guys here , evinced by the highly sobering finale . \n",
              " \n",
              "  xxmaj director xxmaj cheang xxmaj soi 's portfolio includes recent suspense thriller xxmaj home xxmaj sweet xxmaj home and xxmaj love xxmaj battlefield with xxmaj xxunk xxmaj chan , two numbers likely surpassed in most accounts by xxmaj dog xxmaj bite xxmaj dog 's sinister demeanor . xxmaj cheang manages to keep xxup dbd flowing throughout , and considering the many parts in play here , stands up to critical standards erected by people like xxmaj johnny xxmaj to in his watershed nocturnal epic xxmaj the xxmaj mission . a couple of glitches do come about , to wit xxmaj edison miraculously shrugging off a shot to the chest , but these are highly forgivable . \n",
              " \n",
              "  xxmaj marking triumphant returns for two young , talented performers of the kind xxmaj hong xxmaj kong needs if we want the city 's movie heyday to come back , xxmaj dog xxmaj bite xxmaj dog does n't stand out for story . xxmaj its forte lies in strong portrayals and style , buoyed along on the strength of thespian muscle and a keen eye for visual and auditory finesse . \n",
              " \n",
              "  xxup hk has a long , time - honored tradition of stories to do with the city 's nighttime alter - ego , something xxmaj dog xxmaj bite xxmaj dog upholds lovingly , amounting to a solid run if not an outright masterpiece . \n",
              " \n",
              "  xxmaj rating : * * * *,xxbos xxmaj idiotic hack crooks , a babe , a safe , a plan and a baby . xxmaj add them all up and you get the best comedy you 've never heard of . \n",
              " \n",
              "  xxmaj even with some a - list star power ( at least a - minus ... okay , b - plus ? ) this movie got very little publicity . \n",
              " \n",
              "  xxmaj but that does not diminish its genius . \n",
              " \n",
              "  xxmaj terrific writing , solid delivery and a believable group of characters . xxmaj some truly classic lines , and a fun twist at the end . \n",
              " \n",
              "  xxmaj this is not some watered - down \" xxmaj nutty xxmaj professor \" comedy . xxmaj these are low - life bad guys . xxmaj they speak low - life bad guy language and they do low - life bad guy things . xxmaj but they do it for your amusement and entertainment , and they do that well . \n",
              " \n",
              "  xxmaj one of the best comedies i 've ever seen .\n",
              "y: LMLabelList\n",
              ",,,,\n",
              "Path: /root/.fastai/data/imdb;\n",
              "\n",
              "Valid: LabelList (10000 items)\n",
              "x: LMTextList\n",
              "xxbos xxmaj beautiful art direction , excellent editing and wonderful stories make this some of the best television ever produced . xxmaj the fact that it was relatively short lived is sadly reflective on the state of television . i highly recommend snatching these up as they 're released , you 'll love them .,xxbos xxmaj werner xxmaj herzog again explores the psyche of a man . xxmaj in \" xxmaj little xxmaj dieter ... \" , we meet an effervescent , brilliant man who survived the war in xxmaj bavaria seeing starvation and strange sights , moved to the xxup u.s. and fulfilled his dream of being a flier . xxmaj war , food , death , survival , hoarding , planes , heads coming off ... how one xxmaj american is born . xxmaj herzog again sees madness as plane of existence and the surreal blends with the poignant as xxmaj herzog himself narratives this psychic travelogue of a xxmaj german becoming an xxmaj american who flies prop planes in a late 20th century war where the culmination of technology , pilgrimage and eating out of garbage cans with spoons is melded with constant optimism into a man redefined into xxmaj american . xxmaj as always with xxmaj herzog we are faced with florid madness , brilliance and what is man in the face of his own excesses , societal and personal . xxmaj we laugh and cringe and are amazed at this man . xxmaj where else for this man but xxmaj america ?,xxbos xxmaj this movie was so very badly written . xxmaj the characters had no depth . xxmaj they should have never made a movie of this . xxmaj my 11 yr old son could write a better screenplay then xxmaj xxunk - rae xxmaj shim . \n",
              " \n",
              "  xxmaj the only actor that did n't suck was the zoo guard . xxmaj he was the only funny and believable one of the lot . \n",
              " \n",
              "  i love movies and try to give them the benefit of the doubt , but this one was up there on my lame list at number 2 . xxmaj number 1 being xxmaj demonicus . \n",
              " \n",
              "  xxmaj for those of you who actually thought this was a good movie , you are in serious need of brain surgery . \n",
              " \n",
              "  xxmaj most of the creatures in the movie were n't even dragons ... so why did they call d - war ?,xxbos xxmaj it 's all about getting what you want when you want it . xxmaj and the message of xxmaj bluebeard 's xxmaj eighth wife is to be careful what you wish for , until what you wish for wishes for you . \n",
              " \n",
              "  xxmaj most men have heard the stories about what happens when your sexual frustration is n't relieved and a certain part of your anatomy turning blue . xxmaj misogynistic pirates aside , xxmaj cooper plays a very wealthy man who is very accustomed to getting what he wants whenever he wants it , learning only too late that it was n't what he expected and never learning his lesson until he runs into the feisty xxmaj claudette xxmaj colbert . xxmaj through a twisted ( in soul and in practice ) business deal , he ends up marring / buying her with the intent of bedding her , but she will have none of it ( literally ) and frustrates him at every turn , and corner , and room , and tourist attraction . \n",
              " \n",
              "  xxmaj the film has definite xxmaj french sensibilities which means it has strong double - entendres and boudoir humor for the day and a sharp edge you 're not accustomed to ( and may not enjoy seeing ) in either xxmaj cooper or xxmaj colbert . xxmaj the whole reason i watched the film was because they are \" likable \" actors , and the whole point of this movie is that they 're unlikable people , or at least likable people who have developed unlikable traits to protect themselves , they think , from the world . \n",
              " \n",
              "  xxmaj if you can accept it on its own terms you 'll find satisfaction in this witty and sophisticated film ... and satisfaction , as we said , is what it 's all about . xxmaj such a movie with such a cast only comes around , after all , once in a ... ummm ... blue moon .,xxbos xxmaj writer & director xxmaj robert xxmaj downey , xxmaj sr . , a pioneer of the underground film movement in the 1960s , satirized the xxmaj new xxmaj york xxmaj madison xxmaj avenue advertising world with his avant - garde comedy \" xxmaj putney xxmaj swope . \" xxmaj downey does n't confine his ridicule to advertising , but tackles black militant culture , the dynamics in xxmaj hollywood 's portrayal of race , the elite white power structure , and character of corruption in any power struggle . xxmaj as audacious and ambitious as \" xxmaj putney xxmaj swope \" strives to be , it qualifies as a terrible film , amateurishly made on a shoe - string budget with a no - name cast and humor that lacks hilarity . xxmaj everything about this movie reeks with improvisation . \" xxmaj putney xxmaj swope \" stirred up controversy during its initial release with its politically incorrect handling of race issues and consumer culture . xxmaj like most xxmaj marx xxmaj brothers movies , the plot is thin , providing an excuse for xxmaj downey 's anecdotal gags , most of which are terrible . \n",
              " \n",
              "  xxmaj the chairman of a prestigious xxmaj madison xxmaj avenue ad agency dies during a board meeting . xxmaj before the body has been removed , the board holds a secret ballot vote to determine who will replace him . xxmaj each member understands that they are forbidden to vote for himself . xxmaj sheer accident occurs when everyone votes for the token black member , xxmaj putney xxmaj swope ( xxmaj arnold xxmaj johnson ) , since none thought anybody would cast a ballot for him . xxmaj swope pink slips all but one of the white executives , surrounds himself with black , pistol packing employees , and xxunk the firm \" xxmaj truth and xxmaj soul xxmaj advertising . \" xxmaj swope decides to alter the face of xxmaj american advertising . xxmaj he refuses to accept clients whose products are alcohol , tobacco , or war toys . xxmaj swope 's clients stage an exodus after he becomes the xxup ceo , and grandstanding attracts a new line - up of clients that show up at his office lugging bags of money and prepared to suffer abuse from xxmaj swope 's militant employees . xxmaj swope exploits his xxmaj african - xxmaj american staff , too , ruthlessly appropriating their ideas after he fires them and conjures up a number of offensive advertising campaigns , all of which are hailed as a ' new wave ' of marketing genius . xxmaj incredibly , xxmaj swope 's conservatism proves successful but the agency becomes the target of government operatives who argue xxmaj swope 's advertising tactics constitute \" a threat to the national security . \" xxmaj the high point of this black & white , xxunk comedy are the television commercials shot in color . xxmaj unfortunately , xxmaj downey does n't know when to cut off these ads that consistently start out cleverly but wear out their welcome . xxmaj the funniest part of \" xxmaj putney xxmaj swope \" involves our eponymous protagonist 's dealings with xxup u.s. xxmaj president xxmaj xxunk in xxmaj washington xxup d.c. ( xxmaj pepi xxmaj xxunk ) , a marihuana - xxunk midget with a xxmaj kissinger - like xxmaj teutonic adviser ( xxmaj larry xxmaj wolf ) spouting tasteless jokes while trying to convince xxmaj swope to come up with an advertising campaign for his new car , the xxmaj xxunk 6 .\n",
              "y: LMLabelList\n",
              ",,,,\n",
              "Path: /root/.fastai/data/imdb;\n",
              "\n",
              "Test: None, model=SequentialRNN(\n",
              "  (0): AWD_LSTM(\n",
              "    (encoder): Embedding(60000, 400, padding_idx=1)\n",
              "    (encoder_dp): EmbeddingDropout(\n",
              "      (emb): Embedding(60000, 400, padding_idx=1)\n",
              "    )\n",
              "    (rnns): ModuleList(\n",
              "      (0): WeightDropout(\n",
              "        (module): LSTM(400, 1152, batch_first=True)\n",
              "      )\n",
              "      (1): WeightDropout(\n",
              "        (module): LSTM(1152, 1152, batch_first=True)\n",
              "      )\n",
              "      (2): WeightDropout(\n",
              "        (module): LSTM(1152, 400, batch_first=True)\n",
              "      )\n",
              "    )\n",
              "    (input_dp): RNNDropout()\n",
              "    (hidden_dps): ModuleList(\n",
              "      (0): RNNDropout()\n",
              "      (1): RNNDropout()\n",
              "      (2): RNNDropout()\n",
              "    )\n",
              "  )\n",
              "  (1): LinearDecoder(\n",
              "    (decoder): Linear(in_features=400, out_features=60000, bias=True)\n",
              "    (output_dp): RNNDropout()\n",
              "  )\n",
              "), opt_func=functools.partial(<class 'torch.optim.adam.Adam'>, betas=(0.9, 0.99)), loss_func=FlattenedLoss of CrossEntropyLoss(), metrics=[<function accuracy at 0x7fce001018c8>], true_wd=True, bn_wd=True, wd=0.01, train_bn=True, path=PosixPath('/root/.fastai/data/imdb'), model_dir='models', callback_fns=[functools.partial(<class 'fastai.basic_train.Recorder'>, add_time=True, silent=False)], callbacks=[RNNTrainer\n",
              "learn: LanguageLearner(data=TextLMDataBunch;\n",
              "\n",
              "Train: LabelList (90000 items)\n",
              "x: LMTextList\n",
              "xxbos xxmaj in this glorious telling of a weekend shared among literary greats . xxmaj mary and xxmaj percy xxmaj shelly , xxmaj lord xxmaj byron and others created a entrancing group . xxmaj showing their quests for sexual enlightenment . xxmaj personal freedoms from political to moral . xxmaj liberal drug use for both xxunk and as addiction . xxmaj their creative views of life and writing . xxmaj describing without boring the viewer how each writer seeks to find their muse . xxmaj along with the distractions and affections each share . xxmaj with breathtaking scenery that does not detract but very much enhances the story . xxmaj well created characters from grim to loving then angry to peaceful . xxmaj with some of the most lovely and scene enhancing costuming to be had .,xxbos xxmaj thank xxmaj god this was n't based on a true story , because what a story it is . xxmaj populated by despicable characters whose depravity knows no bounds , xxmaj before xxmaj the xxmaj devil is a mesmerizing , jaw - dropping excursion into perversion which would be laughable ( and sometimes is , even with - or perhaps because of - the sickeningly tragic undercurrent of human dysfunction throughout ) if it were n't carried out with such magnificent , overwhelming conviction by its stars . xxmaj the excellent script by xxmaj kelly xxmaj masterson and superb direction by none other than xxmaj sidney xxmaj lumet does n't hurt either . \n",
              " \n",
              "  xxmaj the main dysfunction here is of a family nature , with the two majorly screwed up brothers ( brilliant portrayals from xxmaj philip xxmaj seymour xxmaj hoffman and xxmaj ethan xxmaj hawke ) deciding to rob their own parents ' jewelry store , an attempt that goes pathetically awry . \n",
              " \n",
              "  xxmaj the story is told with time - shifts ( which are noted on screen , such as : \" xxmaj charlie : xxmaj two xxmaj days xxmaj before xxmaj the xxmaj robbery \" , so no one should be confused ) ; some people have said they did n't like this device but i thought it worked perfectly , adding to the xxunk of the whole affair , considering that the two brothers in question are hardly playing with full decks - between them you could n't make a decent poker hand to save your life . xxmaj throw in these cheesy extra tidbits : one of the brothers is a drug addict , married to xxmaj gina ( xxmaj marisa xxmaj tomei , also excellent ) , who is having an affair with the other brother , toss in some monumental sibling rivalry , along with the fact that said drug addict brother hates his father ( a wrenching performance from xxmaj albert xxmaj finney ) , who has apparently caused him serious past pain , and you 've got a xxmaj shakespearean / xxmaj greek tragedy on your hands . xxmaj proceed with caution .,xxbos xxmaj over xxmaj her xxmaj dead xxmaj body was a nice little movie . xxmaj it was decent and entertaining , while still being pretty funny . xxmaj there were a few cliché 's , but i found most stuff fresh . xxmaj at first i did n't think it was going to be good at all , when it started out . xxmaj if you can get past the first 20 minutes though , the movie starts getting more interesting . xxmaj this film was n't burst out in laughter hilarious , and was n't xxup oh xxup my xxup gosh wonderful . xxmaj it was just a movie that you can sit down and enjoy for how enjoyable it was . i do n't see how this movie was bad . xxmaj it 's rating is just a bit too low . i could 've dealt with a xxunk a xxunk , giving this movie a 1 is disgraceful . xxmaj it was pretty good , and there was nothing horrible enough about it to give it a xxunk is what most people gave it .,xxbos xxmaj finally we have before us a xxmaj category xxup iii movie for the summer 2006 season . xxmaj made of equal parts cruelty , crime and passion , xxmaj dog xxmaj bite xxmaj dog benefits not merely from an apt title , but also flexible direction , superb cinematography and respectable performances from most involved . xxmaj of course there has to be a catch , manifested here in the form of several glaring inconsistencies , yet all told xxup dbd represents the mature spirit we 'd love to see more of in the xxup hk mainstream . \n",
              " \n",
              "  xxmaj it also marks the heralded return of xxmaj edison xxmaj chen , long absent since the xxmaj initial d debacle of a year ago . xxmaj chen 's reserved machismo does wonders for the movie , yet would have had it rough without opposite xxmaj sam xxmaj lee , whose knack for alternating between physical comedy ( xxmaj crazy ' n ' the xxmaj city , xxmaj no xxmaj problem 2 ) and lunatic menace has culminated in the strongest role we 've seen from him since xxmaj made in xxmaj hong xxmaj kong . \n",
              " \n",
              "  xxmaj together , the duo makes xxmaj dog xxmaj bite xxmaj dog , and hopefully xxmaj edison 's going to get an easier break from now on as a consequence : his touch transformed projects from xxmaj princess d to the xxmaj infernal xxmaj affairs saga , and still he remains a rare occurrence . \n",
              " \n",
              "  xxmaj mostly upon commencing , xxup dbd showcases some mesmerizing imagery , playing gorgeous tricks with light , shadow and perspective . xxmaj the soundtrack boosts this atmospheric effect , adding to the overall unreal mood the film xxunk . xxmaj much of the resultant combination probably has to do with writer xxmaj matt xxmaj chow , previously engaged in likewise gruesome xxmaj three xxmaj extremes . xxmaj dog xxmaj bite xxmaj dog retains numerous traits recalled from that horror project , namely rundown xxunk and a pervasive air of something eerie lurking round the corner . \n",
              " \n",
              "  xxmaj rest assured , though , this is n't a horror movie , instead following a path trodden before by classic xxmaj one xxmaj nite in xxmaj xxunk , albeit from a miles more perverse angle . xxmaj replacing xxmaj daniel xxmaj wu 's reluctant mainland assassin character we have xxmaj edison , playing a nameless killing machine hailing from xxmaj cambodia 's underworld . xxmaj sent xxmaj hong xxmaj kong - way to execute a single target , the nearly silent assassin takes care of business immediately upon arrival , a process chillingly depicted courtesy of the film 's brilliant visuals . \n",
              " \n",
              "  xxmaj although weaned from childhood to become a professional killer , xxmaj edison 's eponymous wild dog still has human weaknesses and leaves a trail , picked up on by a xxup cid team sent to investigate . xxmaj this assembly features a nice cameo by mob - movie stalwart xxmaj lam xxmaj suet , and good support from xxup tv star xxmaj wayne xxmaj lai . xxmaj however , xxmaj sam xxmaj lee 's renegade officer xxmaj wai leads the charge , revealing himself to be a highly disturbed individual but excellent cop nonetheless . xxmaj we gradually learn xxmaj wai 's inner - conflict stems from his father 's police corruption background , evoking demons handy in the relentless pursuit that ensues . \n",
              " \n",
              "  a minor body count transpires , as xxmaj edison seems to consider taking prisoners a no - no . xxmaj there 's quite the violence quotient in store , even though gore per se feels toned down in places , and adult language only makes a token appearance . xxmaj once more , no nudity , leading one to conclude xxmaj cat xxup iii 's are being handed these days a bit hastily . xxmaj still , xxup dbd 's a relatively mature theatrical release , and we applaud its arrival . \n",
              " \n",
              "  xxmaj in between the fighting , stabbing , hacking and shooting , even a career murderer needs some romance , and just like xxmaj daniel xxmaj wu had xxmaj cecilia xxmaj cheung in xxmaj one xxmaj nite , so does intrepid xxmaj mr. xxmaj chen get a sweetheart , done beautifully by new comer xxmaj pei xxmaj pei . xxmaj her unnamed character ( lots of anonymity in this one ) meets xxmaj edison 's at a strangely deserted landfill , abused by her father to the point of repulsive madness and yearning for escape . xxmaj when the killer ditches xxup hk , he agrees to take her with him , and they go on the run together , love blooming en route . xxmaj while the movie does n't linger on lovey - dovey stuff , our hearts go out to xxmaj pei xxmaj pei 's tragic character and her endless suffering . xxmaj she renders the timid but valiant protagonist amazingly well , establishing that there are n't any good or bad guys here , evinced by the highly sobering finale . \n",
              " \n",
              "  xxmaj director xxmaj cheang xxmaj soi 's portfolio includes recent suspense thriller xxmaj home xxmaj sweet xxmaj home and xxmaj love xxmaj battlefield with xxmaj xxunk xxmaj chan , two numbers likely surpassed in most accounts by xxmaj dog xxmaj bite xxmaj dog 's sinister demeanor . xxmaj cheang manages to keep xxup dbd flowing throughout , and considering the many parts in play here , stands up to critical standards erected by people like xxmaj johnny xxmaj to in his watershed nocturnal epic xxmaj the xxmaj mission . a couple of glitches do come about , to wit xxmaj edison miraculously shrugging off a shot to the chest , but these are highly forgivable . \n",
              " \n",
              "  xxmaj marking triumphant returns for two young , talented performers of the kind xxmaj hong xxmaj kong needs if we want the city 's movie heyday to come back , xxmaj dog xxmaj bite xxmaj dog does n't stand out for story . xxmaj its forte lies in strong portrayals and style , buoyed along on the strength of thespian muscle and a keen eye for visual and auditory finesse . \n",
              " \n",
              "  xxup hk has a long , time - honored tradition of stories to do with the city 's nighttime alter - ego , something xxmaj dog xxmaj bite xxmaj dog upholds lovingly , amounting to a solid run if not an outright masterpiece . \n",
              " \n",
              "  xxmaj rating : * * * *,xxbos xxmaj idiotic hack crooks , a babe , a safe , a plan and a baby . xxmaj add them all up and you get the best comedy you 've never heard of . \n",
              " \n",
              "  xxmaj even with some a - list star power ( at least a - minus ... okay , b - plus ? ) this movie got very little publicity . \n",
              " \n",
              "  xxmaj but that does not diminish its genius . \n",
              " \n",
              "  xxmaj terrific writing , solid delivery and a believable group of characters . xxmaj some truly classic lines , and a fun twist at the end . \n",
              " \n",
              "  xxmaj this is not some watered - down \" xxmaj nutty xxmaj professor \" comedy . xxmaj these are low - life bad guys . xxmaj they speak low - life bad guy language and they do low - life bad guy things . xxmaj but they do it for your amusement and entertainment , and they do that well . \n",
              " \n",
              "  xxmaj one of the best comedies i 've ever seen .\n",
              "y: LMLabelList\n",
              ",,,,\n",
              "Path: /root/.fastai/data/imdb;\n",
              "\n",
              "Valid: LabelList (10000 items)\n",
              "x: LMTextList\n",
              "xxbos xxmaj beautiful art direction , excellent editing and wonderful stories make this some of the best television ever produced . xxmaj the fact that it was relatively short lived is sadly reflective on the state of television . i highly recommend snatching these up as they 're released , you 'll love them .,xxbos xxmaj werner xxmaj herzog again explores the psyche of a man . xxmaj in \" xxmaj little xxmaj dieter ... \" , we meet an effervescent , brilliant man who survived the war in xxmaj bavaria seeing starvation and strange sights , moved to the xxup u.s. and fulfilled his dream of being a flier . xxmaj war , food , death , survival , hoarding , planes , heads coming off ... how one xxmaj american is born . xxmaj herzog again sees madness as plane of existence and the surreal blends with the poignant as xxmaj herzog himself narratives this psychic travelogue of a xxmaj german becoming an xxmaj american who flies prop planes in a late 20th century war where the culmination of technology , pilgrimage and eating out of garbage cans with spoons is melded with constant optimism into a man redefined into xxmaj american . xxmaj as always with xxmaj herzog we are faced with florid madness , brilliance and what is man in the face of his own excesses , societal and personal . xxmaj we laugh and cringe and are amazed at this man . xxmaj where else for this man but xxmaj america ?,xxbos xxmaj this movie was so very badly written . xxmaj the characters had no depth . xxmaj they should have never made a movie of this . xxmaj my 11 yr old son could write a better screenplay then xxmaj xxunk - rae xxmaj shim . \n",
              " \n",
              "  xxmaj the only actor that did n't suck was the zoo guard . xxmaj he was the only funny and believable one of the lot . \n",
              " \n",
              "  i love movies and try to give them the benefit of the doubt , but this one was up there on my lame list at number 2 . xxmaj number 1 being xxmaj demonicus . \n",
              " \n",
              "  xxmaj for those of you who actually thought this was a good movie , you are in serious need of brain surgery . \n",
              " \n",
              "  xxmaj most of the creatures in the movie were n't even dragons ... so why did they call d - war ?,xxbos xxmaj it 's all about getting what you want when you want it . xxmaj and the message of xxmaj bluebeard 's xxmaj eighth wife is to be careful what you wish for , until what you wish for wishes for you . \n",
              " \n",
              "  xxmaj most men have heard the stories about what happens when your sexual frustration is n't relieved and a certain part of your anatomy turning blue . xxmaj misogynistic pirates aside , xxmaj cooper plays a very wealthy man who is very accustomed to getting what he wants whenever he wants it , learning only too late that it was n't what he expected and never learning his lesson until he runs into the feisty xxmaj claudette xxmaj colbert . xxmaj through a twisted ( in soul and in practice ) business deal , he ends up marring / buying her with the intent of bedding her , but she will have none of it ( literally ) and frustrates him at every turn , and corner , and room , and tourist attraction . \n",
              " \n",
              "  xxmaj the film has definite xxmaj french sensibilities which means it has strong double - entendres and boudoir humor for the day and a sharp edge you 're not accustomed to ( and may not enjoy seeing ) in either xxmaj cooper or xxmaj colbert . xxmaj the whole reason i watched the film was because they are \" likable \" actors , and the whole point of this movie is that they 're unlikable people , or at least likable people who have developed unlikable traits to protect themselves , they think , from the world . \n",
              " \n",
              "  xxmaj if you can accept it on its own terms you 'll find satisfaction in this witty and sophisticated film ... and satisfaction , as we said , is what it 's all about . xxmaj such a movie with such a cast only comes around , after all , once in a ... ummm ... blue moon .,xxbos xxmaj writer & director xxmaj robert xxmaj downey , xxmaj sr . , a pioneer of the underground film movement in the 1960s , satirized the xxmaj new xxmaj york xxmaj madison xxmaj avenue advertising world with his avant - garde comedy \" xxmaj putney xxmaj swope . \" xxmaj downey does n't confine his ridicule to advertising , but tackles black militant culture , the dynamics in xxmaj hollywood 's portrayal of race , the elite white power structure , and character of corruption in any power struggle . xxmaj as audacious and ambitious as \" xxmaj putney xxmaj swope \" strives to be , it qualifies as a terrible film , amateurishly made on a shoe - string budget with a no - name cast and humor that lacks hilarity . xxmaj everything about this movie reeks with improvisation . \" xxmaj putney xxmaj swope \" stirred up controversy during its initial release with its politically incorrect handling of race issues and consumer culture . xxmaj like most xxmaj marx xxmaj brothers movies , the plot is thin , providing an excuse for xxmaj downey 's anecdotal gags , most of which are terrible . \n",
              " \n",
              "  xxmaj the chairman of a prestigious xxmaj madison xxmaj avenue ad agency dies during a board meeting . xxmaj before the body has been removed , the board holds a secret ballot vote to determine who will replace him . xxmaj each member understands that they are forbidden to vote for himself . xxmaj sheer accident occurs when everyone votes for the token black member , xxmaj putney xxmaj swope ( xxmaj arnold xxmaj johnson ) , since none thought anybody would cast a ballot for him . xxmaj swope pink slips all but one of the white executives , surrounds himself with black , pistol packing employees , and xxunk the firm \" xxmaj truth and xxmaj soul xxmaj advertising . \" xxmaj swope decides to alter the face of xxmaj american advertising . xxmaj he refuses to accept clients whose products are alcohol , tobacco , or war toys . xxmaj swope 's clients stage an exodus after he becomes the xxup ceo , and grandstanding attracts a new line - up of clients that show up at his office lugging bags of money and prepared to suffer abuse from xxmaj swope 's militant employees . xxmaj swope exploits his xxmaj african - xxmaj american staff , too , ruthlessly appropriating their ideas after he fires them and conjures up a number of offensive advertising campaigns , all of which are hailed as a ' new wave ' of marketing genius . xxmaj incredibly , xxmaj swope 's conservatism proves successful but the agency becomes the target of government operatives who argue xxmaj swope 's advertising tactics constitute \" a threat to the national security . \" xxmaj the high point of this black & white , xxunk comedy are the television commercials shot in color . xxmaj unfortunately , xxmaj downey does n't know when to cut off these ads that consistently start out cleverly but wear out their welcome . xxmaj the funniest part of \" xxmaj putney xxmaj swope \" involves our eponymous protagonist 's dealings with xxup u.s. xxmaj president xxmaj xxunk in xxmaj washington xxup d.c. ( xxmaj pepi xxmaj xxunk ) , a marihuana - xxunk midget with a xxmaj kissinger - like xxmaj teutonic adviser ( xxmaj larry xxmaj wolf ) spouting tasteless jokes while trying to convince xxmaj swope to come up with an advertising campaign for his new car , the xxmaj xxunk 6 .\n",
              "y: LMLabelList\n",
              ",,,,\n",
              "Path: /root/.fastai/data/imdb;\n",
              "\n",
              "Test: None, model=SequentialRNN(\n",
              "  (0): AWD_LSTM(\n",
              "    (encoder): Embedding(60000, 400, padding_idx=1)\n",
              "    (encoder_dp): EmbeddingDropout(\n",
              "      (emb): Embedding(60000, 400, padding_idx=1)\n",
              "    )\n",
              "    (rnns): ModuleList(\n",
              "      (0): WeightDropout(\n",
              "        (module): LSTM(400, 1152, batch_first=True)\n",
              "      )\n",
              "      (1): WeightDropout(\n",
              "        (module): LSTM(1152, 1152, batch_first=True)\n",
              "      )\n",
              "      (2): WeightDropout(\n",
              "        (module): LSTM(1152, 400, batch_first=True)\n",
              "      )\n",
              "    )\n",
              "    (input_dp): RNNDropout()\n",
              "    (hidden_dps): ModuleList(\n",
              "      (0): RNNDropout()\n",
              "      (1): RNNDropout()\n",
              "      (2): RNNDropout()\n",
              "    )\n",
              "  )\n",
              "  (1): LinearDecoder(\n",
              "    (decoder): Linear(in_features=400, out_features=60000, bias=True)\n",
              "    (output_dp): RNNDropout()\n",
              "  )\n",
              "), opt_func=functools.partial(<class 'torch.optim.adam.Adam'>, betas=(0.9, 0.99)), loss_func=FlattenedLoss of CrossEntropyLoss(), metrics=[<function accuracy at 0x7fce001018c8>], true_wd=True, bn_wd=True, wd=0.01, train_bn=True, path=PosixPath('/root/.fastai/data/imdb'), model_dir='models', callback_fns=[functools.partial(<class 'fastai.basic_train.Recorder'>, add_time=True, silent=False)], callbacks=[...], layer_groups=[Sequential(\n",
              "  (0): WeightDropout(\n",
              "    (module): LSTM(400, 1152, batch_first=True)\n",
              "  )\n",
              "  (1): RNNDropout()\n",
              "), Sequential(\n",
              "  (0): WeightDropout(\n",
              "    (module): LSTM(1152, 1152, batch_first=True)\n",
              "  )\n",
              "  (1): RNNDropout()\n",
              "), Sequential(\n",
              "  (0): WeightDropout(\n",
              "    (module): LSTM(1152, 400, batch_first=True)\n",
              "  )\n",
              "  (1): RNNDropout()\n",
              "), Sequential(\n",
              "  (0): Embedding(60000, 400, padding_idx=1)\n",
              "  (1): EmbeddingDropout(\n",
              "    (emb): Embedding(60000, 400, padding_idx=1)\n",
              "  )\n",
              "  (2): LinearDecoder(\n",
              "    (decoder): Linear(in_features=400, out_features=60000, bias=True)\n",
              "    (output_dp): RNNDropout()\n",
              "  )\n",
              ")], add_time=True, silent=False)\n",
              "alpha: 2.0\n",
              "beta: 1.0, MixedPrecision\n",
              "learn: LanguageLearner(data=TextLMDataBunch;\n",
              "\n",
              "Train: LabelList (90000 items)\n",
              "x: LMTextList\n",
              "xxbos xxmaj in this glorious telling of a weekend shared among literary greats . xxmaj mary and xxmaj percy xxmaj shelly , xxmaj lord xxmaj byron and others created a entrancing group . xxmaj showing their quests for sexual enlightenment . xxmaj personal freedoms from political to moral . xxmaj liberal drug use for both xxunk and as addiction . xxmaj their creative views of life and writing . xxmaj describing without boring the viewer how each writer seeks to find their muse . xxmaj along with the distractions and affections each share . xxmaj with breathtaking scenery that does not detract but very much enhances the story . xxmaj well created characters from grim to loving then angry to peaceful . xxmaj with some of the most lovely and scene enhancing costuming to be had .,xxbos xxmaj thank xxmaj god this was n't based on a true story , because what a story it is . xxmaj populated by despicable characters whose depravity knows no bounds , xxmaj before xxmaj the xxmaj devil is a mesmerizing , jaw - dropping excursion into perversion which would be laughable ( and sometimes is , even with - or perhaps because of - the sickeningly tragic undercurrent of human dysfunction throughout ) if it were n't carried out with such magnificent , overwhelming conviction by its stars . xxmaj the excellent script by xxmaj kelly xxmaj masterson and superb direction by none other than xxmaj sidney xxmaj lumet does n't hurt either . \n",
              " \n",
              "  xxmaj the main dysfunction here is of a family nature , with the two majorly screwed up brothers ( brilliant portrayals from xxmaj philip xxmaj seymour xxmaj hoffman and xxmaj ethan xxmaj hawke ) deciding to rob their own parents ' jewelry store , an attempt that goes pathetically awry . \n",
              " \n",
              "  xxmaj the story is told with time - shifts ( which are noted on screen , such as : \" xxmaj charlie : xxmaj two xxmaj days xxmaj before xxmaj the xxmaj robbery \" , so no one should be confused ) ; some people have said they did n't like this device but i thought it worked perfectly , adding to the xxunk of the whole affair , considering that the two brothers in question are hardly playing with full decks - between them you could n't make a decent poker hand to save your life . xxmaj throw in these cheesy extra tidbits : one of the brothers is a drug addict , married to xxmaj gina ( xxmaj marisa xxmaj tomei , also excellent ) , who is having an affair with the other brother , toss in some monumental sibling rivalry , along with the fact that said drug addict brother hates his father ( a wrenching performance from xxmaj albert xxmaj finney ) , who has apparently caused him serious past pain , and you 've got a xxmaj shakespearean / xxmaj greek tragedy on your hands . xxmaj proceed with caution .,xxbos xxmaj over xxmaj her xxmaj dead xxmaj body was a nice little movie . xxmaj it was decent and entertaining , while still being pretty funny . xxmaj there were a few cliché 's , but i found most stuff fresh . xxmaj at first i did n't think it was going to be good at all , when it started out . xxmaj if you can get past the first 20 minutes though , the movie starts getting more interesting . xxmaj this film was n't burst out in laughter hilarious , and was n't xxup oh xxup my xxup gosh wonderful . xxmaj it was just a movie that you can sit down and enjoy for how enjoyable it was . i do n't see how this movie was bad . xxmaj it 's rating is just a bit too low . i could 've dealt with a xxunk a xxunk , giving this movie a 1 is disgraceful . xxmaj it was pretty good , and there was nothing horrible enough about it to give it a xxunk is what most people gave it .,xxbos xxmaj finally we have before us a xxmaj category xxup iii movie for the summer 2006 season . xxmaj made of equal parts cruelty , crime and passion , xxmaj dog xxmaj bite xxmaj dog benefits not merely from an apt title , but also flexible direction , superb cinematography and respectable performances from most involved . xxmaj of course there has to be a catch , manifested here in the form of several glaring inconsistencies , yet all told xxup dbd represents the mature spirit we 'd love to see more of in the xxup hk mainstream . \n",
              " \n",
              "  xxmaj it also marks the heralded return of xxmaj edison xxmaj chen , long absent since the xxmaj initial d debacle of a year ago . xxmaj chen 's reserved machismo does wonders for the movie , yet would have had it rough without opposite xxmaj sam xxmaj lee , whose knack for alternating between physical comedy ( xxmaj crazy ' n ' the xxmaj city , xxmaj no xxmaj problem 2 ) and lunatic menace has culminated in the strongest role we 've seen from him since xxmaj made in xxmaj hong xxmaj kong . \n",
              " \n",
              "  xxmaj together , the duo makes xxmaj dog xxmaj bite xxmaj dog , and hopefully xxmaj edison 's going to get an easier break from now on as a consequence : his touch transformed projects from xxmaj princess d to the xxmaj infernal xxmaj affairs saga , and still he remains a rare occurrence . \n",
              " \n",
              "  xxmaj mostly upon commencing , xxup dbd showcases some mesmerizing imagery , playing gorgeous tricks with light , shadow and perspective . xxmaj the soundtrack boosts this atmospheric effect , adding to the overall unreal mood the film xxunk . xxmaj much of the resultant combination probably has to do with writer xxmaj matt xxmaj chow , previously engaged in likewise gruesome xxmaj three xxmaj extremes . xxmaj dog xxmaj bite xxmaj dog retains numerous traits recalled from that horror project , namely rundown xxunk and a pervasive air of something eerie lurking round the corner . \n",
              " \n",
              "  xxmaj rest assured , though , this is n't a horror movie , instead following a path trodden before by classic xxmaj one xxmaj nite in xxmaj xxunk , albeit from a miles more perverse angle . xxmaj replacing xxmaj daniel xxmaj wu 's reluctant mainland assassin character we have xxmaj edison , playing a nameless killing machine hailing from xxmaj cambodia 's underworld . xxmaj sent xxmaj hong xxmaj kong - way to execute a single target , the nearly silent assassin takes care of business immediately upon arrival , a process chillingly depicted courtesy of the film 's brilliant visuals . \n",
              " \n",
              "  xxmaj although weaned from childhood to become a professional killer , xxmaj edison 's eponymous wild dog still has human weaknesses and leaves a trail , picked up on by a xxup cid team sent to investigate . xxmaj this assembly features a nice cameo by mob - movie stalwart xxmaj lam xxmaj suet , and good support from xxup tv star xxmaj wayne xxmaj lai . xxmaj however , xxmaj sam xxmaj lee 's renegade officer xxmaj wai leads the charge , revealing himself to be a highly disturbed individual but excellent cop nonetheless . xxmaj we gradually learn xxmaj wai 's inner - conflict stems from his father 's police corruption background , evoking demons handy in the relentless pursuit that ensues . \n",
              " \n",
              "  a minor body count transpires , as xxmaj edison seems to consider taking prisoners a no - no . xxmaj there 's quite the violence quotient in store , even though gore per se feels toned down in places , and adult language only makes a token appearance . xxmaj once more , no nudity , leading one to conclude xxmaj cat xxup iii 's are being handed these days a bit hastily . xxmaj still , xxup dbd 's a relatively mature theatrical release , and we applaud its arrival . \n",
              " \n",
              "  xxmaj in between the fighting , stabbing , hacking and shooting , even a career murderer needs some romance , and just like xxmaj daniel xxmaj wu had xxmaj cecilia xxmaj cheung in xxmaj one xxmaj nite , so does intrepid xxmaj mr. xxmaj chen get a sweetheart , done beautifully by new comer xxmaj pei xxmaj pei . xxmaj her unnamed character ( lots of anonymity in this one ) meets xxmaj edison 's at a strangely deserted landfill , abused by her father to the point of repulsive madness and yearning for escape . xxmaj when the killer ditches xxup hk , he agrees to take her with him , and they go on the run together , love blooming en route . xxmaj while the movie does n't linger on lovey - dovey stuff , our hearts go out to xxmaj pei xxmaj pei 's tragic character and her endless suffering . xxmaj she renders the timid but valiant protagonist amazingly well , establishing that there are n't any good or bad guys here , evinced by the highly sobering finale . \n",
              " \n",
              "  xxmaj director xxmaj cheang xxmaj soi 's portfolio includes recent suspense thriller xxmaj home xxmaj sweet xxmaj home and xxmaj love xxmaj battlefield with xxmaj xxunk xxmaj chan , two numbers likely surpassed in most accounts by xxmaj dog xxmaj bite xxmaj dog 's sinister demeanor . xxmaj cheang manages to keep xxup dbd flowing throughout , and considering the many parts in play here , stands up to critical standards erected by people like xxmaj johnny xxmaj to in his watershed nocturnal epic xxmaj the xxmaj mission . a couple of glitches do come about , to wit xxmaj edison miraculously shrugging off a shot to the chest , but these are highly forgivable . \n",
              " \n",
              "  xxmaj marking triumphant returns for two young , talented performers of the kind xxmaj hong xxmaj kong needs if we want the city 's movie heyday to come back , xxmaj dog xxmaj bite xxmaj dog does n't stand out for story . xxmaj its forte lies in strong portrayals and style , buoyed along on the strength of thespian muscle and a keen eye for visual and auditory finesse . \n",
              " \n",
              "  xxup hk has a long , time - honored tradition of stories to do with the city 's nighttime alter - ego , something xxmaj dog xxmaj bite xxmaj dog upholds lovingly , amounting to a solid run if not an outright masterpiece . \n",
              " \n",
              "  xxmaj rating : * * * *,xxbos xxmaj idiotic hack crooks , a babe , a safe , a plan and a baby . xxmaj add them all up and you get the best comedy you 've never heard of . \n",
              " \n",
              "  xxmaj even with some a - list star power ( at least a - minus ... okay , b - plus ? ) this movie got very little publicity . \n",
              " \n",
              "  xxmaj but that does not diminish its genius . \n",
              " \n",
              "  xxmaj terrific writing , solid delivery and a believable group of characters . xxmaj some truly classic lines , and a fun twist at the end . \n",
              " \n",
              "  xxmaj this is not some watered - down \" xxmaj nutty xxmaj professor \" comedy . xxmaj these are low - life bad guys . xxmaj they speak low - life bad guy language and they do low - life bad guy things . xxmaj but they do it for your amusement and entertainment , and they do that well . \n",
              " \n",
              "  xxmaj one of the best comedies i 've ever seen .\n",
              "y: LMLabelList\n",
              ",,,,\n",
              "Path: /root/.fastai/data/imdb;\n",
              "\n",
              "Valid: LabelList (10000 items)\n",
              "x: LMTextList\n",
              "xxbos xxmaj beautiful art direction , excellent editing and wonderful stories make this some of the best television ever produced . xxmaj the fact that it was relatively short lived is sadly reflective on the state of television . i highly recommend snatching these up as they 're released , you 'll love them .,xxbos xxmaj werner xxmaj herzog again explores the psyche of a man . xxmaj in \" xxmaj little xxmaj dieter ... \" , we meet an effervescent , brilliant man who survived the war in xxmaj bavaria seeing starvation and strange sights , moved to the xxup u.s. and fulfilled his dream of being a flier . xxmaj war , food , death , survival , hoarding , planes , heads coming off ... how one xxmaj american is born . xxmaj herzog again sees madness as plane of existence and the surreal blends with the poignant as xxmaj herzog himself narratives this psychic travelogue of a xxmaj german becoming an xxmaj american who flies prop planes in a late 20th century war where the culmination of technology , pilgrimage and eating out of garbage cans with spoons is melded with constant optimism into a man redefined into xxmaj american . xxmaj as always with xxmaj herzog we are faced with florid madness , brilliance and what is man in the face of his own excesses , societal and personal . xxmaj we laugh and cringe and are amazed at this man . xxmaj where else for this man but xxmaj america ?,xxbos xxmaj this movie was so very badly written . xxmaj the characters had no depth . xxmaj they should have never made a movie of this . xxmaj my 11 yr old son could write a better screenplay then xxmaj xxunk - rae xxmaj shim . \n",
              " \n",
              "  xxmaj the only actor that did n't suck was the zoo guard . xxmaj he was the only funny and believable one of the lot . \n",
              " \n",
              "  i love movies and try to give them the benefit of the doubt , but this one was up there on my lame list at number 2 . xxmaj number 1 being xxmaj demonicus . \n",
              " \n",
              "  xxmaj for those of you who actually thought this was a good movie , you are in serious need of brain surgery . \n",
              " \n",
              "  xxmaj most of the creatures in the movie were n't even dragons ... so why did they call d - war ?,xxbos xxmaj it 's all about getting what you want when you want it . xxmaj and the message of xxmaj bluebeard 's xxmaj eighth wife is to be careful what you wish for , until what you wish for wishes for you . \n",
              " \n",
              "  xxmaj most men have heard the stories about what happens when your sexual frustration is n't relieved and a certain part of your anatomy turning blue . xxmaj misogynistic pirates aside , xxmaj cooper plays a very wealthy man who is very accustomed to getting what he wants whenever he wants it , learning only too late that it was n't what he expected and never learning his lesson until he runs into the feisty xxmaj claudette xxmaj colbert . xxmaj through a twisted ( in soul and in practice ) business deal , he ends up marring / buying her with the intent of bedding her , but she will have none of it ( literally ) and frustrates him at every turn , and corner , and room , and tourist attraction . \n",
              " \n",
              "  xxmaj the film has definite xxmaj french sensibilities which means it has strong double - entendres and boudoir humor for the day and a sharp edge you 're not accustomed to ( and may not enjoy seeing ) in either xxmaj cooper or xxmaj colbert . xxmaj the whole reason i watched the film was because they are \" likable \" actors , and the whole point of this movie is that they 're unlikable people , or at least likable people who have developed unlikable traits to protect themselves , they think , from the world . \n",
              " \n",
              "  xxmaj if you can accept it on its own terms you 'll find satisfaction in this witty and sophisticated film ... and satisfaction , as we said , is what it 's all about . xxmaj such a movie with such a cast only comes around , after all , once in a ... ummm ... blue moon .,xxbos xxmaj writer & director xxmaj robert xxmaj downey , xxmaj sr . , a pioneer of the underground film movement in the 1960s , satirized the xxmaj new xxmaj york xxmaj madison xxmaj avenue advertising world with his avant - garde comedy \" xxmaj putney xxmaj swope . \" xxmaj downey does n't confine his ridicule to advertising , but tackles black militant culture , the dynamics in xxmaj hollywood 's portrayal of race , the elite white power structure , and character of corruption in any power struggle . xxmaj as audacious and ambitious as \" xxmaj putney xxmaj swope \" strives to be , it qualifies as a terrible film , amateurishly made on a shoe - string budget with a no - name cast and humor that lacks hilarity . xxmaj everything about this movie reeks with improvisation . \" xxmaj putney xxmaj swope \" stirred up controversy during its initial release with its politically incorrect handling of race issues and consumer culture . xxmaj like most xxmaj marx xxmaj brothers movies , the plot is thin , providing an excuse for xxmaj downey 's anecdotal gags , most of which are terrible . \n",
              " \n",
              "  xxmaj the chairman of a prestigious xxmaj madison xxmaj avenue ad agency dies during a board meeting . xxmaj before the body has been removed , the board holds a secret ballot vote to determine who will replace him . xxmaj each member understands that they are forbidden to vote for himself . xxmaj sheer accident occurs when everyone votes for the token black member , xxmaj putney xxmaj swope ( xxmaj arnold xxmaj johnson ) , since none thought anybody would cast a ballot for him . xxmaj swope pink slips all but one of the white executives , surrounds himself with black , pistol packing employees , and xxunk the firm \" xxmaj truth and xxmaj soul xxmaj advertising . \" xxmaj swope decides to alter the face of xxmaj american advertising . xxmaj he refuses to accept clients whose products are alcohol , tobacco , or war toys . xxmaj swope 's clients stage an exodus after he becomes the xxup ceo , and grandstanding attracts a new line - up of clients that show up at his office lugging bags of money and prepared to suffer abuse from xxmaj swope 's militant employees . xxmaj swope exploits his xxmaj african - xxmaj american staff , too , ruthlessly appropriating their ideas after he fires them and conjures up a number of offensive advertising campaigns , all of which are hailed as a ' new wave ' of marketing genius . xxmaj incredibly , xxmaj swope 's conservatism proves successful but the agency becomes the target of government operatives who argue xxmaj swope 's advertising tactics constitute \" a threat to the national security . \" xxmaj the high point of this black & white , xxunk comedy are the television commercials shot in color . xxmaj unfortunately , xxmaj downey does n't know when to cut off these ads that consistently start out cleverly but wear out their welcome . xxmaj the funniest part of \" xxmaj putney xxmaj swope \" involves our eponymous protagonist 's dealings with xxup u.s. xxmaj president xxmaj xxunk in xxmaj washington xxup d.c. ( xxmaj pepi xxmaj xxunk ) , a marihuana - xxunk midget with a xxmaj kissinger - like xxmaj teutonic adviser ( xxmaj larry xxmaj wolf ) spouting tasteless jokes while trying to convince xxmaj swope to come up with an advertising campaign for his new car , the xxmaj xxunk 6 .\n",
              "y: LMLabelList\n",
              ",,,,\n",
              "Path: /root/.fastai/data/imdb;\n",
              "\n",
              "Test: None, model=SequentialRNN(\n",
              "  (0): AWD_LSTM(\n",
              "    (encoder): Embedding(60000, 400, padding_idx=1)\n",
              "    (encoder_dp): EmbeddingDropout(\n",
              "      (emb): Embedding(60000, 400, padding_idx=1)\n",
              "    )\n",
              "    (rnns): ModuleList(\n",
              "      (0): WeightDropout(\n",
              "        (module): LSTM(400, 1152, batch_first=True)\n",
              "      )\n",
              "      (1): WeightDropout(\n",
              "        (module): LSTM(1152, 1152, batch_first=True)\n",
              "      )\n",
              "      (2): WeightDropout(\n",
              "        (module): LSTM(1152, 400, batch_first=True)\n",
              "      )\n",
              "    )\n",
              "    (input_dp): RNNDropout()\n",
              "    (hidden_dps): ModuleList(\n",
              "      (0): RNNDropout()\n",
              "      (1): RNNDropout()\n",
              "      (2): RNNDropout()\n",
              "    )\n",
              "  )\n",
              "  (1): LinearDecoder(\n",
              "    (decoder): Linear(in_features=400, out_features=60000, bias=True)\n",
              "    (output_dp): RNNDropout()\n",
              "  )\n",
              "), opt_func=functools.partial(<class 'torch.optim.adam.Adam'>, betas=(0.9, 0.99)), loss_func=FlattenedLoss of CrossEntropyLoss(), metrics=[<function accuracy at 0x7fce001018c8>], true_wd=True, bn_wd=True, wd=0.01, train_bn=True, path=PosixPath('/root/.fastai/data/imdb'), model_dir='models', callback_fns=[functools.partial(<class 'fastai.basic_train.Recorder'>, add_time=True, silent=False)], callbacks=[...], layer_groups=[Sequential(\n",
              "  (0): WeightDropout(\n",
              "    (module): LSTM(400, 1152, batch_first=True)\n",
              "  )\n",
              "  (1): RNNDropout()\n",
              "), Sequential(\n",
              "  (0): WeightDropout(\n",
              "    (module): LSTM(1152, 1152, batch_first=True)\n",
              "  )\n",
              "  (1): RNNDropout()\n",
              "), Sequential(\n",
              "  (0): WeightDropout(\n",
              "    (module): LSTM(1152, 400, batch_first=True)\n",
              "  )\n",
              "  (1): RNNDropout()\n",
              "), Sequential(\n",
              "  (0): Embedding(60000, 400, padding_idx=1)\n",
              "  (1): EmbeddingDropout(\n",
              "    (emb): Embedding(60000, 400, padding_idx=1)\n",
              "  )\n",
              "  (2): LinearDecoder(\n",
              "    (decoder): Linear(in_features=400, out_features=60000, bias=True)\n",
              "    (output_dp): RNNDropout()\n",
              "  )\n",
              ")], add_time=True, silent=False)\n",
              "loss_scale: 65536\n",
              "max_noskip: 1000\n",
              "dynamic: True\n",
              "clip: None\n",
              "flat_master: False\n",
              "max_scale: 16777216\n",
              "loss_fp32: True], layer_groups=[Sequential(\n",
              "  (0): WeightDropout(\n",
              "    (module): LSTM(400, 1152, batch_first=True)\n",
              "  )\n",
              "  (1): RNNDropout()\n",
              "), Sequential(\n",
              "  (0): WeightDropout(\n",
              "    (module): LSTM(1152, 1152, batch_first=True)\n",
              "  )\n",
              "  (1): RNNDropout()\n",
              "), Sequential(\n",
              "  (0): WeightDropout(\n",
              "    (module): LSTM(1152, 400, batch_first=True)\n",
              "  )\n",
              "  (1): RNNDropout()\n",
              "), Sequential(\n",
              "  (0): Embedding(60000, 400, padding_idx=1)\n",
              "  (1): EmbeddingDropout(\n",
              "    (emb): Embedding(60000, 400, padding_idx=1)\n",
              "  )\n",
              "  (2): LinearDecoder(\n",
              "    (decoder): Linear(in_features=400, out_features=60000, bias=True)\n",
              "    (output_dp): RNNDropout()\n",
              "  )\n",
              ")], add_time=True, silent=False)"
            ]
          },
          "metadata": {
            "tags": []
          },
          "execution_count": 90
        }
      ]
    },
    {
      "cell_type": "markdown",
      "metadata": {
        "id": "zTfmuoyp9K6u"
      },
      "source": [
        "#### The first step in fine-tuning is to train only the last layer of the model. \n",
        "This takes about a half-hour on an NVIDIA RTX-2070 GPU"
      ]
    },
    {
      "cell_type": "code",
      "metadata": {
        "colab": {
          "base_uri": "https://localhost:8080/",
          "height": 80
        },
        "id": "FxrsZXNn9K6u",
        "outputId": "e3e55185-26f4-49cd-cb7b-6881c2df467a"
      },
      "source": [
        "learn_lm.fit_one_cycle(1, lr*10, moms=(0.8,0.7))"
      ],
      "execution_count": 91,
      "outputs": [
        {
          "output_type": "display_data",
          "data": {
            "text/html": [
              "<table border=\"1\" class=\"dataframe\">\n",
              "  <thead>\n",
              "    <tr style=\"text-align: left;\">\n",
              "      <th>epoch</th>\n",
              "      <th>train_loss</th>\n",
              "      <th>valid_loss</th>\n",
              "      <th>accuracy</th>\n",
              "      <th>time</th>\n",
              "    </tr>\n",
              "  </thead>\n",
              "  <tbody>\n",
              "    <tr>\n",
              "      <td>0</td>\n",
              "      <td>4.701788</td>\n",
              "      <td>5.141448</td>\n",
              "      <td>0.200000</td>\n",
              "      <td>22:47</td>\n",
              "    </tr>\n",
              "  </tbody>\n",
              "</table>"
            ],
            "text/plain": [
              "<IPython.core.display.HTML object>"
            ]
          },
          "metadata": {
            "tags": []
          }
        }
      ]
    },
    {
      "cell_type": "markdown",
      "metadata": {
        "id": "LOpOwy3i9K6u"
      },
      "source": [
        "Since this is relatively slow to train, we will save our weights:"
      ]
    },
    {
      "cell_type": "code",
      "metadata": {
        "id": "BTNX50ZD9K6u"
      },
      "source": [
        "learn_lm.save('fit_1')"
      ],
      "execution_count": null,
      "outputs": []
    },
    {
      "cell_type": "code",
      "metadata": {
        "id": "7Bgf5QNP9K6u",
        "outputId": "1315eada-afc1-4274-e32a-02f35457cee2"
      },
      "source": [
        "learn_lm.load('fit_1')"
      ],
      "execution_count": null,
      "outputs": [
        {
          "output_type": "execute_result",
          "data": {
            "text/plain": [
              "LanguageLearner(data=TextLMDataBunch;\n",
              "\n",
              "Train: LabelList (90000 items)\n",
              "x: LMTextList\n",
              "  xxwrep 18 xxbos xxmaj once again xxmaj mr. xxmaj costner has dragged out a movie for far longer than necessary . xxmaj aside from the terrific sea rescue sequences , of which there are very few i just did not care about any of the characters . xxmaj most of us have ghosts in the closet , and xxmaj costner 's character are realized early on , and then forgotten until much later , by which time i did not care . xxmaj the character we should really care about is a very cocky , overconfident xxmaj ashton xxmaj kutcher . xxmaj the problem is he comes off as kid who thinks he 's better than anyone else around him and shows no signs of a cluttered closet . xxmaj his only obstacle appears to be winning over xxmaj costner . xxmaj finally when we are well past the half way point of this stinker , xxmaj costner tells us all about xxmaj kutcher 's ghosts . xxmaj we are told why xxmaj kutcher is driven to be the best with no prior inkling or foreshadowing . xxmaj no magic here , it was all i could do to keep from turning it off an hour in .,  xxwrep 18 xxbos xxmaj this is an example of why the majority of action films are the same . xxmaj generic and boring , there 's really nothing worth watching here . a complete waste of the then barely - tapped talents of xxmaj ice - t and xxmaj ice xxmaj cube , who 've each proven many times over that they are capable of acting , and acting well . xxmaj do n't bother with this one , go see xxmaj new xxmaj jack xxmaj city , xxmaj ricochet or watch xxmaj new xxmaj york xxmaj undercover for xxmaj ice - t , or xxmaj boyz n the xxmaj hood , xxmaj higher xxmaj learning or xxmaj friday for xxmaj ice xxmaj cube and see the real deal . xxmaj ice - t 's horribly cliched dialogue alone makes this film grate at the teeth , and i 'm still wondering what the heck xxmaj bill xxmaj paxton was doing in this film ? xxmaj and why the heck does he always play the exact same character ? xxmaj from xxmaj aliens onward , every film i 've seen with xxmaj bill xxmaj paxton has him playing the exact same irritating character , and at least in xxmaj aliens his character died , which made it somewhat gratifying ... \n",
              " \n",
              "  xxmaj overall , this is second - rate action trash . xxmaj there are countless better films to see , and if you really want to see this one , watch xxmaj judgement xxmaj night , which is practically a carbon copy but has better acting and a better script . xxmaj the only thing that made this at all worth watching was a decent hand on the camera - the cinematography was almost refreshing , which comes close to making up for the horrible film itself - but not quite . 4 / 10 .,  xxwrep 18 xxbos xxmaj first of all i hate those moronic rappers , who could'nt act if they had a gun pressed against their foreheads . xxmaj all they do is curse and shoot each other and acting like xxunk version of gangsters . \n",
              " \n",
              "  xxmaj the movie does n't take more than five minutes to explain what is going on before we 're already at the warehouse xxmaj there is not a single sympathetic character in this movie , except for the homeless guy , who is also the only one with half a brain . \n",
              " \n",
              "  xxmaj bill xxmaj paxton and xxmaj william xxmaj sadler are both hill billies and xxmaj xxunk character is just as much a villain as the gangsters . i did'nt like him right from the start . \n",
              " \n",
              "  xxmaj the movie is filled with pointless violence and xxmaj walter xxmaj hills specialty : people falling through windows with glass flying everywhere . xxmaj there is pretty much no plot and it is a big problem when you root for no - one . xxmaj everybody dies , except from xxmaj paxton and the homeless guy and everybody get what they deserve . \n",
              " \n",
              "  xxmaj the only two black people that can act is the homeless guy and the junkie but they 're actors by profession , not annoying ugly brain dead rappers . \n",
              " \n",
              "  xxmaj stay away from this crap and watch 48 hours 1 and 2 instead . xxmaj at lest they have characters you care about , a sense of humor and nothing but real actors in the cast .,  xxwrep 18 xxbos xxmaj not even the xxmaj beatles could write songs everyone liked , and although xxmaj walter xxmaj hill is no mop - top he 's second to none when it comes to thought provoking action movies . xxmaj the nineties came and social platforms were changing in music and film , the emergence of the xxmaj rapper turned movie star was in full swing , the acting took a back seat to each man 's overpowering regional accent and transparent acting . xxmaj this was one of the many ice - t movies i saw as a kid and loved , only to watch them later and cringe . xxmaj bill xxmaj paxton and xxmaj william xxmaj sadler are firemen with basic lives until a burning building tenant about to go up in flames hands over a map with gold implications . i hand it to xxmaj walter for quickly and neatly setting up the main characters and location . xxmaj but i fault everyone involved for turning out xxmaj lame - o performances . xxmaj ice - t and cube must have been red hot at this time , and while i 've enjoyed both their careers as rappers , in my opinion they fell flat in this movie . xxmaj it 's about ninety minutes of one guy ridiculously turning his back on the other guy to the point you find yourself locked in multiple states of disbelief . xxmaj now this is a movie , its not a documentary so i wo nt waste my time recounting all the stupid plot twists in this movie , but there were many , and they led nowhere . i got the feeling watching this that everyone on set was xxunk of confused and just playing things off the cuff . xxmaj there are two things i still enjoy about it , one involves a scene with a needle and the other is xxmaj sadler 's huge 45 pistol . xxmaj bottom line this movie is like domino 's pizza . xxmaj yeah ill eat it if i 'm hungry and i do n't feel like cooking , xxmaj but i 'm well aware it tastes like crap . 3 stars , meh .,  xxwrep 18 xxbos xxmaj brass pictures ( movies is not a fitting word for them ) really are somewhat brassy . xxmaj their alluring visual qualities are reminiscent of expensive high class xxup tv commercials . xxmaj but unfortunately xxmaj brass pictures are feature films with the pretense of wanting to entertain viewers for over two hours ! xxmaj in this they fail miserably , their undeniable , but rather soft and flabby than steamy , erotic qualities non withstanding . \n",
              " \n",
              "  xxmaj senso ' 45 is a remake of a film by xxmaj luchino xxmaj visconti with the same title and xxmaj alida xxmaj valli and xxmaj farley xxmaj granger in the lead . xxmaj the original tells a story of senseless love and lust in and around xxmaj venice during the xxmaj italian wars of independence . xxmaj brass moved the action from the 19th into the 20th century , 1945 to be exact , so there are xxmaj mussolini murals , men in black shirts , xxmaj german uniforms or the tattered garb of the partisans . xxmaj but it is just window dressing , the historic context is completely negligible . \n",
              " \n",
              "  xxmaj anna xxmaj xxunk plays the attractive aristocratic woman who falls for the amoral xxup ss guy who always puts on too much lipstick . xxmaj she is an attractive , versatile , well trained xxmaj italian actress and clearly above the material . xxmaj her wide range of facial expressions ( xxunk boredom , loathing , delight , fear , hate ... and ecstasy ) are the best reason to watch this picture and worth two stars . xxmaj she endures this basically trashy stuff with an astonishing amount of dignity . i wish some really good parts come along for her . xxmaj she really deserves it .\n",
              "y: LMLabelList\n",
              ",,,,\n",
              "Path: C:\\Users\\cross-entropy\\.fastai\\data\\imdb;\n",
              "\n",
              "Valid: LabelList (10000 items)\n",
              "x: LMTextList\n",
              "xxbos xxup cavite is an example of ultimate independent film , with a very short budget , a very simple concept , an exotic locale , a minimal cast , and a hand - held camera . \n",
              " \n",
              "  xxmaj the story is simple : xxmaj adam ( xxmaj ian xxmaj gamazon ) is called home to the xxmaj phillipines because of a family crisis . xxmaj instead of his family picking him up , he finds himself forced to follow instructions of a man claiming to have his family . xxmaj there 's no clear reason for the abduction , or what makes xxmaj adam a target ; all xxmaj adam really knows is that his every move is watched , and the kidnappers have no regard for their victims . \n",
              " \n",
              "  xxmaj as xxmaj adam follows the obscure instructions , and the obstacles in his way , the audience ca n't help but be caught up in his plight . xxmaj the hand held camera and jumpy editing style enhances the sense of desperation and time . xxmaj the scenes of urban xxmaj phillipines , particular the markets and the squatter holdings are a vivid cacophony . \n",
              " \n",
              "  xxmaj co - directors and xxmaj co - writers xxmaj neill xxmaj xxunk xxmaj xxunk and xxmaj ian xxmaj gamazon have done an outstanding job of making the most out of limited means . xxmaj the economy of the film makes it both intimate and discomfiting , as xxmaj adam is an everyman who only wants his family safe and instead is completely at the whim of an omniscient tormentor . \n",
              " \n",
              "  xxup cavite is an absolute must for anyone who has an interest in film , as storytelling , in it 's structure , and as an art form .,xxbos xxmaj decades ago , a crate filled with weapons grade plutonium crashes on an island and soaks into the ground . xxmaj today , a team of military men are sent to track down a notorious terrorist ( of ambiguous national origin ) and they track him to this polluted island . xxmaj when their raft is destroyed , the team must spend the night on shore , but soon discover that the plutonium has done something awful to the island -- it has called forth hundreds of bloodthirsty velociraptors . \n",
              " \n",
              "  xxmaj let me start this with a lesson : do n't lend a movie to your friend before you 've seen it , especially if you are supposed to be reviewing it for the internet 's finest horror movie site . xxmaj it took me almost a year to get this film back , and the person who borrowed it still had not watched it ( though we ended up seeing it together ) . xxmaj and a second , more important , lesson : when you do watch this , keep your expectations as low as humanly possible . xxmaj because this film ranks among the worst i 've ever seen . \n",
              " \n",
              "  xxmaj my acting in 8th grade was more convincing than the seasoned actors who appear in this film ( xxmaj lorenzo xxmaj lamas , xxmaj stephen xxmaj bauer ) . xxmaj line delivery is very fake , and the words themselves are poorly scripted . xxmaj the opening words come from a man checking out his gun 's scope : \" xxmaj boom . xxmaj dead bad guys . \" xxmaj yes , that 's pure genius at work . xxmaj the only conversation with any depth has two main characters explaining their histories . xxmaj but it , too , seems unnatural and a poor attempt to provide character background and to fill time . xxmaj we did n't need to know anything about their histories , so why bore us with it ? xxmaj and if you think the conversations are bad , you ai n't seen nothing yet . \n",
              " \n",
              "  xxmaj the lighting is atrocious . i generally do n't notice lighting , but my friend ( a former film school student ) was practically vomiting in rage at the way more often than not shadows fell on the actors ' faces and the light would be in the background , focused on nothing in particular . xxmaj most lighting looks like a spotlight in a dim room , and many of the scenes involve a deep , subterranean cavern -- which you 'd then expect to be poorly lit , but had lights coming from all sorts of random angles . xxmaj do n't ask me why . \n",
              " \n",
              "  xxmaj the plot was pretty bad . xxmaj some films can take the idea of military men chasing a terrorist and make a convincing film out of it . xxmaj cat and mouse stories are riveting . xxmaj well , not here . xxmaj the terrorist is really not even part of the story , just an excuse to go to the island . xxmaj and the raptors ? xxmaj and the allosaurus ? xxmaj sure , they came from the plutonium that soaked into the ground . xxmaj but if that makes sense to you , please explain it to me because i have no clue how radiation brings dinosaurs back from millions of years of extinction . \n",
              " \n",
              "  xxmaj by far the worst part of \" xxmaj raptor xxmaj island \" is the animation of the raptors . xxmaj that 's right -- the selling point of the film is the worst aspect . xxmaj the animation is n't just bad , it 's subpar . i ca n't even express the hilarity of cartoons this cheesy . xxmaj and when they get shot ? xxmaj red splats like one would see in an old video game . xxmaj even the airplane , helicopter and xxmaj navy ship are cartoons ... how hard is it to get a model plane ? xxmaj please do n't see \" xxmaj raptor xxmaj island \" unless you need a good laugh or want to get sickeningly drunk . xxmaj sure , you probably want to see it before you see \" xxmaj raptor xxmaj island 2 \" ( which seems to be getting better reviews ) . xxmaj but just avoiding it entirely is your best bet . xxmaj the closest thing i can compare it to is \" xxmaj pinata : xxmaj survival xxmaj island \" , and unfortunately this film makes the pinata look good by comparison . xxmaj you have been warned .,xxbos xxmaj this is one creepy underrated xxmaj gem with chilling performances and a fantastic xxunk xxmaj all the characters are great , and the story was awesome , plus i thought the ending was really xxunk xxmaj the plot was great , and it never bored me , plus while the child actors were bad , they gave me the xxunk xxmaj this happened to be on the space channel a while ago , so i decided to check it out and tape it , i read some good reviews from fellow horror fans , i must say i agree with them , it 's very creepy , and suspenseful , plus xxmaj strother xxmaj martin , was fantastic in his role , as the xxmaj satan worshiper . xxmaj it has tons of creepy atmosphere , and it keeps you guessing throughout , plus all the characters were very likable , and you really start to root for xxmaj ben and his xxunk xxmaj it has plenty of disturbing moments , and the film really shocked me at times , plus , it 's extremely well made on a low xxunk xxmaj this is one creepy underrated gem , with chilling performances and a fantastic finale ! , i highly recommend this one!. xxmaj the xxmaj direction is very good!. xxmaj bernard mceveety does a very good job here , with great camera work , creating a lot of creepy atmosphere , and keeping the film at a very fast pace!. xxmaj ther is a little bit of blood and gore . xxmaj we get a severed leg , lots of bloody corpses , bloody slit throat , slicing and dicing , decapitation , and an impaling . xxmaj the xxmaj acting is xxunk xxmaj strother xxmaj martin is fantastic here ! as the xxmaj satan worshiper , he is extremely creepy , very convincing , was quite chilling , was extremely intense , seemed to be enjoying himself , and just did a fantastic job xxunk xxmaj charles xxmaj bateman is great as the xxmaj dad , he was very caring , very likable , and gave a good show ! , i liked him lots . xxup l.q. xxmaj jones is awesome as the xxmaj sheriff , he was funny , on top of things , looked very young , had a cool character , and just did an awesome job xxunk xxmaj ahna xxmaj capri is good as the girlfriend and did what she had to do pretty well . xxmaj charles xxmaj robinson overacted to the extreme as the xxmaj priest and did n't convince me one bit ! , and that laugh of his was especially bad . xxmaj geri xxmaj reischl is actually decent as the daughter , she was somewhat likable , and only got on my nerves a couple times , i rather liked her . xxmaj alvy xxmaj moore was goofy , but very likable in his role as xxmaj tobey i dug him!. xxmaj rest of the cast do good . xxmaj overall i highly recommend it!. * * * 1 / 2 out of 5,xxbos xxmaj aside from the gross factual inaccuracies of this movie ( ie king xxmaj richard having a son and that son replacing xxmaj john on the throne ) this movie was a sweet love tale full of adventure . i 'm sure that this movie will appeal to the younger generation of girls and boys .,xxbos xxmaj the special effects again are superb but this is xxmaj finding xxmaj nemo in reverse i.e the parents get taken away and xxmaj pi ( xxmaj nemo ) is left behind , if you have n't seen xxmaj finding xxmaj nemo you will like it . \n",
              " \n",
              "  xxmaj it becomes very clear at the beginning of the film what the plot is and takes a long time to reach the end ! \n",
              " \n",
              "  xxmaj there 's is nothing new or nail biting in this one and there is no humour at all , which is very disappointing . \n",
              " \n",
              "  xxmaj all in all very disappointing as a follow up movie to xxmaj shark xxmaj tale which there really are no similarities with it should have been called xxmaj finding xxmaj nemo 2 xxrep 56 !\n",
              "y: LMLabelList\n",
              ",,,,\n",
              "Path: C:\\Users\\cross-entropy\\.fastai\\data\\imdb;\n",
              "\n",
              "Test: None, model=SequentialRNN(\n",
              "  (0): AWD_LSTM(\n",
              "    (encoder): Embedding(60000, 400, padding_idx=1)\n",
              "    (encoder_dp): EmbeddingDropout(\n",
              "      (emb): Embedding(60000, 400, padding_idx=1)\n",
              "    )\n",
              "    (rnns): ModuleList(\n",
              "      (0): WeightDropout(\n",
              "        (module): LSTM(400, 1152, batch_first=True)\n",
              "      )\n",
              "      (1): WeightDropout(\n",
              "        (module): LSTM(1152, 1152, batch_first=True)\n",
              "      )\n",
              "      (2): WeightDropout(\n",
              "        (module): LSTM(1152, 400, batch_first=True)\n",
              "      )\n",
              "    )\n",
              "    (input_dp): RNNDropout()\n",
              "    (hidden_dps): ModuleList(\n",
              "      (0): RNNDropout()\n",
              "      (1): RNNDropout()\n",
              "      (2): RNNDropout()\n",
              "    )\n",
              "  )\n",
              "  (1): LinearDecoder(\n",
              "    (decoder): Linear(in_features=400, out_features=60000, bias=True)\n",
              "    (output_dp): RNNDropout()\n",
              "  )\n",
              "), opt_func=functools.partial(<class 'torch.optim.adam.Adam'>, betas=(0.9, 0.99)), loss_func=FlattenedLoss of CrossEntropyLoss(), metrics=[<function accuracy at 0x00000236A8585048>], true_wd=True, bn_wd=True, wd=0.01, train_bn=True, path=WindowsPath('C:/Users/cross-entropy/.fastai/data/imdb'), model_dir='models', callback_fns=[functools.partial(<class 'fastai.basic_train.Recorder'>, add_time=True, silent=False)], callbacks=[RNNTrainer\n",
              "learn: ...\n",
              "alpha: 2.0\n",
              "beta: 1.0, MixedPrecision\n",
              "learn: ...\n",
              "loss_scale: 2097152.0\n",
              "max_noskip: 1000\n",
              "dynamic: True\n",
              "clip: None\n",
              "flat_master: False\n",
              "max_scale: 16777216\n",
              "loss_fp32: True], layer_groups=[Sequential(\n",
              "  (0): WeightDropout(\n",
              "    (module): LSTM(400, 1152, batch_first=True)\n",
              "  )\n",
              "  (1): RNNDropout()\n",
              "), Sequential(\n",
              "  (0): WeightDropout(\n",
              "    (module): LSTM(1152, 1152, batch_first=True)\n",
              "  )\n",
              "  (1): RNNDropout()\n",
              "), Sequential(\n",
              "  (0): WeightDropout(\n",
              "    (module): LSTM(1152, 400, batch_first=True)\n",
              "  )\n",
              "  (1): RNNDropout()\n",
              "), Sequential(\n",
              "  (0): Embedding(60000, 400, padding_idx=1)\n",
              "  (1): EmbeddingDropout(\n",
              "    (emb): Embedding(60000, 400, padding_idx=1)\n",
              "  )\n",
              "  (2): LinearDecoder(\n",
              "    (decoder): Linear(in_features=400, out_features=60000, bias=True)\n",
              "    (output_dp): RNNDropout()\n",
              "  )\n",
              ")], add_time=True, silent=False)"
            ]
          },
          "metadata": {
            "tags": []
          },
          "execution_count": 65
        }
      ]
    },
    {
      "cell_type": "markdown",
      "metadata": {
        "id": "m8BgRgM-9K6v"
      },
      "source": [
        "#### To complete the fine-tuning, we unfreeze all the weights and retrain\n",
        "Adopting the `wikitext-103` weights as initial values, our neural network will adjust them via optimization, finding new values that are specialized to the \"language\" of `IMDb` movie reviews."
      ]
    },
    {
      "cell_type": "code",
      "metadata": {
        "id": "bWi7h9FQ9K6v"
      },
      "source": [
        "learn_lm.unfreeze()"
      ],
      "execution_count": null,
      "outputs": []
    },
    {
      "cell_type": "markdown",
      "metadata": {
        "id": "SzOnys3P9K6v"
      },
      "source": [
        "Fine tuning the model takes ~30 minutes per epoch on an NVIDIA RTX-2070 GPU, with bs=48<br>\n",
        "Note the relatively low value of accuracy, which did not improve significantly beyond `epoch 4`."
      ]
    },
    {
      "cell_type": "code",
      "metadata": {
        "scrolled": false,
        "id": "qQ8Gk6L19K6v",
        "outputId": "c8316bc6-9f45-4b85-a500-da756e61d3d1"
      },
      "source": [
        "learn_lm.fit_one_cycle(10, lr, moms=(0.8,0.7))"
      ],
      "execution_count": null,
      "outputs": [
        {
          "output_type": "display_data",
          "data": {
            "text/html": [
              "<table border=\"1\" class=\"dataframe\">\n",
              "  <thead>\n",
              "    <tr style=\"text-align: left;\">\n",
              "      <th>epoch</th>\n",
              "      <th>train_loss</th>\n",
              "      <th>valid_loss</th>\n",
              "      <th>accuracy</th>\n",
              "      <th>time</th>\n",
              "    </tr>\n",
              "  </thead>\n",
              "  <tbody>\n",
              "    <tr>\n",
              "      <td>0</td>\n",
              "      <td>3.824557</td>\n",
              "      <td>3.145828</td>\n",
              "      <td>0.428571</td>\n",
              "      <td>30:49</td>\n",
              "    </tr>\n",
              "    <tr>\n",
              "      <td>1</td>\n",
              "      <td>3.785742</td>\n",
              "      <td>3.277813</td>\n",
              "      <td>0.442857</td>\n",
              "      <td>30:39</td>\n",
              "    </tr>\n",
              "    <tr>\n",
              "      <td>2</td>\n",
              "      <td>3.753288</td>\n",
              "      <td>3.111610</td>\n",
              "      <td>0.400000</td>\n",
              "      <td>30:37</td>\n",
              "    </tr>\n",
              "    <tr>\n",
              "      <td>3</td>\n",
              "      <td>3.676771</td>\n",
              "      <td>3.163547</td>\n",
              "      <td>0.357143</td>\n",
              "      <td>30:31</td>\n",
              "    </tr>\n",
              "    <tr>\n",
              "      <td>4</td>\n",
              "      <td>3.605899</td>\n",
              "      <td>3.077933</td>\n",
              "      <td>0.457143</td>\n",
              "      <td>30:21</td>\n",
              "    </tr>\n",
              "    <tr>\n",
              "      <td>5</td>\n",
              "      <td>3.567794</td>\n",
              "      <td>3.045043</td>\n",
              "      <td>0.457143</td>\n",
              "      <td>30:18</td>\n",
              "    </tr>\n",
              "    <tr>\n",
              "      <td>6</td>\n",
              "      <td>3.490480</td>\n",
              "      <td>3.072821</td>\n",
              "      <td>0.414286</td>\n",
              "      <td>30:27</td>\n",
              "    </tr>\n",
              "    <tr>\n",
              "      <td>7</td>\n",
              "      <td>3.434875</td>\n",
              "      <td>3.052906</td>\n",
              "      <td>0.400000</td>\n",
              "      <td>30:18</td>\n",
              "    </tr>\n",
              "    <tr>\n",
              "      <td>8</td>\n",
              "      <td>3.370924</td>\n",
              "      <td>2.990984</td>\n",
              "      <td>0.442857</td>\n",
              "      <td>30:10</td>\n",
              "    </tr>\n",
              "    <tr>\n",
              "      <td>9</td>\n",
              "      <td>3.336241</td>\n",
              "      <td>2.994531</td>\n",
              "      <td>0.457143</td>\n",
              "      <td>30:21</td>\n",
              "    </tr>\n",
              "  </tbody>\n",
              "</table>"
            ],
            "text/plain": [
              "<IPython.core.display.HTML object>"
            ]
          },
          "metadata": {
            "tags": []
          }
        }
      ]
    },
    {
      "cell_type": "markdown",
      "metadata": {
        "id": "a16B1L8W9K6v"
      },
      "source": [
        "#### Save the fine-tuned **language model** and the **encoder**\n",
        "We have to save not just the `fine-tuned` **IMDb language model** but also its **encoder**. The **language model** is the part that tries to guess the next word. The **encoder** is the part that's responsible for creating and updating the hidden state. \n",
        "\n",
        "In the next part we will build a **sentiment classifier** for the IMDb movie reviews. To do this we will need the **encoder** from the **IMDb language model** that we built."
      ]
    },
    {
      "cell_type": "code",
      "metadata": {
        "id": "QsvCDk2R9K6v"
      },
      "source": [
        "learn_lm.save('fine_tuned')"
      ],
      "execution_count": null,
      "outputs": []
    },
    {
      "cell_type": "code",
      "metadata": {
        "id": "v8sbQL639K6v"
      },
      "source": [
        "learn_lm.save_encoder('fine_tuned_enc')"
      ],
      "execution_count": null,
      "outputs": []
    },
    {
      "cell_type": "markdown",
      "metadata": {
        "heading_collapsed": true,
        "id": "UjHWUV5U9K6v"
      },
      "source": [
        "#### Load the saved **model** and its **encoder**"
      ]
    },
    {
      "cell_type": "code",
      "metadata": {
        "hidden": true,
        "id": "Vykps6hF9K6w",
        "outputId": "16bc5c7c-a176-49d0-87aa-fbcf9335475a"
      },
      "source": [
        "learn_lm.load('fine_tuned')"
      ],
      "execution_count": null,
      "outputs": [
        {
          "output_type": "execute_result",
          "data": {
            "text/plain": [
              "LanguageLearner(data=TextLMDataBunch;\n",
              "\n",
              "Train: LabelList (90000 items)\n",
              "x: LMTextList\n",
              "  xxwrep 18 xxbos xxmaj once again xxmaj mr. xxmaj costner has dragged out a movie for far longer than necessary . xxmaj aside from the terrific sea rescue sequences , of which there are very few i just did not care about any of the characters . xxmaj most of us have ghosts in the closet , and xxmaj costner 's character are realized early on , and then forgotten until much later , by which time i did not care . xxmaj the character we should really care about is a very cocky , overconfident xxmaj ashton xxmaj kutcher . xxmaj the problem is he comes off as kid who thinks he 's better than anyone else around him and shows no signs of a cluttered closet . xxmaj his only obstacle appears to be winning over xxmaj costner . xxmaj finally when we are well past the half way point of this stinker , xxmaj costner tells us all about xxmaj kutcher 's ghosts . xxmaj we are told why xxmaj kutcher is driven to be the best with no prior inkling or foreshadowing . xxmaj no magic here , it was all i could do to keep from turning it off an hour in .,  xxwrep 18 xxbos xxmaj this is an example of why the majority of action films are the same . xxmaj generic and boring , there 's really nothing worth watching here . a complete waste of the then barely - tapped talents of xxmaj ice - t and xxmaj ice xxmaj cube , who 've each proven many times over that they are capable of acting , and acting well . xxmaj do n't bother with this one , go see xxmaj new xxmaj jack xxmaj city , xxmaj ricochet or watch xxmaj new xxmaj york xxmaj undercover for xxmaj ice - t , or xxmaj boyz n the xxmaj hood , xxmaj higher xxmaj learning or xxmaj friday for xxmaj ice xxmaj cube and see the real deal . xxmaj ice - t 's horribly cliched dialogue alone makes this film grate at the teeth , and i 'm still wondering what the heck xxmaj bill xxmaj paxton was doing in this film ? xxmaj and why the heck does he always play the exact same character ? xxmaj from xxmaj aliens onward , every film i 've seen with xxmaj bill xxmaj paxton has him playing the exact same irritating character , and at least in xxmaj aliens his character died , which made it somewhat gratifying ... \n",
              " \n",
              "  xxmaj overall , this is second - rate action trash . xxmaj there are countless better films to see , and if you really want to see this one , watch xxmaj judgement xxmaj night , which is practically a carbon copy but has better acting and a better script . xxmaj the only thing that made this at all worth watching was a decent hand on the camera - the cinematography was almost refreshing , which comes close to making up for the horrible film itself - but not quite . 4 / 10 .,  xxwrep 18 xxbos xxmaj first of all i hate those moronic rappers , who could'nt act if they had a gun pressed against their foreheads . xxmaj all they do is curse and shoot each other and acting like xxunk version of gangsters . \n",
              " \n",
              "  xxmaj the movie does n't take more than five minutes to explain what is going on before we 're already at the warehouse xxmaj there is not a single sympathetic character in this movie , except for the homeless guy , who is also the only one with half a brain . \n",
              " \n",
              "  xxmaj bill xxmaj paxton and xxmaj william xxmaj sadler are both hill billies and xxmaj xxunk character is just as much a villain as the gangsters . i did'nt like him right from the start . \n",
              " \n",
              "  xxmaj the movie is filled with pointless violence and xxmaj walter xxmaj hills specialty : people falling through windows with glass flying everywhere . xxmaj there is pretty much no plot and it is a big problem when you root for no - one . xxmaj everybody dies , except from xxmaj paxton and the homeless guy and everybody get what they deserve . \n",
              " \n",
              "  xxmaj the only two black people that can act is the homeless guy and the junkie but they 're actors by profession , not annoying ugly brain dead rappers . \n",
              " \n",
              "  xxmaj stay away from this crap and watch 48 hours 1 and 2 instead . xxmaj at lest they have characters you care about , a sense of humor and nothing but real actors in the cast .,  xxwrep 18 xxbos xxmaj not even the xxmaj beatles could write songs everyone liked , and although xxmaj walter xxmaj hill is no mop - top he 's second to none when it comes to thought provoking action movies . xxmaj the nineties came and social platforms were changing in music and film , the emergence of the xxmaj rapper turned movie star was in full swing , the acting took a back seat to each man 's overpowering regional accent and transparent acting . xxmaj this was one of the many ice - t movies i saw as a kid and loved , only to watch them later and cringe . xxmaj bill xxmaj paxton and xxmaj william xxmaj sadler are firemen with basic lives until a burning building tenant about to go up in flames hands over a map with gold implications . i hand it to xxmaj walter for quickly and neatly setting up the main characters and location . xxmaj but i fault everyone involved for turning out xxmaj lame - o performances . xxmaj ice - t and cube must have been red hot at this time , and while i 've enjoyed both their careers as rappers , in my opinion they fell flat in this movie . xxmaj it 's about ninety minutes of one guy ridiculously turning his back on the other guy to the point you find yourself locked in multiple states of disbelief . xxmaj now this is a movie , its not a documentary so i wo nt waste my time recounting all the stupid plot twists in this movie , but there were many , and they led nowhere . i got the feeling watching this that everyone on set was xxunk of confused and just playing things off the cuff . xxmaj there are two things i still enjoy about it , one involves a scene with a needle and the other is xxmaj sadler 's huge 45 pistol . xxmaj bottom line this movie is like domino 's pizza . xxmaj yeah ill eat it if i 'm hungry and i do n't feel like cooking , xxmaj but i 'm well aware it tastes like crap . 3 stars , meh .,  xxwrep 18 xxbos xxmaj brass pictures ( movies is not a fitting word for them ) really are somewhat brassy . xxmaj their alluring visual qualities are reminiscent of expensive high class xxup tv commercials . xxmaj but unfortunately xxmaj brass pictures are feature films with the pretense of wanting to entertain viewers for over two hours ! xxmaj in this they fail miserably , their undeniable , but rather soft and flabby than steamy , erotic qualities non withstanding . \n",
              " \n",
              "  xxmaj senso ' 45 is a remake of a film by xxmaj luchino xxmaj visconti with the same title and xxmaj alida xxmaj valli and xxmaj farley xxmaj granger in the lead . xxmaj the original tells a story of senseless love and lust in and around xxmaj venice during the xxmaj italian wars of independence . xxmaj brass moved the action from the 19th into the 20th century , 1945 to be exact , so there are xxmaj mussolini murals , men in black shirts , xxmaj german uniforms or the tattered garb of the partisans . xxmaj but it is just window dressing , the historic context is completely negligible . \n",
              " \n",
              "  xxmaj anna xxmaj xxunk plays the attractive aristocratic woman who falls for the amoral xxup ss guy who always puts on too much lipstick . xxmaj she is an attractive , versatile , well trained xxmaj italian actress and clearly above the material . xxmaj her wide range of facial expressions ( xxunk boredom , loathing , delight , fear , hate ... and ecstasy ) are the best reason to watch this picture and worth two stars . xxmaj she endures this basically trashy stuff with an astonishing amount of dignity . i wish some really good parts come along for her . xxmaj she really deserves it .\n",
              "y: LMLabelList\n",
              ",,,,\n",
              "Path: C:\\Users\\cross-entropy\\.fastai\\data\\imdb;\n",
              "\n",
              "Valid: LabelList (10000 items)\n",
              "x: LMTextList\n",
              "xxbos xxup cavite is an example of ultimate independent film , with a very short budget , a very simple concept , an exotic locale , a minimal cast , and a hand - held camera . \n",
              " \n",
              "  xxmaj the story is simple : xxmaj adam ( xxmaj ian xxmaj gamazon ) is called home to the xxmaj phillipines because of a family crisis . xxmaj instead of his family picking him up , he finds himself forced to follow instructions of a man claiming to have his family . xxmaj there 's no clear reason for the abduction , or what makes xxmaj adam a target ; all xxmaj adam really knows is that his every move is watched , and the kidnappers have no regard for their victims . \n",
              " \n",
              "  xxmaj as xxmaj adam follows the obscure instructions , and the obstacles in his way , the audience ca n't help but be caught up in his plight . xxmaj the hand held camera and jumpy editing style enhances the sense of desperation and time . xxmaj the scenes of urban xxmaj phillipines , particular the markets and the squatter holdings are a vivid cacophony . \n",
              " \n",
              "  xxmaj co - directors and xxmaj co - writers xxmaj neill xxmaj xxunk xxmaj xxunk and xxmaj ian xxmaj gamazon have done an outstanding job of making the most out of limited means . xxmaj the economy of the film makes it both intimate and discomfiting , as xxmaj adam is an everyman who only wants his family safe and instead is completely at the whim of an omniscient tormentor . \n",
              " \n",
              "  xxup cavite is an absolute must for anyone who has an interest in film , as storytelling , in it 's structure , and as an art form .,xxbos xxmaj decades ago , a crate filled with weapons grade plutonium crashes on an island and soaks into the ground . xxmaj today , a team of military men are sent to track down a notorious terrorist ( of ambiguous national origin ) and they track him to this polluted island . xxmaj when their raft is destroyed , the team must spend the night on shore , but soon discover that the plutonium has done something awful to the island -- it has called forth hundreds of bloodthirsty velociraptors . \n",
              " \n",
              "  xxmaj let me start this with a lesson : do n't lend a movie to your friend before you 've seen it , especially if you are supposed to be reviewing it for the internet 's finest horror movie site . xxmaj it took me almost a year to get this film back , and the person who borrowed it still had not watched it ( though we ended up seeing it together ) . xxmaj and a second , more important , lesson : when you do watch this , keep your expectations as low as humanly possible . xxmaj because this film ranks among the worst i 've ever seen . \n",
              " \n",
              "  xxmaj my acting in 8th grade was more convincing than the seasoned actors who appear in this film ( xxmaj lorenzo xxmaj lamas , xxmaj stephen xxmaj bauer ) . xxmaj line delivery is very fake , and the words themselves are poorly scripted . xxmaj the opening words come from a man checking out his gun 's scope : \" xxmaj boom . xxmaj dead bad guys . \" xxmaj yes , that 's pure genius at work . xxmaj the only conversation with any depth has two main characters explaining their histories . xxmaj but it , too , seems unnatural and a poor attempt to provide character background and to fill time . xxmaj we did n't need to know anything about their histories , so why bore us with it ? xxmaj and if you think the conversations are bad , you ai n't seen nothing yet . \n",
              " \n",
              "  xxmaj the lighting is atrocious . i generally do n't notice lighting , but my friend ( a former film school student ) was practically vomiting in rage at the way more often than not shadows fell on the actors ' faces and the light would be in the background , focused on nothing in particular . xxmaj most lighting looks like a spotlight in a dim room , and many of the scenes involve a deep , subterranean cavern -- which you 'd then expect to be poorly lit , but had lights coming from all sorts of random angles . xxmaj do n't ask me why . \n",
              " \n",
              "  xxmaj the plot was pretty bad . xxmaj some films can take the idea of military men chasing a terrorist and make a convincing film out of it . xxmaj cat and mouse stories are riveting . xxmaj well , not here . xxmaj the terrorist is really not even part of the story , just an excuse to go to the island . xxmaj and the raptors ? xxmaj and the allosaurus ? xxmaj sure , they came from the plutonium that soaked into the ground . xxmaj but if that makes sense to you , please explain it to me because i have no clue how radiation brings dinosaurs back from millions of years of extinction . \n",
              " \n",
              "  xxmaj by far the worst part of \" xxmaj raptor xxmaj island \" is the animation of the raptors . xxmaj that 's right -- the selling point of the film is the worst aspect . xxmaj the animation is n't just bad , it 's subpar . i ca n't even express the hilarity of cartoons this cheesy . xxmaj and when they get shot ? xxmaj red splats like one would see in an old video game . xxmaj even the airplane , helicopter and xxmaj navy ship are cartoons ... how hard is it to get a model plane ? xxmaj please do n't see \" xxmaj raptor xxmaj island \" unless you need a good laugh or want to get sickeningly drunk . xxmaj sure , you probably want to see it before you see \" xxmaj raptor xxmaj island 2 \" ( which seems to be getting better reviews ) . xxmaj but just avoiding it entirely is your best bet . xxmaj the closest thing i can compare it to is \" xxmaj pinata : xxmaj survival xxmaj island \" , and unfortunately this film makes the pinata look good by comparison . xxmaj you have been warned .,xxbos xxmaj this is one creepy underrated xxmaj gem with chilling performances and a fantastic xxunk xxmaj all the characters are great , and the story was awesome , plus i thought the ending was really xxunk xxmaj the plot was great , and it never bored me , plus while the child actors were bad , they gave me the xxunk xxmaj this happened to be on the space channel a while ago , so i decided to check it out and tape it , i read some good reviews from fellow horror fans , i must say i agree with them , it 's very creepy , and suspenseful , plus xxmaj strother xxmaj martin , was fantastic in his role , as the xxmaj satan worshiper . xxmaj it has tons of creepy atmosphere , and it keeps you guessing throughout , plus all the characters were very likable , and you really start to root for xxmaj ben and his xxunk xxmaj it has plenty of disturbing moments , and the film really shocked me at times , plus , it 's extremely well made on a low xxunk xxmaj this is one creepy underrated gem , with chilling performances and a fantastic finale ! , i highly recommend this one!. xxmaj the xxmaj direction is very good!. xxmaj bernard mceveety does a very good job here , with great camera work , creating a lot of creepy atmosphere , and keeping the film at a very fast pace!. xxmaj ther is a little bit of blood and gore . xxmaj we get a severed leg , lots of bloody corpses , bloody slit throat , slicing and dicing , decapitation , and an impaling . xxmaj the xxmaj acting is xxunk xxmaj strother xxmaj martin is fantastic here ! as the xxmaj satan worshiper , he is extremely creepy , very convincing , was quite chilling , was extremely intense , seemed to be enjoying himself , and just did a fantastic job xxunk xxmaj charles xxmaj bateman is great as the xxmaj dad , he was very caring , very likable , and gave a good show ! , i liked him lots . xxup l.q. xxmaj jones is awesome as the xxmaj sheriff , he was funny , on top of things , looked very young , had a cool character , and just did an awesome job xxunk xxmaj ahna xxmaj capri is good as the girlfriend and did what she had to do pretty well . xxmaj charles xxmaj robinson overacted to the extreme as the xxmaj priest and did n't convince me one bit ! , and that laugh of his was especially bad . xxmaj geri xxmaj reischl is actually decent as the daughter , she was somewhat likable , and only got on my nerves a couple times , i rather liked her . xxmaj alvy xxmaj moore was goofy , but very likable in his role as xxmaj tobey i dug him!. xxmaj rest of the cast do good . xxmaj overall i highly recommend it!. * * * 1 / 2 out of 5,xxbos xxmaj aside from the gross factual inaccuracies of this movie ( ie king xxmaj richard having a son and that son replacing xxmaj john on the throne ) this movie was a sweet love tale full of adventure . i 'm sure that this movie will appeal to the younger generation of girls and boys .,xxbos xxmaj the special effects again are superb but this is xxmaj finding xxmaj nemo in reverse i.e the parents get taken away and xxmaj pi ( xxmaj nemo ) is left behind , if you have n't seen xxmaj finding xxmaj nemo you will like it . \n",
              " \n",
              "  xxmaj it becomes very clear at the beginning of the film what the plot is and takes a long time to reach the end ! \n",
              " \n",
              "  xxmaj there 's is nothing new or nail biting in this one and there is no humour at all , which is very disappointing . \n",
              " \n",
              "  xxmaj all in all very disappointing as a follow up movie to xxmaj shark xxmaj tale which there really are no similarities with it should have been called xxmaj finding xxmaj nemo 2 xxrep 56 !\n",
              "y: LMLabelList\n",
              ",,,,\n",
              "Path: C:\\Users\\cross-entropy\\.fastai\\data\\imdb;\n",
              "\n",
              "Test: None, model=SequentialRNN(\n",
              "  (0): AWD_LSTM(\n",
              "    (encoder): Embedding(60000, 400, padding_idx=1)\n",
              "    (encoder_dp): EmbeddingDropout(\n",
              "      (emb): Embedding(60000, 400, padding_idx=1)\n",
              "    )\n",
              "    (rnns): ModuleList(\n",
              "      (0): WeightDropout(\n",
              "        (module): LSTM(400, 1152, batch_first=True)\n",
              "      )\n",
              "      (1): WeightDropout(\n",
              "        (module): LSTM(1152, 1152, batch_first=True)\n",
              "      )\n",
              "      (2): WeightDropout(\n",
              "        (module): LSTM(1152, 400, batch_first=True)\n",
              "      )\n",
              "    )\n",
              "    (input_dp): RNNDropout()\n",
              "    (hidden_dps): ModuleList(\n",
              "      (0): RNNDropout()\n",
              "      (1): RNNDropout()\n",
              "      (2): RNNDropout()\n",
              "    )\n",
              "  )\n",
              "  (1): LinearDecoder(\n",
              "    (decoder): Linear(in_features=400, out_features=60000, bias=True)\n",
              "    (output_dp): RNNDropout()\n",
              "  )\n",
              "), opt_func=functools.partial(<class 'torch.optim.adam.Adam'>, betas=(0.9, 0.99)), loss_func=FlattenedLoss of CrossEntropyLoss(), metrics=[<function accuracy at 0x00000236A8585048>], true_wd=True, bn_wd=True, wd=0.01, train_bn=True, path=WindowsPath('C:/Users/cross-entropy/.fastai/data/imdb'), model_dir='models', callback_fns=[functools.partial(<class 'fastai.basic_train.Recorder'>, add_time=True, silent=False)], callbacks=[RNNTrainer\n",
              "learn: ...\n",
              "alpha: 2.0\n",
              "beta: 1.0, MixedPrecision\n",
              "learn: ...\n",
              "loss_scale: 2097152.0\n",
              "max_noskip: 1000\n",
              "dynamic: True\n",
              "clip: None\n",
              "flat_master: False\n",
              "max_scale: 16777216\n",
              "loss_fp32: True], layer_groups=[Sequential(\n",
              "  (0): WeightDropout(\n",
              "    (module): LSTM(400, 1152, batch_first=True)\n",
              "  )\n",
              "  (1): RNNDropout()\n",
              "), Sequential(\n",
              "  (0): WeightDropout(\n",
              "    (module): LSTM(1152, 1152, batch_first=True)\n",
              "  )\n",
              "  (1): RNNDropout()\n",
              "), Sequential(\n",
              "  (0): WeightDropout(\n",
              "    (module): LSTM(1152, 400, batch_first=True)\n",
              "  )\n",
              "  (1): RNNDropout()\n",
              "), Sequential(\n",
              "  (0): Embedding(60000, 400, padding_idx=1)\n",
              "  (1): EmbeddingDropout(\n",
              "    (emb): Embedding(60000, 400, padding_idx=1)\n",
              "  )\n",
              "  (2): LinearDecoder(\n",
              "    (decoder): Linear(in_features=400, out_features=60000, bias=True)\n",
              "    (output_dp): RNNDropout()\n",
              "  )\n",
              ")], add_time=True, silent=False)"
            ]
          },
          "metadata": {
            "tags": []
          },
          "execution_count": 70
        }
      ]
    },
    {
      "cell_type": "markdown",
      "metadata": {
        "hidden": true,
        "id": "xvxljtiz9K6w"
      },
      "source": [
        "Now that we've trained our model, different representations have been learned for the words that were in `IMDb` but not `wikitext-103` (remember that at the beginning we had initialized them all to the same thing):"
      ]
    },
    {
      "cell_type": "code",
      "metadata": {
        "hidden": true,
        "id": "c4Ka4TEJ9K6w"
      },
      "source": [
        "enc = learn_lm.model[0].encoder"
      ],
      "execution_count": null,
      "outputs": []
    },
    {
      "cell_type": "code",
      "metadata": {
        "hidden": true,
        "id": "bTnt_odz9K6w",
        "outputId": "57ca942c-6a1c-4c18-e96a-89e589434645"
      },
      "source": [
        "np.allclose(enc.weight[vocab.stoi[\"30-something\"], :], \n",
        "            enc.weight[vocab.stoi[\"linklater\"], :])"
      ],
      "execution_count": null,
      "outputs": [
        {
          "output_type": "execute_result",
          "data": {
            "text/plain": [
              "False"
            ]
          },
          "metadata": {
            "tags": []
          },
          "execution_count": 72
        }
      ]
    },
    {
      "cell_type": "code",
      "metadata": {
        "hidden": true,
        "id": "HGd1Vq2w9K6w",
        "outputId": "9f10ba48-3014-4c2a-d2c2-636bf81cf37f"
      },
      "source": [
        "np.allclose(enc.weight[vocab.stoi[\"30-something\"], :], new_word_vec)"
      ],
      "execution_count": null,
      "outputs": [
        {
          "output_type": "execute_result",
          "data": {
            "text/plain": [
              "False"
            ]
          },
          "metadata": {
            "tags": []
          },
          "execution_count": 73
        }
      ]
    },
    {
      "cell_type": "markdown",
      "metadata": {
        "heading_collapsed": true,
        "id": "gH01crJO9K6w"
      },
      "source": [
        "#### Generate movie review-like text, with the **fine-tuned** ` IMDb` language model\n",
        "Compare these texts to the ones generated with the **untrained** `IMDb model` in part **2A**. Do they seem qualitatively better?"
      ]
    },
    {
      "cell_type": "markdown",
      "metadata": {
        "hidden": true,
        "id": "wD39yM909K6w"
      },
      "source": [
        "How good is our fine-tuned IMDb language model? Well let's try to see what it predicts when given a phrase that might appear in a movie review."
      ]
    },
    {
      "cell_type": "code",
      "metadata": {
        "hidden": true,
        "id": "8IvKDq5z9K6x"
      },
      "source": [
        "TEXT = \"i liked this movie because\"\n",
        "N_WORDS = 40\n",
        "N_SENTENCES = 2"
      ],
      "execution_count": null,
      "outputs": []
    },
    {
      "cell_type": "code",
      "metadata": {
        "hidden": true,
        "id": "i9Fb6z8v9K6x",
        "outputId": "39681608-9523-4caa-d23c-585185eb56e6"
      },
      "source": [
        "print(\"\\n\".join(learn_lm.predict(TEXT, N_WORDS, temperature=0.75) for _ in range(N_SENTENCES)))"
      ],
      "execution_count": null,
      "outputs": [
        {
          "output_type": "stream",
          "text": [
            "i liked this movie because it gave a new perspective on the subject . The story of how to kill a dog was actually a good concept that i found to be very funny . The whole movie is shot with a sense\n",
            "i liked this movie because it was fun to see Fred Macmurray - a good actor - and this movie had a good cast like Gene Hackman , Gene Hackman , Catherine o'hara , William Hurt\n"
          ],
          "name": "stdout"
        }
      ]
    },
    {
      "cell_type": "code",
      "metadata": {
        "hidden": true,
        "id": "ZFVXI-lU9K6x"
      },
      "source": [
        "TEXT = \"This movie was\"\n",
        "N_WORDS = 30\n",
        "N_SENTENCES = 2"
      ],
      "execution_count": null,
      "outputs": []
    },
    {
      "cell_type": "code",
      "metadata": {
        "hidden": true,
        "id": "mh3piQxk9K6x",
        "outputId": "d88734ef-c9a8-4827-8b11-ac71e3211228"
      },
      "source": [
        "print(\"\\n\".join(learn_lm.predict(TEXT, N_WORDS, temperature=0.75) for _ in range(N_SENTENCES)))"
      ],
      "execution_count": null,
      "outputs": [
        {
          "output_type": "stream",
          "text": [
            "This movie was just awful . i mean , they had a lot of money , i mean , they wanted to make money with a $ 35 million budget . And\n",
            "This movie was very pleasant to watch , but it was just too dull . It took us a few minutes to catch the Mexican guy , but he seemed to\n"
          ],
          "name": "stdout"
        }
      ]
    },
    {
      "cell_type": "code",
      "metadata": {
        "hidden": true,
        "id": "eRZiO4Cv9K6y"
      },
      "source": [
        "TEXT = \"I hated this movie\"\n",
        "N_WORDS = 40\n",
        "N_SENTENCES = 2"
      ],
      "execution_count": null,
      "outputs": []
    },
    {
      "cell_type": "code",
      "metadata": {
        "hidden": true,
        "id": "fV9ZowK29K6y",
        "outputId": "5b8cbf60-2fc7-4b10-9428-f12032e3badc"
      },
      "source": [
        "print(\"\\n\".join(learn_lm.predict(TEXT, N_WORDS, temperature=0.75) for _ in range(N_SENTENCES)))"
      ],
      "execution_count": null,
      "outputs": [
        {
          "output_type": "stream",
          "text": [
            "I hated this movie , if only it ever made it to DVD . If you are planning to see this : 1 ) i would recommend that you buy this movie instead of the movie . 2 . It is\n",
            "I hated this movie . It was a little too distant from the book , but the acting was good and the at least some scenes were funny . The story line was pretty good , but it was n't the best\n"
          ],
          "name": "stdout"
        }
      ]
    },
    {
      "cell_type": "markdown",
      "metadata": {
        "heading_collapsed": true,
        "id": "_lAcb1g79K6z"
      },
      "source": [
        "#### Risks of language models"
      ]
    },
    {
      "cell_type": "markdown",
      "metadata": {
        "hidden": true,
        "id": "Xyeuod-k9K62"
      },
      "source": [
        "We will talk about ethical concerns raised by very accurate language models in lesson 7, but here are a few brief notes:\n",
        "\n",
        "In reference to [OpenAI's GPT-2](https://www.theverge.com/2019/2/14/18224704/ai-machine-learning-language-models-read-write-openai-gpt2): Jeremy Howard said, *I’ve been trying to warn people about this for a while. We have the technology to totally fill Twitter, email, and the web up with reasonable-sounding, context-appropriate prose, which would drown out all other speech and be impossible to filter.*\n",
        "\n",
        "For a small example, consider when completely incorrect (but reasonable sounding) ML generated answers were [posted to StackOverflow](https://meta.stackoverflow.com/questions/384596/completely-incorrect-machine-learning-generated-answers?stw=2):\n",
        "\n",
        "<img src=\"https://github.com/rtldr/course-nlp/blob/master/images/robot-overflow.png?raw=1\" alt=\"Roboflow\" style=\"width: 80%\"/>"
      ]
    },
    {
      "cell_type": "markdown",
      "metadata": {
        "hidden": true,
        "id": "Z-mTXbhe9K7F"
      },
      "source": [
        "<img src=\"https://github.com/rtldr/course-nlp/blob/master/images/husain-tweet.png?raw=1\" alt=\"Roboflow\" style=\"width: 60%\"/>"
      ]
    },
    {
      "cell_type": "markdown",
      "metadata": {
        "id": "luK2wCPw9K7G"
      },
      "source": [
        "## 3. Building an `IMDb Sentiment Classifier`\n",
        "#### We'll now use **transfer learning** to create a `classifier`, again starting from the pretrained weights of the `wikitext-103` language model.  We'll also need the `IMDb language model` **encoder** that we saved previously. "
      ]
    },
    {
      "cell_type": "markdown",
      "metadata": {
        "id": "0cNI1be19K7G"
      },
      "source": [
        "### 3A. Load and preprocess the data, and form a `databunch`\n",
        "Using fastai's flexible API, we will now create a different kind of `databunch` object, one that is suitable for a **classifier** rather than a for **language model** (as we did in **2A**). This time we'll keep the labels for the `IMDb` movie reviews data. \n",
        "\n",
        "Add the `try-except` wrapper workaround for the bug in the `fastai Text API`\n",
        "\n",
        "Here the batch size is decreased from 48 to 8, to avoid a `CUDA out of memory error`; your hardware may be able to handle a larger batch, in which case training will likely be faster.\n",
        "\n",
        "Again, this takes a bit of time."
      ]
    },
    {
      "cell_type": "code",
      "metadata": {
        "id": "Zb9F9Svh9K7G"
      },
      "source": [
        "bs=8"
      ],
      "execution_count": null,
      "outputs": []
    },
    {
      "cell_type": "code",
      "metadata": {
        "hidden": true,
        "id": "qdE6EfFy9K7H",
        "outputId": "dadb1c94-a015-49ac-f05e-d9047877f0b1"
      },
      "source": [
        "%%time\n",
        "\n",
        "# throws `BrokenProcessPool' Error sometimes. Keep trying `till it works!\n",
        "#    the progress bar has to complete three consecutive steps. Why three? \n",
        "#    fails nearly 100 times, and doesn't respond to interrupt\n",
        "count = 0\n",
        "error = True\n",
        "while error:\n",
        "    try: \n",
        "        # Preprocessing steps\n",
        "        data_clas = (TextList.from_folder(path, vocab=data_lm.vocab)\n",
        "             #grab all the text files in path\n",
        "             .split_by_folder(valid='test')\n",
        "             #split by train and valid folder (that only keeps 'train' and 'test' so no need to filter)\n",
        "             .label_from_folder(classes=['neg', 'pos']))\n",
        "             #label them all with their folders\n",
        "             #.databunch(bs=bs, num_workers=1))\n",
        "        error = False\n",
        "        print(f'failure count is {count}\\n')   \n",
        "        \n",
        "    except: # catch *all* exceptions\n",
        "        # accumulate failure count\n",
        "        count = count + 1\n",
        "        print(f'failure count is {count}')"
      ],
      "execution_count": null,
      "outputs": [
        {
          "output_type": "stream",
          "text": [
            "failure count is 5\n",
            "\n",
            "Wall time: 9min 15s\n"
          ],
          "name": "stdout"
        }
      ]
    },
    {
      "cell_type": "markdown",
      "metadata": {
        "id": "KH9zV9zU9K7H"
      },
      "source": [
        "#### Form the preprocessed data into a `databunch`"
      ]
    },
    {
      "cell_type": "code",
      "metadata": {
        "id": "XJYZUT939K7H"
      },
      "source": [
        "data_clas = data_clas.databunch(bs=bs, num_workers=1)"
      ],
      "execution_count": null,
      "outputs": []
    },
    {
      "cell_type": "markdown",
      "metadata": {
        "id": "iO3kP6FZ9K7I"
      },
      "source": [
        "#### Save the databunch (since it took so long to make) and load it"
      ]
    },
    {
      "cell_type": "code",
      "metadata": {
        "id": "ENnBk2q19K7I"
      },
      "source": [
        "data_clas.save('imdb_textlist_class')"
      ],
      "execution_count": null,
      "outputs": []
    },
    {
      "cell_type": "code",
      "metadata": {
        "id": "sqEWyOGT9K7I"
      },
      "source": [
        "data_clas = load_data(path, 'imdb_textlist_class', bs=bs, num_workers=1)"
      ],
      "execution_count": null,
      "outputs": []
    },
    {
      "cell_type": "code",
      "metadata": {
        "id": "eHvhVpld9K7I",
        "outputId": "0ff273c4-3c28-4d7f-cf5d-6361c8c89f8b"
      },
      "source": [
        "data_clas.show_batch()"
      ],
      "execution_count": null,
      "outputs": [
        {
          "output_type": "display_data",
          "data": {
            "text/html": [
              "<table border=\"1\" class=\"dataframe\">\n",
              "  <thead>\n",
              "    <tr style=\"text-align: right;\">\n",
              "      <th>text</th>\n",
              "      <th>target</th>\n",
              "    </tr>\n",
              "  </thead>\n",
              "  <tbody>\n",
              "    <tr>\n",
              "      <td>xxbos xxmaj match 1 : xxmaj tag xxmaj team xxmaj table xxmaj match xxmaj bubba xxmaj ray and xxmaj spike xxmaj dudley vs xxmaj eddie xxmaj guerrero and xxmaj chris xxmaj benoit xxmaj bubba xxmaj ray and xxmaj spike xxmaj dudley started things off with a xxmaj tag xxmaj team xxmaj table xxmaj match against xxmaj eddie xxmaj guerrero and xxmaj chris xxmaj benoit . xxmaj according to the rules</td>\n",
              "      <td>pos</td>\n",
              "    </tr>\n",
              "    <tr>\n",
              "      <td>xxbos xxmaj some have praised _ xxunk _ as a xxmaj disney adventure for adults . i do n't think so -- at least not for thinking adults . \\n \\n  xxmaj this script suggests a beginning as a live - action movie , that struck someone as the type of crap you can not sell to adults anymore . xxmaj the \" crack staff \" of many older</td>\n",
              "      <td>neg</td>\n",
              "    </tr>\n",
              "    <tr>\n",
              "      <td>xxbos xxmaj this movie was recently released on xxup dvd in the xxup us and i finally got the chance to see this hard - to - find gem . xxmaj it even came with original theatrical previews of other xxmaj italian horror classics like \" xxup xxunk \" and \" xxup beyond xxup the xxup darkness \" . xxmaj unfortunately , the previews were the best thing about this</td>\n",
              "      <td>neg</td>\n",
              "    </tr>\n",
              "    <tr>\n",
              "      <td>xxbos xxmaj there are many adaptations of xxmaj charlotte xxmaj brontë 's classic novel \" xxmaj jane xxmaj eyre \" , and taking into consideration the numerous reviews written about them there is also a lively discussion on which of them is the best . xxmaj the short film adaptations all suffer from the fact that it is simply not possible to cram the whole plot of the novel into</td>\n",
              "      <td>pos</td>\n",
              "    </tr>\n",
              "    <tr>\n",
              "      <td>xxbos xxmaj title : xxmaj zombie 3 ( 1988 ) \\n \\n  xxmaj directors : xxmaj mostly xxmaj lucio xxmaj fulci , but also xxmaj claudio xxmaj fragasso and xxmaj bruno xxmaj mattei \\n \\n  xxmaj cast : xxmaj xxunk xxunk , xxmaj massimo xxmaj xxunk , xxmaj beatrice xxmaj ring , xxmaj deran xxmaj xxunk \\n \\n  xxmaj review : \\n \\n  xxmaj to review</td>\n",
              "      <td>neg</td>\n",
              "    </tr>\n",
              "  </tbody>\n",
              "</table>"
            ],
            "text/plain": [
              "<IPython.core.display.HTML object>"
            ]
          },
          "metadata": {
            "tags": []
          }
        }
      ]
    },
    {
      "cell_type": "markdown",
      "metadata": {
        "id": "0QSK3nwn9K7J"
      },
      "source": [
        "### 3B. Create a model to **classify** the `IMDb` reviews, and load the **encoder** we saved before.\n",
        "#### Freeze the weights for all but the last layer and find a good value for the learning rate. "
      ]
    },
    {
      "cell_type": "code",
      "metadata": {
        "id": "t7qWt93D9K7J"
      },
      "source": [
        "learn_c = text_classifier_learner(data_clas, AWD_LSTM, drop_mult=0.3).to_fp16()\n",
        "learn_c.load_encoder('fine_tuned_enc')\n",
        "learn_c.freeze()"
      ],
      "execution_count": null,
      "outputs": []
    },
    {
      "cell_type": "code",
      "metadata": {
        "id": "SD_x0BcM9K7J",
        "outputId": "a33f27c1-6805-42e9-c71d-45887793a506"
      },
      "source": [
        "learn_c.lr_find()"
      ],
      "execution_count": null,
      "outputs": [
        {
          "output_type": "display_data",
          "data": {
            "text/html": [
              ""
            ],
            "text/plain": [
              "<IPython.core.display.HTML object>"
            ]
          },
          "metadata": {
            "tags": []
          }
        },
        {
          "output_type": "stream",
          "text": [
            "LR Finder is complete, type {learner_name}.recorder.plot() to see the graph.\n"
          ],
          "name": "stdout"
        }
      ]
    },
    {
      "cell_type": "code",
      "metadata": {
        "id": "OuBs3w9_9K7J",
        "outputId": "8762d745-2f8d-492f-85a0-23d773316a2c"
      },
      "source": [
        "learn_c.recorder.plot()"
      ],
      "execution_count": null,
      "outputs": [
        {
          "output_type": "display_data",
          "data": {
            "image/png": "[encoded data removed]",
            "text/plain": [
              "<Figure size 432x288 with 1 Axes>"
            ]
          },
          "metadata": {
            "tags": [],
            "needs_background": "light"
          }
        }
      ]
    },
    {
      "cell_type": "markdown",
      "metadata": {
        "id": "6myfTi949K7K"
      },
      "source": [
        "### 3C. Training and fine-tuning the `IMDb sentiment classifier`"
      ]
    },
    {
      "cell_type": "markdown",
      "metadata": {
        "id": "GcGCDlXa9K7K"
      },
      "source": [
        "#### Train for one cycle, save intermediate result"
      ]
    },
    {
      "cell_type": "code",
      "metadata": {
        "scrolled": false,
        "id": "li_zIpFW9K7K",
        "outputId": "0bc86be3-1e1c-499c-e050-4709fd7686b1"
      },
      "source": [
        "learn_c.fit_one_cycle(1, 2e-2, moms=(0.8,0.7))"
      ],
      "execution_count": null,
      "outputs": [
        {
          "output_type": "display_data",
          "data": {
            "text/html": [
              "<table border=\"1\" class=\"dataframe\">\n",
              "  <thead>\n",
              "    <tr style=\"text-align: left;\">\n",
              "      <th>epoch</th>\n",
              "      <th>train_loss</th>\n",
              "      <th>valid_loss</th>\n",
              "      <th>accuracy</th>\n",
              "      <th>time</th>\n",
              "    </tr>\n",
              "  </thead>\n",
              "  <tbody>\n",
              "    <tr>\n",
              "      <td>0</td>\n",
              "      <td>0.287057</td>\n",
              "      <td>0.202339</td>\n",
              "      <td>0.932720</td>\n",
              "      <td>06:29</td>\n",
              "    </tr>\n",
              "  </tbody>\n",
              "</table>"
            ],
            "text/plain": [
              "<IPython.core.display.HTML object>"
            ]
          },
          "metadata": {
            "tags": []
          }
        }
      ]
    },
    {
      "cell_type": "code",
      "metadata": {
        "id": "ZH-Y5DkH9K7K"
      },
      "source": [
        "learn_c.save('first')"
      ],
      "execution_count": null,
      "outputs": []
    },
    {
      "cell_type": "code",
      "metadata": {
        "id": "BdSSwd3i9K7L"
      },
      "source": [
        "learn_c.load('first');"
      ],
      "execution_count": null,
      "outputs": []
    },
    {
      "cell_type": "markdown",
      "metadata": {
        "id": "OGDyYOVb9K7L"
      },
      "source": [
        "#### Unfreeze last two layers and train for one cycle, save intermediate result."
      ]
    },
    {
      "cell_type": "code",
      "metadata": {
        "id": "Ndm-7sDl9K7L",
        "outputId": "82c1afc9-575d-4d8c-b605-9b7b3c952e68"
      },
      "source": [
        "learn_c.freeze_to(-2)\n",
        "learn_c.fit_one_cycle(1, slice(1e-2/(2.6**4),1e-2), moms=(0.8,0.7))"
      ],
      "execution_count": null,
      "outputs": [
        {
          "output_type": "display_data",
          "data": {
            "text/html": [
              "<table border=\"1\" class=\"dataframe\">\n",
              "  <thead>\n",
              "    <tr style=\"text-align: left;\">\n",
              "      <th>epoch</th>\n",
              "      <th>train_loss</th>\n",
              "      <th>valid_loss</th>\n",
              "      <th>accuracy</th>\n",
              "      <th>time</th>\n",
              "    </tr>\n",
              "  </thead>\n",
              "  <tbody>\n",
              "    <tr>\n",
              "      <td>0</td>\n",
              "      <td>0.253536</td>\n",
              "      <td>0.164451</td>\n",
              "      <td>0.943320</td>\n",
              "      <td>07:25</td>\n",
              "    </tr>\n",
              "  </tbody>\n",
              "</table>"
            ],
            "text/plain": [
              "<IPython.core.display.HTML object>"
            ]
          },
          "metadata": {
            "tags": []
          }
        }
      ]
    },
    {
      "cell_type": "code",
      "metadata": {
        "id": "e0pqfFhr9K7M"
      },
      "source": [
        "learn_c.save('2nd')"
      ],
      "execution_count": null,
      "outputs": []
    },
    {
      "cell_type": "markdown",
      "metadata": {
        "id": "CAmF3LGP9K7M"
      },
      "source": [
        "#### Unfreeze the last three layers, and train for one cycle, and save intermediate result.\n",
        "At this point we've already beaten the 2017 (pre-transfer learning) state of the art!"
      ]
    },
    {
      "cell_type": "code",
      "metadata": {
        "id": "Lk-thdmP9K7M",
        "outputId": "90ad89c6-3f11-461e-8f63-cdf08a0d3b5c"
      },
      "source": [
        "learn_c.freeze_to(-3)\n",
        "learn_c.fit_one_cycle(1, slice(5e-3/(2.6**4),5e-3), moms=(0.8,0.7))"
      ],
      "execution_count": null,
      "outputs": [
        {
          "output_type": "display_data",
          "data": {
            "text/html": [
              "<table border=\"1\" class=\"dataframe\">\n",
              "  <thead>\n",
              "    <tr style=\"text-align: left;\">\n",
              "      <th>epoch</th>\n",
              "      <th>train_loss</th>\n",
              "      <th>valid_loss</th>\n",
              "      <th>accuracy</th>\n",
              "      <th>time</th>\n",
              "    </tr>\n",
              "  </thead>\n",
              "  <tbody>\n",
              "    <tr>\n",
              "      <td>0</td>\n",
              "      <td>0.207790</td>\n",
              "      <td>0.151074</td>\n",
              "      <td>0.947320</td>\n",
              "      <td>09:21</td>\n",
              "    </tr>\n",
              "  </tbody>\n",
              "</table>"
            ],
            "text/plain": [
              "<IPython.core.display.HTML object>"
            ]
          },
          "metadata": {
            "tags": []
          }
        }
      ]
    },
    {
      "cell_type": "code",
      "metadata": {
        "id": "9xn862g-9K7M"
      },
      "source": [
        "learn_c.save('3rd')"
      ],
      "execution_count": null,
      "outputs": []
    },
    {
      "cell_type": "code",
      "metadata": {
        "id": "aXFxySan9K7M",
        "outputId": "3647b5a4-e6d9-48f2-af27-b3eadb6743a4"
      },
      "source": [
        "learn_c.load('3rd')"
      ],
      "execution_count": null,
      "outputs": [
        {
          "output_type": "execute_result",
          "data": {
            "text/plain": [
              "RNNLearner(data=TextClasDataBunch;\n",
              "\n",
              "Train: LabelList (25000 items)\n",
              "x: TextList\n",
              "xxbos xxmaj story of a man who has unnatural feelings for a pig . xxmaj starts out with a opening scene that is a terrific example of absurd comedy . a formal orchestra audience is turned into an insane , violent mob by the crazy xxunk of it 's singers . xxmaj unfortunately it stays absurd the xxup whole time with no general narrative eventually making it just too off putting . xxmaj even those from the era should be turned off . xxmaj the cryptic dialogue would make xxmaj shakespeare seem easy to a third grader . xxmaj on a technical level it 's better than you might think with some good cinematography by future great xxmaj vilmos xxmaj zsigmond . xxmaj future stars xxmaj sally xxmaj kirkland and xxmaj frederic xxmaj forrest can be seen briefly .,xxbos xxmaj airport ' 77 starts as a brand new luxury 747 plane is loaded up with valuable paintings & such belonging to rich businessman xxmaj philip xxmaj stevens ( xxmaj james xxmaj stewart ) who is flying them & a bunch of xxup vip 's to his estate in preparation of it being opened to the public as a museum , also on board is xxmaj stevens daughter xxmaj julie ( xxmaj kathleen xxmaj quinlan ) & her son . xxmaj the luxury jetliner takes off as planned but mid - air the plane is hi - jacked by the co - pilot xxmaj chambers ( xxmaj robert xxmaj foxworth ) & his two accomplice 's xxmaj banker ( xxmaj monte xxmaj markham ) & xxmaj wilson ( xxmaj michael xxmaj pataki ) who knock the passengers & crew out with sleeping gas , they plan to steal the valuable cargo & land on a disused plane strip on an isolated island but while making his descent xxmaj chambers almost hits an oil rig in the xxmaj ocean & loses control of the plane sending it crashing into the sea where it sinks to the bottom right bang in the middle of the xxmaj bermuda xxmaj triangle . xxmaj with air in short supply , water leaking in & having flown over 200 miles off course the problems mount for the survivor 's as they await help with time fast running out ... \n",
              " \n",
              "  xxmaj also known under the slightly different tile xxmaj airport 1977 this second sequel to the smash - hit disaster thriller xxmaj airport ( 1970 ) was directed by xxmaj jerry xxmaj jameson & while once again like it 's predecessors i ca n't say xxmaj airport ' 77 is any sort of forgotten classic it is entertaining although not necessarily for the right reasons . xxmaj out of the three xxmaj airport films i have seen so far i actually liked this one the best , just . xxmaj it has my favourite plot of the three with a nice mid - air hi - jacking & then the crashing ( did n't he see the oil rig ? ) & sinking of the 747 ( maybe the makers were trying to cross the original xxmaj airport with another popular disaster flick of the period xxmaj the xxmaj poseidon xxmaj adventure ( 1972 ) ) & submerged is where it stays until the end with a stark dilemma facing those trapped inside , either suffocate when the air runs out or drown as the 747 floods or if any of the doors are opened & it 's a decent idea that could have made for a great little disaster flick but bad unsympathetic character 's , dull dialogue , lethargic set - pieces & a real lack of danger or suspense or tension means this is a missed opportunity . xxmaj while the rather sluggish plot keeps one entertained for 108 odd minutes not that much happens after the plane sinks & there 's not as much urgency as i thought there should have been . xxmaj even when the xxmaj navy become involved things do n't pick up that much with a few shots of huge ships & helicopters flying about but there 's just something lacking here . xxmaj george xxmaj kennedy as the jinxed airline worker xxmaj joe xxmaj patroni is back but only gets a couple of scenes & barely even says anything preferring to just look worried in the background . \n",
              " \n",
              "  xxmaj the home video & theatrical version of xxmaj airport ' 77 run 108 minutes while the xxup us xxup tv versions add an extra hour of footage including a new opening credits sequence , many more scenes with xxmaj george xxmaj kennedy as xxmaj patroni , flashbacks to flesh out character 's , longer rescue scenes & the discovery or another couple of dead bodies including the navigator . xxmaj while i would like to see this extra footage i am not sure i could sit through a near three hour cut of xxmaj airport ' 77 . xxmaj as expected the film has dated badly with horrible fashions & interior design choices , i will say no more other than the toy plane model effects are n't great either . xxmaj along with the other two xxmaj airport sequels this takes pride of place in the xxmaj razzie xxmaj award 's xxmaj hall of xxmaj shame although i can think of lots of worse films than this so i reckon that 's a little harsh . xxmaj the action scenes are a little dull unfortunately , the pace is slow & not much excitement or tension is generated which is a shame as i reckon this could have been a pretty good film if made properly . \n",
              " \n",
              "  xxmaj the production values are alright if nothing spectacular . xxmaj the acting is n't great , two time xxmaj oscar winner xxmaj jack xxmaj lemmon has said since it was a mistake to star in this , one time xxmaj oscar winner xxmaj james xxmaj stewart looks old & frail , also one time xxmaj oscar winner xxmaj lee xxmaj grant looks drunk while xxmaj sir xxmaj christopher xxmaj lee is given little to do & there are plenty of other familiar faces to look out for too . \n",
              " \n",
              "  xxmaj airport ' 77 is the most disaster orientated of the three xxmaj airport films so far & i liked the ideas behind it even if they were a bit silly , the production & bland direction does n't help though & a film about a sunken plane just should n't be this boring or lethargic . xxmaj followed by xxmaj the xxmaj concorde ... xxmaj airport ' 79 ( 1979 ) .,xxbos xxmaj this film lacked something i could n't put my finger on at first : charisma on the part of the leading actress . xxmaj this inevitably translated to lack of chemistry when she shared the screen with her leading man . xxmaj even the romantic scenes came across as being merely the actors at play . xxmaj it could very well have been the director who miscalculated what he needed from the actors . i just do n't know . \n",
              " \n",
              "  xxmaj but could it have been the screenplay ? xxmaj just exactly who was the chef in love with ? xxmaj he seemed more enamored of his culinary skills and restaurant , and ultimately of himself and his youthful exploits , than of anybody or anything else . xxmaj he never convinced me he was in love with the princess . \n",
              " \n",
              "  i was disappointed in this movie . xxmaj but , do n't forget it was nominated for an xxmaj oscar , so judge for yourself .,xxbos xxmaj sorry everyone , , , i know this is supposed to be an \" art \" film , , but wow , they should have handed out guns at the screening so people could blow their brains out and not watch . xxmaj although the scene design and photographic direction was excellent , this story is too painful to watch . xxmaj the absence of a sound track was brutal . xxmaj the l xxrep 4 o xxrep 5 n g shots were too long . xxmaj how long can you watch two people just sitting there and talking ? xxmaj especially when the dialogue is two people complaining . i really had a hard time just getting through this film . xxmaj the performances were excellent , but how much of that dark , sombre , uninspired , stuff can you take ? xxmaj the only thing i liked was xxmaj maureen xxmaj stapleton and her red dress and dancing scene . xxmaj otherwise this was a ripoff of xxmaj bergman . xxmaj and i 'm no fan f his either . i think anyone who says they enjoyed 1 1 / 2 hours of this is , , well , lying .,xxbos xxmaj when i was little my parents took me along to the theater to see xxmaj interiors . xxmaj it was one of many movies i watched with my parents , but this was the only one we walked out of . xxmaj since then i had never seen xxmaj interiors until just recently , and i could have lived out the rest of my life without it . xxmaj what a pretentious , ponderous , and painfully boring piece of 70 's wine and cheese tripe . xxmaj woody xxmaj allen is one of my favorite directors but xxmaj interiors is by far the worst piece of crap of his career . xxmaj in the unmistakable style of xxmaj ingmar xxmaj berman , xxmaj allen gives us a dark , angular , muted , insight in to the lives of a family wrought by the psychological damage caused by divorce , estrangement , career , love , non - love , xxunk , whatever . xxmaj the film , intentionally , has no comic relief , no music , and is drenched in shadowy pathos . xxmaj this film style can be best defined as expressionist in nature , using an improvisational method of dialogue to illicit a \" more pronounced depth of meaning and truth \" . xxmaj but xxmaj woody xxmaj allen is no xxmaj ingmar xxmaj bergman . xxmaj the film is painfully slow and dull . xxmaj but beyond that , i simply had no connection with or sympathy for any of the characters . xxmaj instead i felt only contempt for this parade of shuffling , whining , nicotine stained , martyrs in a perpetual quest for identity . xxmaj amid a backdrop of cosmopolitan affluence and baked xxmaj brie intelligentsia the story looms like a fart in the room . xxmaj everyone speaks in affected platitudes and elevated language between cigarettes . xxmaj everyone is \" lost \" and \" struggling \" , desperate to find direction or understanding or whatever and it just goes on and on to the point where you just want to slap all of them . xxmaj it 's never about resolution , it 's only about interminable introspective babble . xxmaj it is nothing more than a psychological drama taken to an extreme beyond the audience 's ability to connect . xxmaj woody xxmaj allen chose to make characters so immersed in themselves we feel left out . xxmaj and for that reason i found this movie painfully self indulgent and spiritually draining . i see what he was going for but his insistence on promoting his message through xxmaj prozac prose and distorted film techniques jettisons it past the point of relevance . i highly recommend this one if you 're feeling a little too happy and need something to remind you of death . xxmaj otherwise , let 's just pretend this film never happened .\n",
              "y: CategoryList\n",
              "neg,neg,neg,neg,neg\n",
              "Path: C:\\Users\\cross-entropy\\.fastai\\data\\imdb;\n",
              "\n",
              "Valid: LabelList (25000 items)\n",
              "x: TextList\n",
              "xxbos xxmaj once again xxmaj mr. xxmaj costner has dragged out a movie for far longer than necessary . xxmaj aside from the terrific sea rescue sequences , of which there are very few i just did not care about any of the characters . xxmaj most of us have ghosts in the closet , and xxmaj costner 's character are realized early on , and then forgotten until much later , by which time i did not care . xxmaj the character we should really care about is a very cocky , overconfident xxmaj ashton xxmaj kutcher . xxmaj the problem is he comes off as kid who thinks he 's better than anyone else around him and shows no signs of a cluttered closet . xxmaj his only obstacle appears to be winning over xxmaj costner . xxmaj finally when we are well past the half way point of this stinker , xxmaj costner tells us all about xxmaj kutcher 's ghosts . xxmaj we are told why xxmaj kutcher is driven to be the best with no prior inkling or foreshadowing . xxmaj no magic here , it was all i could do to keep from turning it off an hour in .,xxbos xxmaj this is an example of why the majority of action films are the same . xxmaj generic and boring , there 's really nothing worth watching here . a complete waste of the then barely - tapped talents of xxmaj ice - t and xxmaj ice xxmaj cube , who 've each proven many times over that they are capable of acting , and acting well . xxmaj do n't bother with this one , go see xxmaj new xxmaj jack xxmaj city , xxmaj ricochet or watch xxmaj new xxmaj york xxmaj undercover for xxmaj ice - t , or xxmaj boyz n the xxmaj hood , xxmaj higher xxmaj learning or xxmaj friday for xxmaj ice xxmaj cube and see the real deal . xxmaj ice - t 's horribly cliched dialogue alone makes this film grate at the teeth , and i 'm still wondering what the heck xxmaj bill xxmaj paxton was doing in this film ? xxmaj and why the heck does he always play the exact same character ? xxmaj from xxmaj aliens onward , every film i 've seen with xxmaj bill xxmaj paxton has him playing the exact same irritating character , and at least in xxmaj aliens his character died , which made it somewhat gratifying ... \n",
              " \n",
              "  xxmaj overall , this is second - rate action trash . xxmaj there are countless better films to see , and if you really want to see this one , watch xxmaj judgement xxmaj night , which is practically a carbon copy but has better acting and a better script . xxmaj the only thing that made this at all worth watching was a decent hand on the camera - the cinematography was almost refreshing , which comes close to making up for the horrible film itself - but not quite . 4 / 10 .,xxbos xxmaj first of all i hate those moronic rappers , who could'nt act if they had a gun pressed against their foreheads . xxmaj all they do is curse and shoot each other and acting like xxunk version of gangsters . \n",
              " \n",
              "  xxmaj the movie does n't take more than five minutes to explain what is going on before we 're already at the warehouse xxmaj there is not a single sympathetic character in this movie , except for the homeless guy , who is also the only one with half a brain . \n",
              " \n",
              "  xxmaj bill xxmaj paxton and xxmaj william xxmaj sadler are both hill billies and xxmaj xxunk character is just as much a villain as the gangsters . i did'nt like him right from the start . \n",
              " \n",
              "  xxmaj the movie is filled with pointless violence and xxmaj walter xxmaj hills specialty : people falling through windows with glass flying everywhere . xxmaj there is pretty much no plot and it is a big problem when you root for no - one . xxmaj everybody dies , except from xxmaj paxton and the homeless guy and everybody get what they deserve . \n",
              " \n",
              "  xxmaj the only two black people that can act is the homeless guy and the junkie but they 're actors by profession , not annoying ugly brain dead rappers . \n",
              " \n",
              "  xxmaj stay away from this crap and watch 48 hours 1 and 2 instead . xxmaj at lest they have characters you care about , a sense of humor and nothing but real actors in the cast .,xxbos xxmaj not even the xxmaj beatles could write songs everyone liked , and although xxmaj walter xxmaj hill is no mop - top he 's second to none when it comes to thought provoking action movies . xxmaj the nineties came and social platforms were changing in music and film , the emergence of the xxmaj rapper turned movie star was in full swing , the acting took a back seat to each man 's overpowering regional accent and transparent acting . xxmaj this was one of the many ice - t movies i saw as a kid and loved , only to watch them later and cringe . xxmaj bill xxmaj paxton and xxmaj william xxmaj sadler are firemen with basic lives until a burning building tenant about to go up in flames hands over a map with gold implications . i hand it to xxmaj walter for quickly and neatly setting up the main characters and location . xxmaj but i fault everyone involved for turning out xxmaj lame - o performances . xxmaj ice - t and cube must have been red hot at this time , and while i 've enjoyed both their careers as rappers , in my opinion they fell flat in this movie . xxmaj it 's about ninety minutes of one guy ridiculously turning his back on the other guy to the point you find yourself locked in multiple states of disbelief . xxmaj now this is a movie , its not a documentary so i wo nt waste my time recounting all the stupid plot twists in this movie , but there were many , and they led nowhere . i got the feeling watching this that everyone on set was xxunk of confused and just playing things off the cuff . xxmaj there are two things i still enjoy about it , one involves a scene with a needle and the other is xxmaj sadler 's huge 45 pistol . xxmaj bottom line this movie is like domino 's pizza . xxmaj yeah ill eat it if i 'm hungry and i do n't feel like cooking , xxmaj but i 'm well aware it tastes like crap . 3 stars , meh .,xxbos xxmaj brass pictures ( movies is not a fitting word for them ) really are somewhat brassy . xxmaj their alluring visual qualities are reminiscent of expensive high class xxup tv commercials . xxmaj but unfortunately xxmaj brass pictures are feature films with the pretense of wanting to entertain viewers for over two hours ! xxmaj in this they fail miserably , their undeniable , but rather soft and flabby than steamy , erotic qualities non withstanding . \n",
              " \n",
              "  xxmaj senso ' 45 is a remake of a film by xxmaj luchino xxmaj visconti with the same title and xxmaj alida xxmaj valli and xxmaj farley xxmaj granger in the lead . xxmaj the original tells a story of senseless love and lust in and around xxmaj venice during the xxmaj italian wars of independence . xxmaj brass moved the action from the 19th into the 20th century , 1945 to be exact , so there are xxmaj mussolini murals , men in black shirts , xxmaj german uniforms or the tattered garb of the partisans . xxmaj but it is just window dressing , the historic context is completely negligible . \n",
              " \n",
              "  xxmaj anna xxmaj xxunk plays the attractive aristocratic woman who falls for the amoral xxup ss guy who always puts on too much lipstick . xxmaj she is an attractive , versatile , well trained xxmaj italian actress and clearly above the material . xxmaj her wide range of facial expressions ( xxunk boredom , loathing , delight , fear , hate ... and ecstasy ) are the best reason to watch this picture and worth two stars . xxmaj she endures this basically trashy stuff with an astonishing amount of dignity . i wish some really good parts come along for her . xxmaj she really deserves it .\n",
              "y: CategoryList\n",
              "neg,neg,neg,neg,neg\n",
              "Path: C:\\Users\\cross-entropy\\.fastai\\data\\imdb;\n",
              "\n",
              "Test: None, model=SequentialRNN(\n",
              "  (0): MultiBatchEncoder(\n",
              "    (module): AWD_LSTM(\n",
              "      (encoder): Embedding(60000, 400, padding_idx=1)\n",
              "      (encoder_dp): EmbeddingDropout(\n",
              "        (emb): Embedding(60000, 400, padding_idx=1)\n",
              "      )\n",
              "      (rnns): ModuleList(\n",
              "        (0): WeightDropout(\n",
              "          (module): LSTM(400, 1152, batch_first=True)\n",
              "        )\n",
              "        (1): WeightDropout(\n",
              "          (module): LSTM(1152, 1152, batch_first=True)\n",
              "        )\n",
              "        (2): WeightDropout(\n",
              "          (module): LSTM(1152, 400, batch_first=True)\n",
              "        )\n",
              "      )\n",
              "      (input_dp): RNNDropout()\n",
              "      (hidden_dps): ModuleList(\n",
              "        (0): RNNDropout()\n",
              "        (1): RNNDropout()\n",
              "        (2): RNNDropout()\n",
              "      )\n",
              "    )\n",
              "  )\n",
              "  (1): PoolingLinearClassifier(\n",
              "    (layers): Sequential(\n",
              "      (0): BatchNorm1d(1200, eps=1e-05, momentum=0.1, affine=True, track_running_stats=True)\n",
              "      (1): Dropout(p=0.12, inplace=False)\n",
              "      (2): Linear(in_features=1200, out_features=50, bias=True)\n",
              "      (3): ReLU(inplace=True)\n",
              "      (4): BatchNorm1d(50, eps=1e-05, momentum=0.1, affine=True, track_running_stats=True)\n",
              "      (5): Dropout(p=0.1, inplace=False)\n",
              "      (6): Linear(in_features=50, out_features=2, bias=True)\n",
              "    )\n",
              "  )\n",
              "), opt_func=functools.partial(<class 'torch.optim.adam.Adam'>, betas=(0.9, 0.99)), loss_func=FlattenedLoss of CrossEntropyLoss(), metrics=[<function accuracy at 0x000001BC017E0F28>], true_wd=True, bn_wd=True, wd=0.01, train_bn=True, path=WindowsPath('C:/Users/cross-entropy/.fastai/data/imdb'), model_dir='models', callback_fns=[functools.partial(<class 'fastai.basic_train.Recorder'>, add_time=True, silent=False)], callbacks=[RNNTrainer\n",
              "learn: ...\n",
              "alpha: 2.0\n",
              "beta: 1.0, MixedPrecision\n",
              "learn: ...\n",
              "loss_scale: 65536\n",
              "max_noskip: 1000\n",
              "dynamic: True\n",
              "clip: None\n",
              "flat_master: False\n",
              "max_scale: 16777216\n",
              "loss_fp32: True], layer_groups=[Sequential(\n",
              "  (0): Embedding(60000, 400, padding_idx=1)\n",
              "  (1): EmbeddingDropout(\n",
              "    (emb): Embedding(60000, 400, padding_idx=1)\n",
              "  )\n",
              "), Sequential(\n",
              "  (0): WeightDropout(\n",
              "    (module): LSTM(400, 1152, batch_first=True)\n",
              "  )\n",
              "  (1): RNNDropout()\n",
              "), Sequential(\n",
              "  (0): WeightDropout(\n",
              "    (module): LSTM(1152, 1152, batch_first=True)\n",
              "  )\n",
              "  (1): RNNDropout()\n",
              "), Sequential(\n",
              "  (0): WeightDropout(\n",
              "    (module): LSTM(1152, 400, batch_first=True)\n",
              "  )\n",
              "  (1): RNNDropout()\n",
              "), Sequential(\n",
              "  (0): PoolingLinearClassifier(\n",
              "    (layers): Sequential(\n",
              "      (0): BatchNorm1d(1200, eps=1e-05, momentum=0.1, affine=True, track_running_stats=True)\n",
              "      (1): Dropout(p=0.12, inplace=False)\n",
              "      (2): Linear(in_features=1200, out_features=50, bias=True)\n",
              "      (3): ReLU(inplace=True)\n",
              "      (4): BatchNorm1d(50, eps=1e-05, momentum=0.1, affine=True, track_running_stats=True)\n",
              "      (5): Dropout(p=0.1, inplace=False)\n",
              "      (6): Linear(in_features=50, out_features=2, bias=True)\n",
              "    )\n",
              "  )\n",
              ")], add_time=True, silent=False)"
            ]
          },
          "metadata": {
            "tags": []
          },
          "execution_count": 10
        }
      ]
    },
    {
      "cell_type": "markdown",
      "metadata": {
        "id": "2PGJpriQ9K7N"
      },
      "source": [
        "#### Unfreeze all the layers, train for two cycles, and save the result."
      ]
    },
    {
      "cell_type": "markdown",
      "metadata": {
        "id": "nHxR6Z9s9K7N"
      },
      "source": [
        "Note: at this step I encountered a `CUDA error: unspecified launch failure`. This is a known (and unsolved) problem with PyTorch when using an LSTM. https://github.com/pytorch/pytorch/issues/27837\n",
        "\n",
        "Nothing to do but try again... and it worked on the second try."
      ]
    },
    {
      "cell_type": "code",
      "metadata": {
        "id": "Cvq1jAn89K7N",
        "outputId": "05c20941-2d36-437e-906b-106a63aa0c6d"
      },
      "source": [
        "learn_c.unfreeze()\n",
        "learn_c.fit_one_cycle(2, slice(1e-3/(2.6**4),1e-3), moms=(0.8,0.7))"
      ],
      "execution_count": null,
      "outputs": [
        {
          "output_type": "display_data",
          "data": {
            "text/html": [
              "<table border=\"1\" class=\"dataframe\">\n",
              "  <thead>\n",
              "    <tr style=\"text-align: left;\">\n",
              "      <th>epoch</th>\n",
              "      <th>train_loss</th>\n",
              "      <th>valid_loss</th>\n",
              "      <th>accuracy</th>\n",
              "      <th>time</th>\n",
              "    </tr>\n",
              "  </thead>\n",
              "  <tbody>\n",
              "    <tr>\n",
              "      <td>0</td>\n",
              "      <td>0.205716</td>\n",
              "      <td>0.144805</td>\n",
              "      <td>0.948720</td>\n",
              "      <td>12:00</td>\n",
              "    </tr>\n",
              "    <tr>\n",
              "      <td>1</td>\n",
              "      <td>0.132235</td>\n",
              "      <td>0.142493</td>\n",
              "      <td>0.949320</td>\n",
              "      <td>12:01</td>\n",
              "    </tr>\n",
              "  </tbody>\n",
              "</table>"
            ],
            "text/plain": [
              "<IPython.core.display.HTML object>"
            ]
          },
          "metadata": {
            "tags": []
          }
        }
      ]
    },
    {
      "cell_type": "markdown",
      "metadata": {
        "id": "4l5WPDLt9K7O"
      },
      "source": [
        "The state of the art for this dataset in 2017 was 94.1%, and we have crushed it!!!"
      ]
    },
    {
      "cell_type": "markdown",
      "metadata": {
        "id": "2izyOw_r9K7O"
      },
      "source": [
        "#### Save the IMDb classifer model"
      ]
    },
    {
      "cell_type": "code",
      "metadata": {
        "id": "kZIpF7cs9K7P"
      },
      "source": [
        "learn_c.save('clas')"
      ],
      "execution_count": null,
      "outputs": []
    },
    {
      "cell_type": "markdown",
      "metadata": {
        "id": "DiuappJ29K7P"
      },
      "source": [
        "#### Let's look at a few examples, just to check that the classifier is working as we think it should. \n",
        "The three outputs of the model predition are the label (`pos` or `neg`) and the class probability estimates for `neg` and `pos`, which meausure the model's confidence in it's prediction. As we'd expect, the model is extremely confident that the first review is `pos` and quite confident that the second review is `neg`. So it passes the test with flying colors. "
      ]
    },
    {
      "cell_type": "code",
      "metadata": {
        "id": "90N7S8jI9K7P",
        "outputId": "3fa47ce6-2c82-424c-ec75-492c911301e4"
      },
      "source": [
        "learn_c.predict(\"I really loved that movie, it was awesome!\")"
      ],
      "execution_count": null,
      "outputs": [
        {
          "output_type": "stream",
          "text": [
            "C:\\Users\\cross-entropy\\Anaconda3\\envs\\fastai\\lib\\site-packages\\fastai\\torch_core.py:83: UserWarning: Tensor is int32: upgrading to int64; for better performance use int64 input\n",
            "  warn('Tensor is int32: upgrading to int64; for better performance use int64 input')\n"
          ],
          "name": "stderr"
        },
        {
          "output_type": "execute_result",
          "data": {
            "text/plain": [
              "(Category pos, tensor(1), tensor([0.0161, 0.9839]))"
            ]
          },
          "metadata": {
            "tags": []
          },
          "execution_count": 13
        }
      ]
    },
    {
      "cell_type": "code",
      "metadata": {
        "id": "oZfNIRV99K7Q",
        "outputId": "7409bb34-990b-4f34-be47-3dd829693755"
      },
      "source": [
        "learn_c.predict(\"I didn't really love that movie, and I didn't think it was awesome.\")"
      ],
      "execution_count": null,
      "outputs": [
        {
          "output_type": "stream",
          "text": [
            "C:\\Users\\cross-entropy\\Anaconda3\\envs\\fastai\\lib\\site-packages\\fastai\\torch_core.py:83: UserWarning: Tensor is int32: upgrading to int64; for better performance use int64 input\n",
            "  warn('Tensor is int32: upgrading to int64; for better performance use int64 input')\n"
          ],
          "name": "stderr"
        },
        {
          "output_type": "execute_result",
          "data": {
            "text/plain": [
              "(Category neg, tensor(0), tensor([0.9698, 0.0302]))"
            ]
          },
          "metadata": {
            "tags": []
          },
          "execution_count": 14
        }
      ]
    },
    {
      "cell_type": "markdown",
      "metadata": {
        "id": "aRRexA8l9K7Q"
      },
      "source": [
        "#### Now that we've built the model, here is the part where you get to have some fun!! Take the model for a spin, try out your own examples!!"
      ]
    },
    {
      "cell_type": "markdown",
      "metadata": {
        "heading_collapsed": true,
        "id": "RPTRYBgO9K7Q"
      },
      "source": [
        "## Appendix: Language Model Zoo"
      ]
    },
    {
      "cell_type": "markdown",
      "metadata": {
        "hidden": true,
        "id": "VTiobGIX9K7Q"
      },
      "source": [
        "fast.ai alumni have applied ULMFit to dozens of different languages, and have beat the SOTA in Thai, Polish, German, Indonesian, Hindi, & Malay.\n",
        "\n",
        "They share tips and best practices in [this forum thread](https://forums.fast.ai/t/language-model-zoo-gorilla/14623) in case you are interested in getting involved!\n",
        "\n",
        "<img src=\"https://github.com/rtldr/course-nlp/blob/master/images/language_model_zoo.png?raw=1\" alt=\"language model zoo\" style=\"width: 80%\"/>"
      ]
    },
    {
      "cell_type": "code",
      "metadata": {
        "hidden": true,
        "id": "bKY0s0st9K7Q"
      },
      "source": [
        ""
      ],
      "execution_count": null,
      "outputs": []
    }
  ]
}